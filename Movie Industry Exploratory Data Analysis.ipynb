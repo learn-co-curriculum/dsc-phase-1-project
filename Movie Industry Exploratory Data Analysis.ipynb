{
 "cells": [
  {
   "cell_type": "markdown",
   "metadata": {},
   "source": [
    "![example](images/Yellow_Popcorn.png)"
   ]
  },
  {
   "cell_type": "markdown",
   "metadata": {},
   "source": [
    "# Movie Industry Exploratory Data Analysis\n",
    "\n",
    "**Author:** Hazal Aydin\n",
    "***"
   ]
  },
  {
   "cell_type": "markdown",
   "metadata": {},
   "source": [
    "## Overview\n",
    "\n",
    "I have been tasked with assisting Microsoft in their new movie studio initative. My goal was to explore what type of movies are currently doing the best at the box office and provide actionable insights based on this exploratory study. My analysis of the movie industry consisted of exploring IMDB and Box Office Mojo (BOM) data and utilising descriptive statistics and visualizations. The time period of the analysis was from 2010 to 2018. The results of the analysis showed that the Sci-Fi genre has the highest potential of the box office success. On the other hand, its distribution of total gross also suggests that the movies' success vary and there are risks involved. The other genres with high success potential are Animation and Adventure. The data also shows the movies that have a runtime between 125 minutes and 180 minutes are highly likely to succeed. Finally, there was no significant correlation between the average IMDB rating and the total gross. However, the results showed that the movies obtained a rating 8 and above had higher mean of total gross. Microsoft can use this report to brief wider exploratory studies and making decisions on the genres and movie lengths."
   ]
  },
  {
   "cell_type": "markdown",
   "metadata": {},
   "source": [
    "## Business Problem\n",
    "\n",
    "Microsoft sees an opportunity to branch out to the multi-billion dollar movie-making industry. They decided to open a Microsoft Movie Studio but the challenge is they don't have the know-how in the industry. To assist them with this initiative, I explored what type of movies bring the highest worldwide gross.\n",
    "\n",
    "I picked three variables to explore:\n",
    "\n",
    "* Genre: Which genres have a higher chance of success? I picked this variable to explore because it can give a general direction of where this initiative is going.\n",
    "* Movie Length: There is a trend of making longer movies in Holywood. I wanted to see if the longer movies have higher box office success - and if there is a limit to the movie length.\n",
    "* Average Rating: The main question I explored if there is a correlation between the IMDB ratings and the worldwide total gross."
   ]
  },
  {
   "cell_type": "markdown",
   "metadata": {},
   "source": [
    "## Data Understanding\n",
    "\n",
    "I used three datasets from two different data sources.\n",
    "\n",
    "***\n",
    "* IMDB Title Basics: It comes from the IMDB website where the information of the movies is stored.\n",
    "* IMDB Title Ratings: It comes from the IMDB website as well but it includes the average ratings that are derived from votes submitted by IMDb users, not movie critics.\n",
    "* Box Office Mojo (BOM) Movie Gross: It contains the domestic and foreign gross figures."
   ]
  },
  {
   "cell_type": "markdown",
   "metadata": {},
   "source": [
    "## Setting Up The Study"
   ]
  },
  {
   "cell_type": "code",
   "execution_count": 1,
   "metadata": {},
   "outputs": [],
   "source": [
    "# Importing standard packages\n",
    "import pandas as pd\n",
    "import numpy as np\n",
    "import matplotlib.pyplot as plt\n",
    "import seaborn as sns\n",
    "%matplotlib inline\n",
    "# Importing the whitegrid theme because I'll use the same theme across the visuals sns.set_theme(style=\"whitegrid\")\n",
    "sns.set_theme(style=\"whitegrid\")"
   ]
  },
  {
   "cell_type": "code",
   "execution_count": 2,
   "metadata": {},
   "outputs": [],
   "source": [
    "# Setting pandas display to avoid scientific notation in my dataframes.\n",
    "# Aiming to have a notebook that reads well.\n",
    "# Note that, I woulnd't use the same formatting across all data analysis tasks. I belive it's relevant for this study.\n",
    "pd.options.display.float_format = '{:.2f}'.format"
   ]
  },
  {
   "cell_type": "code",
   "execution_count": 3,
   "metadata": {
    "scrolled": true
   },
   "outputs": [
    {
     "name": "stdout",
     "output_type": "stream",
     "text": [
      "   random numbers\n",
      "a          123.46\n",
      "b          234.57\n",
      "c          345.68\n",
      "d          456.79\n"
     ]
    }
   ],
   "source": [
    "# Now, I want to check if the code above works with an example.\n",
    "df_examples = pd.DataFrame([123.456789, 234.567812, 345.6789579, 456.789084],\n",
    "                  index = ['a','b','c','d'],\n",
    "                  columns = ['random numbers'])\n",
    "print (df_examples)"
   ]
  },
  {
   "cell_type": "markdown",
   "metadata": {},
   "source": [
    "The formatting is working as intended."
   ]
  },
  {
   "cell_type": "markdown",
   "metadata": {},
   "source": [
    "## Data Preparation"
   ]
  },
  {
   "cell_type": "code",
   "execution_count": 4,
   "metadata": {
    "scrolled": false
   },
   "outputs": [
    {
     "data": {
      "text/html": [
       "<div>\n",
       "<style scoped>\n",
       "    .dataframe tbody tr th:only-of-type {\n",
       "        vertical-align: middle;\n",
       "    }\n",
       "\n",
       "    .dataframe tbody tr th {\n",
       "        vertical-align: top;\n",
       "    }\n",
       "\n",
       "    .dataframe thead th {\n",
       "        text-align: right;\n",
       "    }\n",
       "</style>\n",
       "<table border=\"1\" class=\"dataframe\">\n",
       "  <thead>\n",
       "    <tr style=\"text-align: right;\">\n",
       "      <th></th>\n",
       "      <th>tconst</th>\n",
       "      <th>primary_title</th>\n",
       "      <th>original_title</th>\n",
       "      <th>start_year</th>\n",
       "      <th>runtime_minutes</th>\n",
       "      <th>genres</th>\n",
       "    </tr>\n",
       "  </thead>\n",
       "  <tbody>\n",
       "    <tr>\n",
       "      <th>0</th>\n",
       "      <td>tt0063540</td>\n",
       "      <td>Sunghursh</td>\n",
       "      <td>Sunghursh</td>\n",
       "      <td>2013</td>\n",
       "      <td>175.00</td>\n",
       "      <td>Action,Crime,Drama</td>\n",
       "    </tr>\n",
       "    <tr>\n",
       "      <th>1</th>\n",
       "      <td>tt0066787</td>\n",
       "      <td>One Day Before the Rainy Season</td>\n",
       "      <td>Ashad Ka Ek Din</td>\n",
       "      <td>2019</td>\n",
       "      <td>114.00</td>\n",
       "      <td>Biography,Drama</td>\n",
       "    </tr>\n",
       "    <tr>\n",
       "      <th>2</th>\n",
       "      <td>tt0069049</td>\n",
       "      <td>The Other Side of the Wind</td>\n",
       "      <td>The Other Side of the Wind</td>\n",
       "      <td>2018</td>\n",
       "      <td>122.00</td>\n",
       "      <td>Drama</td>\n",
       "    </tr>\n",
       "    <tr>\n",
       "      <th>3</th>\n",
       "      <td>tt0069204</td>\n",
       "      <td>Sabse Bada Sukh</td>\n",
       "      <td>Sabse Bada Sukh</td>\n",
       "      <td>2018</td>\n",
       "      <td>NaN</td>\n",
       "      <td>Comedy,Drama</td>\n",
       "    </tr>\n",
       "    <tr>\n",
       "      <th>4</th>\n",
       "      <td>tt0100275</td>\n",
       "      <td>The Wandering Soap Opera</td>\n",
       "      <td>La Telenovela Errante</td>\n",
       "      <td>2017</td>\n",
       "      <td>80.00</td>\n",
       "      <td>Comedy,Drama,Fantasy</td>\n",
       "    </tr>\n",
       "  </tbody>\n",
       "</table>\n",
       "</div>"
      ],
      "text/plain": [
       "      tconst                    primary_title              original_title  \\\n",
       "0  tt0063540                        Sunghursh                   Sunghursh   \n",
       "1  tt0066787  One Day Before the Rainy Season             Ashad Ka Ek Din   \n",
       "2  tt0069049       The Other Side of the Wind  The Other Side of the Wind   \n",
       "3  tt0069204                  Sabse Bada Sukh             Sabse Bada Sukh   \n",
       "4  tt0100275         The Wandering Soap Opera       La Telenovela Errante   \n",
       "\n",
       "   start_year  runtime_minutes                genres  \n",
       "0        2013           175.00    Action,Crime,Drama  \n",
       "1        2019           114.00       Biography,Drama  \n",
       "2        2018           122.00                 Drama  \n",
       "3        2018              NaN          Comedy,Drama  \n",
       "4        2017            80.00  Comedy,Drama,Fantasy  "
      ]
     },
     "execution_count": 4,
     "metadata": {},
     "output_type": "execute_result"
    }
   ],
   "source": [
    "# Importing the IMDB title basics file\n",
    "df_title_basics = pd.read_csv('zippedData/imdb.title.basics.csv.gz')\n",
    "df_title_basics.head()"
   ]
  },
  {
   "cell_type": "markdown",
   "metadata": {},
   "source": [
    "The IMDB title basics table contains the movie titles, release year, run time in minutes, genres, and a tracking ID called \"tconst\"."
   ]
  },
  {
   "cell_type": "code",
   "execution_count": 5,
   "metadata": {
    "scrolled": true
   },
   "outputs": [
    {
     "name": "stdout",
     "output_type": "stream",
     "text": [
      "<class 'pandas.core.frame.DataFrame'>\n",
      "RangeIndex: 146144 entries, 0 to 146143\n",
      "Data columns (total 6 columns):\n",
      " #   Column           Non-Null Count   Dtype  \n",
      "---  ------           --------------   -----  \n",
      " 0   tconst           146144 non-null  object \n",
      " 1   primary_title    146144 non-null  object \n",
      " 2   original_title   146123 non-null  object \n",
      " 3   start_year       146144 non-null  int64  \n",
      " 4   runtime_minutes  114405 non-null  float64\n",
      " 5   genres           140736 non-null  object \n",
      "dtypes: float64(1), int64(1), object(4)\n",
      "memory usage: 6.7+ MB\n"
     ]
    }
   ],
   "source": [
    "#Now, let's have a closer look at the Dataframe.\n",
    "df_title_basics.info()"
   ]
  },
  {
   "cell_type": "code",
   "execution_count": 6,
   "metadata": {},
   "outputs": [
    {
     "data": {
      "text/plain": [
       "Documentary                   32185\n",
       "Drama                         21486\n",
       "Comedy                         9177\n",
       "Horror                         4372\n",
       "Comedy,Drama                   3519\n",
       "                              ...  \n",
       "Adventure,Music,Mystery           1\n",
       "Documentary,Horror,Romance        1\n",
       "Sport,Thriller                    1\n",
       "Comedy,Sport,Western              1\n",
       "Adventure,History,War             1\n",
       "Name: genres, Length: 1085, dtype: int64"
      ]
     },
     "execution_count": 6,
     "metadata": {},
     "output_type": "execute_result"
    }
   ],
   "source": [
    "# Immediately, we can see that there are NULL values in the original title, run time, and genre series.\n",
    "# We will need to address the null values later on.\n",
    "# We can also see the data types and it looks like we don't need to make any changes at this point.\n",
    "# Now, I want to see how many different genres the dataset contains.\n",
    "df_title_basics['genres'].value_counts()"
   ]
  },
  {
   "cell_type": "code",
   "execution_count": 7,
   "metadata": {
    "scrolled": true
   },
   "outputs": [
    {
     "data": {
      "text/plain": [
       "2017    17504\n",
       "2016    17272\n",
       "2018    16849\n",
       "2015    16243\n",
       "2014    15589\n",
       "2013    14709\n",
       "2012    13787\n",
       "2011    12900\n",
       "2010    11849\n",
       "2019     8379\n",
       "2020      937\n",
       "2021       83\n",
       "2022       32\n",
       "2023        5\n",
       "2024        2\n",
       "2026        1\n",
       "2025        1\n",
       "2115        1\n",
       "2027        1\n",
       "Name: start_year, dtype: int64"
      ]
     },
     "execution_count": 7,
     "metadata": {},
     "output_type": "execute_result"
    }
   ],
   "source": [
    "# There are 1085 unique genre types.\n",
    "# Now, let's check how far the release date goes back.\n",
    "df_title_basics['start_year'].value_counts()"
   ]
  },
  {
   "cell_type": "code",
   "execution_count": 8,
   "metadata": {},
   "outputs": [
    {
     "data": {
      "text/html": [
       "<div>\n",
       "<style scoped>\n",
       "    .dataframe tbody tr th:only-of-type {\n",
       "        vertical-align: middle;\n",
       "    }\n",
       "\n",
       "    .dataframe tbody tr th {\n",
       "        vertical-align: top;\n",
       "    }\n",
       "\n",
       "    .dataframe thead th {\n",
       "        text-align: right;\n",
       "    }\n",
       "</style>\n",
       "<table border=\"1\" class=\"dataframe\">\n",
       "  <thead>\n",
       "    <tr style=\"text-align: right;\">\n",
       "      <th></th>\n",
       "      <th>tconst</th>\n",
       "      <th>primary_title</th>\n",
       "      <th>original_title</th>\n",
       "      <th>start_year</th>\n",
       "      <th>runtime_minutes</th>\n",
       "      <th>genres</th>\n",
       "    </tr>\n",
       "  </thead>\n",
       "  <tbody>\n",
       "    <tr>\n",
       "      <th>2483</th>\n",
       "      <td>tt10255736</td>\n",
       "      <td>Untitled Marvel Project</td>\n",
       "      <td>Untitled Marvel Project</td>\n",
       "      <td>2023</td>\n",
       "      <td>NaN</td>\n",
       "      <td>Action</td>\n",
       "    </tr>\n",
       "    <tr>\n",
       "      <th>2906</th>\n",
       "      <td>tt10298848</td>\n",
       "      <td>Untitled Disney Live-Action Project</td>\n",
       "      <td>Untitled Disney Live-Action Project</td>\n",
       "      <td>2023</td>\n",
       "      <td>NaN</td>\n",
       "      <td>NaN</td>\n",
       "    </tr>\n",
       "    <tr>\n",
       "      <th>2948</th>\n",
       "      <td>tt10300396</td>\n",
       "      <td>Untitled Star Wars Film</td>\n",
       "      <td>Untitled Star Wars Film</td>\n",
       "      <td>2024</td>\n",
       "      <td>NaN</td>\n",
       "      <td>NaN</td>\n",
       "    </tr>\n",
       "    <tr>\n",
       "      <th>2949</th>\n",
       "      <td>tt10300398</td>\n",
       "      <td>Untitled Star Wars Film</td>\n",
       "      <td>Untitled Star Wars Film</td>\n",
       "      <td>2026</td>\n",
       "      <td>NaN</td>\n",
       "      <td>Fantasy</td>\n",
       "    </tr>\n",
       "    <tr>\n",
       "      <th>16337</th>\n",
       "      <td>tt1757678</td>\n",
       "      <td>Avatar 3</td>\n",
       "      <td>Avatar 3</td>\n",
       "      <td>2023</td>\n",
       "      <td>NaN</td>\n",
       "      <td>Action,Adventure,Drama</td>\n",
       "    </tr>\n",
       "    <tr>\n",
       "      <th>52213</th>\n",
       "      <td>tt3095356</td>\n",
       "      <td>Avatar 4</td>\n",
       "      <td>Avatar 4</td>\n",
       "      <td>2025</td>\n",
       "      <td>NaN</td>\n",
       "      <td>Action,Adventure,Fantasy</td>\n",
       "    </tr>\n",
       "    <tr>\n",
       "      <th>89506</th>\n",
       "      <td>tt5174640</td>\n",
       "      <td>100 Years</td>\n",
       "      <td>100 Years</td>\n",
       "      <td>2115</td>\n",
       "      <td>NaN</td>\n",
       "      <td>Drama</td>\n",
       "    </tr>\n",
       "    <tr>\n",
       "      <th>96592</th>\n",
       "      <td>tt5637536</td>\n",
       "      <td>Avatar 5</td>\n",
       "      <td>Avatar 5</td>\n",
       "      <td>2027</td>\n",
       "      <td>NaN</td>\n",
       "      <td>Action,Adventure,Fantasy</td>\n",
       "    </tr>\n",
       "    <tr>\n",
       "      <th>105187</th>\n",
       "      <td>tt6149054</td>\n",
       "      <td>Fantastic Beasts and Where to Find Them 5</td>\n",
       "      <td>Fantastic Beasts and Where to Find Them 5</td>\n",
       "      <td>2024</td>\n",
       "      <td>NaN</td>\n",
       "      <td>Adventure,Family,Fantasy</td>\n",
       "    </tr>\n",
       "    <tr>\n",
       "      <th>106865</th>\n",
       "      <td>tt6258542</td>\n",
       "      <td>Wraith of the Umbra and Eidolon II</td>\n",
       "      <td>Wraith of the Umbra and Eidolon II</td>\n",
       "      <td>2023</td>\n",
       "      <td>NaN</td>\n",
       "      <td>Adventure,Drama,Fantasy</td>\n",
       "    </tr>\n",
       "    <tr>\n",
       "      <th>111226</th>\n",
       "      <td>tt6495056</td>\n",
       "      <td>Untitled Illumination Entertainment Project</td>\n",
       "      <td>Untitled Illumination Entertainment Project</td>\n",
       "      <td>2023</td>\n",
       "      <td>NaN</td>\n",
       "      <td>NaN</td>\n",
       "    </tr>\n",
       "  </tbody>\n",
       "</table>\n",
       "</div>"
      ],
      "text/plain": [
       "            tconst                                primary_title  \\\n",
       "2483    tt10255736                      Untitled Marvel Project   \n",
       "2906    tt10298848          Untitled Disney Live-Action Project   \n",
       "2948    tt10300396                      Untitled Star Wars Film   \n",
       "2949    tt10300398                      Untitled Star Wars Film   \n",
       "16337    tt1757678                                     Avatar 3   \n",
       "52213    tt3095356                                     Avatar 4   \n",
       "89506    tt5174640                                    100 Years   \n",
       "96592    tt5637536                                     Avatar 5   \n",
       "105187   tt6149054    Fantastic Beasts and Where to Find Them 5   \n",
       "106865   tt6258542           Wraith of the Umbra and Eidolon II   \n",
       "111226   tt6495056  Untitled Illumination Entertainment Project   \n",
       "\n",
       "                                     original_title  start_year  \\\n",
       "2483                        Untitled Marvel Project        2023   \n",
       "2906            Untitled Disney Live-Action Project        2023   \n",
       "2948                        Untitled Star Wars Film        2024   \n",
       "2949                        Untitled Star Wars Film        2026   \n",
       "16337                                      Avatar 3        2023   \n",
       "52213                                      Avatar 4        2025   \n",
       "89506                                     100 Years        2115   \n",
       "96592                                      Avatar 5        2027   \n",
       "105187    Fantastic Beasts and Where to Find Them 5        2024   \n",
       "106865           Wraith of the Umbra and Eidolon II        2023   \n",
       "111226  Untitled Illumination Entertainment Project        2023   \n",
       "\n",
       "        runtime_minutes                    genres  \n",
       "2483                NaN                    Action  \n",
       "2906                NaN                       NaN  \n",
       "2948                NaN                       NaN  \n",
       "2949                NaN                   Fantasy  \n",
       "16337               NaN    Action,Adventure,Drama  \n",
       "52213               NaN  Action,Adventure,Fantasy  \n",
       "89506               NaN                     Drama  \n",
       "96592               NaN  Action,Adventure,Fantasy  \n",
       "105187              NaN  Adventure,Family,Fantasy  \n",
       "106865              NaN   Adventure,Drama,Fantasy  \n",
       "111226              NaN                       NaN  "
      ]
     },
     "execution_count": 8,
     "metadata": {},
     "output_type": "execute_result"
    }
   ],
   "source": [
    "# The data goes back to 2010. They can be called somewhat recent movies and the insights from them would be relevant.\n",
    "# We also see a few movies with release dates after 2022. They haven't been released yet.\n",
    "# Let's check the data that has the start year of 2023 and beyond.\n",
    "df_title_basics.loc[df_title_basics['start_year'] >= 2023]"
   ]
  },
  {
   "cell_type": "code",
   "execution_count": 9,
   "metadata": {},
   "outputs": [
    {
     "data": {
      "text/html": [
       "<div>\n",
       "<style scoped>\n",
       "    .dataframe tbody tr th:only-of-type {\n",
       "        vertical-align: middle;\n",
       "    }\n",
       "\n",
       "    .dataframe tbody tr th {\n",
       "        vertical-align: top;\n",
       "    }\n",
       "\n",
       "    .dataframe thead th {\n",
       "        text-align: right;\n",
       "    }\n",
       "</style>\n",
       "<table border=\"1\" class=\"dataframe\">\n",
       "  <thead>\n",
       "    <tr style=\"text-align: right;\">\n",
       "      <th></th>\n",
       "      <th>tconst</th>\n",
       "      <th>primary_title</th>\n",
       "      <th>original_title</th>\n",
       "      <th>start_year</th>\n",
       "      <th>runtime_minutes</th>\n",
       "      <th>genres</th>\n",
       "    </tr>\n",
       "  </thead>\n",
       "  <tbody>\n",
       "  </tbody>\n",
       "</table>\n",
       "</div>"
      ],
      "text/plain": [
       "Empty DataFrame\n",
       "Columns: [tconst, primary_title, original_title, start_year, runtime_minutes, genres]\n",
       "Index: []"
      ]
     },
     "execution_count": 9,
     "metadata": {},
     "output_type": "execute_result"
    }
   ],
   "source": [
    "# I will remove these movies from the dataset since I don't know how they will perform once they are released.\n",
    "df_title_basics = df_title_basics.loc[df_title_basics['start_year'] <= 2022]\n",
    "df_title_basics.loc[df_title_basics['start_year'] >= 2023]"
   ]
  },
  {
   "cell_type": "code",
   "execution_count": 10,
   "metadata": {},
   "outputs": [
    {
     "data": {
      "text/html": [
       "<div>\n",
       "<style scoped>\n",
       "    .dataframe tbody tr th:only-of-type {\n",
       "        vertical-align: middle;\n",
       "    }\n",
       "\n",
       "    .dataframe tbody tr th {\n",
       "        vertical-align: top;\n",
       "    }\n",
       "\n",
       "    .dataframe thead th {\n",
       "        text-align: right;\n",
       "    }\n",
       "</style>\n",
       "<table border=\"1\" class=\"dataframe\">\n",
       "  <thead>\n",
       "    <tr style=\"text-align: right;\">\n",
       "      <th></th>\n",
       "      <th>tconst</th>\n",
       "      <th>averagerating</th>\n",
       "      <th>numvotes</th>\n",
       "    </tr>\n",
       "  </thead>\n",
       "  <tbody>\n",
       "    <tr>\n",
       "      <th>0</th>\n",
       "      <td>tt10356526</td>\n",
       "      <td>8.30</td>\n",
       "      <td>31</td>\n",
       "    </tr>\n",
       "    <tr>\n",
       "      <th>1</th>\n",
       "      <td>tt10384606</td>\n",
       "      <td>8.90</td>\n",
       "      <td>559</td>\n",
       "    </tr>\n",
       "    <tr>\n",
       "      <th>2</th>\n",
       "      <td>tt1042974</td>\n",
       "      <td>6.40</td>\n",
       "      <td>20</td>\n",
       "    </tr>\n",
       "    <tr>\n",
       "      <th>3</th>\n",
       "      <td>tt1043726</td>\n",
       "      <td>4.20</td>\n",
       "      <td>50352</td>\n",
       "    </tr>\n",
       "    <tr>\n",
       "      <th>4</th>\n",
       "      <td>tt1060240</td>\n",
       "      <td>6.50</td>\n",
       "      <td>21</td>\n",
       "    </tr>\n",
       "  </tbody>\n",
       "</table>\n",
       "</div>"
      ],
      "text/plain": [
       "       tconst  averagerating  numvotes\n",
       "0  tt10356526           8.30        31\n",
       "1  tt10384606           8.90       559\n",
       "2   tt1042974           6.40        20\n",
       "3   tt1043726           4.20     50352\n",
       "4   tt1060240           6.50        21"
      ]
     },
     "execution_count": 10,
     "metadata": {},
     "output_type": "execute_result"
    }
   ],
   "source": [
    "# Moving to my second file \n",
    "# Importing the IMDB title ratings file\n",
    "df_title_ratings = pd.read_csv('zippedData/imdb.title.ratings.csv.gz')\n",
    "df_title_ratings.head()"
   ]
  },
  {
   "cell_type": "markdown",
   "metadata": {},
   "source": [
    "The IMDB title ratings file contains the same \"tconst\" ID as the previous dataset because they are both from IMDB.\n",
    "This dataset also contains average ratings (avg. ratings) for each movie and the number of votes.\n",
    "We can easily merge title basics and title rating datasets, using the \"tconst\" as the key.\n",
    "Finally, we could calculate the total rating value by multiplying \"averagerating\" and \"numvotes\".\n",
    "However, we won't need the total rating value in this study."
   ]
  },
  {
   "cell_type": "code",
   "execution_count": 11,
   "metadata": {},
   "outputs": [
    {
     "name": "stdout",
     "output_type": "stream",
     "text": [
      "<class 'pandas.core.frame.DataFrame'>\n",
      "RangeIndex: 73856 entries, 0 to 73855\n",
      "Data columns (total 3 columns):\n",
      " #   Column         Non-Null Count  Dtype  \n",
      "---  ------         --------------  -----  \n",
      " 0   tconst         73856 non-null  object \n",
      " 1   averagerating  73856 non-null  float64\n",
      " 2   numvotes       73856 non-null  int64  \n",
      "dtypes: float64(1), int64(1), object(1)\n",
      "memory usage: 1.7+ MB\n"
     ]
    }
   ],
   "source": [
    "# Let's have a closer look at the new DataFrame.\n",
    "df_title_ratings.info()"
   ]
  },
  {
   "cell_type": "markdown",
   "metadata": {},
   "source": [
    "The number of entries in the title basics and the title ratings don't match.\n",
    "It means that when we merge the datasets, not all the movies in the title basics will have an average rating."
   ]
  },
  {
   "cell_type": "code",
   "execution_count": 12,
   "metadata": {},
   "outputs": [
    {
     "data": {
      "text/html": [
       "<div>\n",
       "<style scoped>\n",
       "    .dataframe tbody tr th:only-of-type {\n",
       "        vertical-align: middle;\n",
       "    }\n",
       "\n",
       "    .dataframe tbody tr th {\n",
       "        vertical-align: top;\n",
       "    }\n",
       "\n",
       "    .dataframe thead th {\n",
       "        text-align: right;\n",
       "    }\n",
       "</style>\n",
       "<table border=\"1\" class=\"dataframe\">\n",
       "  <thead>\n",
       "    <tr style=\"text-align: right;\">\n",
       "      <th></th>\n",
       "      <th>title</th>\n",
       "      <th>studio</th>\n",
       "      <th>domestic_gross</th>\n",
       "      <th>foreign_gross</th>\n",
       "      <th>year</th>\n",
       "    </tr>\n",
       "  </thead>\n",
       "  <tbody>\n",
       "    <tr>\n",
       "      <th>0</th>\n",
       "      <td>Toy Story 3</td>\n",
       "      <td>BV</td>\n",
       "      <td>415000000.00</td>\n",
       "      <td>652000000</td>\n",
       "      <td>2010</td>\n",
       "    </tr>\n",
       "    <tr>\n",
       "      <th>1</th>\n",
       "      <td>Alice in Wonderland (2010)</td>\n",
       "      <td>BV</td>\n",
       "      <td>334200000.00</td>\n",
       "      <td>691300000</td>\n",
       "      <td>2010</td>\n",
       "    </tr>\n",
       "    <tr>\n",
       "      <th>2</th>\n",
       "      <td>Harry Potter and the Deathly Hallows Part 1</td>\n",
       "      <td>WB</td>\n",
       "      <td>296000000.00</td>\n",
       "      <td>664300000</td>\n",
       "      <td>2010</td>\n",
       "    </tr>\n",
       "    <tr>\n",
       "      <th>3</th>\n",
       "      <td>Inception</td>\n",
       "      <td>WB</td>\n",
       "      <td>292600000.00</td>\n",
       "      <td>535700000</td>\n",
       "      <td>2010</td>\n",
       "    </tr>\n",
       "    <tr>\n",
       "      <th>4</th>\n",
       "      <td>Shrek Forever After</td>\n",
       "      <td>P/DW</td>\n",
       "      <td>238700000.00</td>\n",
       "      <td>513900000</td>\n",
       "      <td>2010</td>\n",
       "    </tr>\n",
       "  </tbody>\n",
       "</table>\n",
       "</div>"
      ],
      "text/plain": [
       "                                         title studio  domestic_gross  \\\n",
       "0                                  Toy Story 3     BV    415000000.00   \n",
       "1                   Alice in Wonderland (2010)     BV    334200000.00   \n",
       "2  Harry Potter and the Deathly Hallows Part 1     WB    296000000.00   \n",
       "3                                    Inception     WB    292600000.00   \n",
       "4                          Shrek Forever After   P/DW    238700000.00   \n",
       "\n",
       "  foreign_gross  year  \n",
       "0     652000000  2010  \n",
       "1     691300000  2010  \n",
       "2     664300000  2010  \n",
       "3     535700000  2010  \n",
       "4     513900000  2010  "
      ]
     },
     "execution_count": 12,
     "metadata": {},
     "output_type": "execute_result"
    }
   ],
   "source": [
    "# Importing the BOM movie gross file\n",
    "df_movie_gross = pd.read_csv('zippedData/bom.movie_gross.csv.gz')\n",
    "df_movie_gross.head()"
   ]
  },
  {
   "cell_type": "markdown",
   "metadata": {},
   "source": [
    "The BOM Movie Gross includes movie titles, studios, release year, and domestic and foreign gross values."
   ]
  },
  {
   "cell_type": "code",
   "execution_count": 13,
   "metadata": {},
   "outputs": [
    {
     "name": "stdout",
     "output_type": "stream",
     "text": [
      "<class 'pandas.core.frame.DataFrame'>\n",
      "RangeIndex: 3387 entries, 0 to 3386\n",
      "Data columns (total 5 columns):\n",
      " #   Column          Non-Null Count  Dtype  \n",
      "---  ------          --------------  -----  \n",
      " 0   title           3387 non-null   object \n",
      " 1   studio          3382 non-null   object \n",
      " 2   domestic_gross  3359 non-null   float64\n",
      " 3   foreign_gross   2037 non-null   object \n",
      " 4   year            3387 non-null   int64  \n",
      "dtypes: float64(1), int64(1), object(3)\n",
      "memory usage: 132.4+ KB\n"
     ]
    }
   ],
   "source": [
    "# Exploring the new DataFrame\n",
    "df_movie_gross.info()"
   ]
  },
  {
   "cell_type": "code",
   "execution_count": 14,
   "metadata": {},
   "outputs": [
    {
     "data": {
      "text/plain": [
       "0   652000000.00\n",
       "1   691300000.00\n",
       "2   664300000.00\n",
       "3   535700000.00\n",
       "4   513900000.00\n",
       "Name: foreign_gross, dtype: float64"
      ]
     },
     "execution_count": 14,
     "metadata": {},
     "output_type": "execute_result"
    }
   ],
   "source": [
    "# There are fewer entries in this DataFrame compared to the previous two. It'll cause NULL values when we merge them.\n",
    "# There are a few NULL values in the studio column.\n",
    "# There are NULL values in the foreign gross.\n",
    "# I can also see the foreign gross data type is a string.\n",
    "# Let's convert foreign gross data type into float.\n",
    "df_movie_gross['foreign_gross'] = df_movie_gross['foreign_gross'].astype(\"str\")\n",
    "df_movie_gross['foreign_gross'] = df_movie_gross['foreign_gross'].map(lambda x: x.replace(\",\",\"\"))\n",
    "df_movie_gross['foreign_gross'] = df_movie_gross['foreign_gross'].astype(\"float64\")\n",
    "df_movie_gross['foreign_gross'].head()"
   ]
  },
  {
   "cell_type": "code",
   "execution_count": 15,
   "metadata": {},
   "outputs": [
    {
     "data": {
      "text/plain": [
       "2015    450\n",
       "2016    436\n",
       "2012    400\n",
       "2011    399\n",
       "2014    395\n",
       "2013    350\n",
       "2010    328\n",
       "2017    321\n",
       "2018    308\n",
       "Name: year, dtype: int64"
      ]
     },
     "execution_count": 15,
     "metadata": {},
     "output_type": "execute_result"
    }
   ],
   "source": [
    "# Finally, I'm curious about how far the year data goes.\n",
    "df_movie_gross['year'].value_counts()"
   ]
  },
  {
   "cell_type": "markdown",
   "metadata": {},
   "source": [
    "The BOM Movie Gross includes data between 2010 and 2018 years. It means we won't be able to check the gross data for the movies released after 2018.\n",
    "Now, our DataFrames are ready for a merge."
   ]
  },
  {
   "cell_type": "markdown",
   "metadata": {},
   "source": [
    "### Merging The DataFrames"
   ]
  },
  {
   "cell_type": "code",
   "execution_count": 16,
   "metadata": {
    "scrolled": true
   },
   "outputs": [
    {
     "data": {
      "text/html": [
       "<div>\n",
       "<style scoped>\n",
       "    .dataframe tbody tr th:only-of-type {\n",
       "        vertical-align: middle;\n",
       "    }\n",
       "\n",
       "    .dataframe tbody tr th {\n",
       "        vertical-align: top;\n",
       "    }\n",
       "\n",
       "    .dataframe thead th {\n",
       "        text-align: right;\n",
       "    }\n",
       "</style>\n",
       "<table border=\"1\" class=\"dataframe\">\n",
       "  <thead>\n",
       "    <tr style=\"text-align: right;\">\n",
       "      <th></th>\n",
       "      <th>title</th>\n",
       "      <th>studio</th>\n",
       "      <th>domestic_gross</th>\n",
       "      <th>foreign_gross</th>\n",
       "      <th>year</th>\n",
       "    </tr>\n",
       "  </thead>\n",
       "  <tbody>\n",
       "    <tr>\n",
       "      <th>1</th>\n",
       "      <td>Alice in Wonderland (2010)</td>\n",
       "      <td>BV</td>\n",
       "      <td>334200000.00</td>\n",
       "      <td>691300000.00</td>\n",
       "      <td>2010</td>\n",
       "    </tr>\n",
       "    <tr>\n",
       "      <th>248</th>\n",
       "      <td>The Disappearance of Alice Creed</td>\n",
       "      <td>Anch.</td>\n",
       "      <td>167000.00</td>\n",
       "      <td>701000.00</td>\n",
       "      <td>2010</td>\n",
       "    </tr>\n",
       "    <tr>\n",
       "      <th>1983</th>\n",
       "      <td>Still Alice</td>\n",
       "      <td>SPC</td>\n",
       "      <td>18800000.00</td>\n",
       "      <td>25100000.00</td>\n",
       "      <td>2015</td>\n",
       "    </tr>\n",
       "    <tr>\n",
       "      <th>2310</th>\n",
       "      <td>Fidelio: Alice's Odyssey</td>\n",
       "      <td>FRun</td>\n",
       "      <td>3600.00</td>\n",
       "      <td>NaN</td>\n",
       "      <td>2015</td>\n",
       "    </tr>\n",
       "    <tr>\n",
       "      <th>2352</th>\n",
       "      <td>Alice Through the Looking Glass</td>\n",
       "      <td>BV</td>\n",
       "      <td>77000000.00</td>\n",
       "      <td>222400000.00</td>\n",
       "      <td>2016</td>\n",
       "    </tr>\n",
       "  </tbody>\n",
       "</table>\n",
       "</div>"
      ],
      "text/plain": [
       "                                 title studio  domestic_gross  foreign_gross  \\\n",
       "1           Alice in Wonderland (2010)     BV    334200000.00   691300000.00   \n",
       "248   The Disappearance of Alice Creed  Anch.       167000.00      701000.00   \n",
       "1983                       Still Alice    SPC     18800000.00    25100000.00   \n",
       "2310          Fidelio: Alice's Odyssey   FRun         3600.00            NaN   \n",
       "2352   Alice Through the Looking Glass     BV     77000000.00   222400000.00   \n",
       "\n",
       "      year  \n",
       "1     2010  \n",
       "248   2010  \n",
       "1983  2015  \n",
       "2310  2015  \n",
       "2352  2016  "
      ]
     },
     "execution_count": 16,
     "metadata": {},
     "output_type": "execute_result"
    }
   ],
   "source": [
    "# I will start merging the title basics and the movie gross DataFrames.\n",
    "# Both DataFrames have \"titles\" which will be my key.\n",
    "# Before merging them, I want to check if the primary_title in the title basics and the title in the movie gross match.\n",
    "# Let's check Alice In Wonderland as an example.\n",
    "df_movie_gross.query('title.str.contains(\"Alice\")')"
   ]
  },
  {
   "cell_type": "code",
   "execution_count": 17,
   "metadata": {},
   "outputs": [
    {
     "data": {
      "text/html": [
       "<div>\n",
       "<style scoped>\n",
       "    .dataframe tbody tr th:only-of-type {\n",
       "        vertical-align: middle;\n",
       "    }\n",
       "\n",
       "    .dataframe tbody tr th {\n",
       "        vertical-align: top;\n",
       "    }\n",
       "\n",
       "    .dataframe thead th {\n",
       "        text-align: right;\n",
       "    }\n",
       "</style>\n",
       "<table border=\"1\" class=\"dataframe\">\n",
       "  <thead>\n",
       "    <tr style=\"text-align: right;\">\n",
       "      <th></th>\n",
       "      <th>tconst</th>\n",
       "      <th>primary_title</th>\n",
       "      <th>original_title</th>\n",
       "      <th>start_year</th>\n",
       "      <th>runtime_minutes</th>\n",
       "      <th>genres</th>\n",
       "    </tr>\n",
       "  </thead>\n",
       "  <tbody>\n",
       "    <tr>\n",
       "      <th>1608</th>\n",
       "      <td>tt1014759</td>\n",
       "      <td>Alice in Wonderland</td>\n",
       "      <td>Alice in Wonderland</td>\n",
       "      <td>2010</td>\n",
       "      <td>108.00</td>\n",
       "      <td>Adventure,Family,Fantasy</td>\n",
       "    </tr>\n",
       "    <tr>\n",
       "      <th>20954</th>\n",
       "      <td>tt1867079</td>\n",
       "      <td>The Initiation of Alice in Wonderland: The Loo...</td>\n",
       "      <td>The Initiation of Alice in Wonderland: The Loo...</td>\n",
       "      <td>2010</td>\n",
       "      <td>75.00</td>\n",
       "      <td>Documentary</td>\n",
       "    </tr>\n",
       "    <tr>\n",
       "      <th>22538</th>\n",
       "      <td>tt1926979</td>\n",
       "      <td>Alice in Wonderland</td>\n",
       "      <td>Alice in Wonderland</td>\n",
       "      <td>2011</td>\n",
       "      <td>48.00</td>\n",
       "      <td>Documentary</td>\n",
       "    </tr>\n",
       "    <tr>\n",
       "      <th>26279</th>\n",
       "      <td>tt2049386</td>\n",
       "      <td>Alice in Wonderland</td>\n",
       "      <td>Alice in Wonderland</td>\n",
       "      <td>2010</td>\n",
       "      <td>99.00</td>\n",
       "      <td>Fantasy,Musical</td>\n",
       "    </tr>\n",
       "  </tbody>\n",
       "</table>\n",
       "</div>"
      ],
      "text/plain": [
       "          tconst                                      primary_title  \\\n",
       "1608   tt1014759                                Alice in Wonderland   \n",
       "20954  tt1867079  The Initiation of Alice in Wonderland: The Loo...   \n",
       "22538  tt1926979                                Alice in Wonderland   \n",
       "26279  tt2049386                                Alice in Wonderland   \n",
       "\n",
       "                                          original_title  start_year  \\\n",
       "1608                                 Alice in Wonderland        2010   \n",
       "20954  The Initiation of Alice in Wonderland: The Loo...        2010   \n",
       "22538                                Alice in Wonderland        2011   \n",
       "26279                                Alice in Wonderland        2010   \n",
       "\n",
       "       runtime_minutes                    genres  \n",
       "1608            108.00  Adventure,Family,Fantasy  \n",
       "20954            75.00               Documentary  \n",
       "22538            48.00               Documentary  \n",
       "26279            99.00           Fantasy,Musical  "
      ]
     },
     "execution_count": 17,
     "metadata": {},
     "output_type": "execute_result"
    }
   ],
   "source": [
    "df_title_basics.query('primary_title.str.contains(\"Alice in Wonderland\")')"
   ]
  },
  {
   "cell_type": "markdown",
   "metadata": {},
   "source": [
    "\"Alice In Wonderland\" in BOM Movie Gross DataFrame can potentially match with multiple movies in the IMDB Title Basics DataFrame. We will use the \"year\" as a second key to making a better match."
   ]
  },
  {
   "cell_type": "code",
   "execution_count": 18,
   "metadata": {},
   "outputs": [
    {
     "data": {
      "text/html": [
       "<div>\n",
       "<style scoped>\n",
       "    .dataframe tbody tr th:only-of-type {\n",
       "        vertical-align: middle;\n",
       "    }\n",
       "\n",
       "    .dataframe tbody tr th {\n",
       "        vertical-align: top;\n",
       "    }\n",
       "\n",
       "    .dataframe thead th {\n",
       "        text-align: right;\n",
       "    }\n",
       "</style>\n",
       "<table border=\"1\" class=\"dataframe\">\n",
       "  <thead>\n",
       "    <tr style=\"text-align: right;\">\n",
       "      <th></th>\n",
       "      <th>title</th>\n",
       "      <th>studio</th>\n",
       "      <th>domestic_gross</th>\n",
       "      <th>foreign_gross</th>\n",
       "      <th>year</th>\n",
       "    </tr>\n",
       "  </thead>\n",
       "  <tbody>\n",
       "    <tr>\n",
       "      <th>1</th>\n",
       "      <td>Alice in Wonderland</td>\n",
       "      <td>BV</td>\n",
       "      <td>334200000.00</td>\n",
       "      <td>691300000.00</td>\n",
       "      <td>2010</td>\n",
       "    </tr>\n",
       "    <tr>\n",
       "      <th>248</th>\n",
       "      <td>The Disappearance of Alice Creed</td>\n",
       "      <td>Anch.</td>\n",
       "      <td>167000.00</td>\n",
       "      <td>701000.00</td>\n",
       "      <td>2010</td>\n",
       "    </tr>\n",
       "    <tr>\n",
       "      <th>1983</th>\n",
       "      <td>Still Alice</td>\n",
       "      <td>SPC</td>\n",
       "      <td>18800000.00</td>\n",
       "      <td>25100000.00</td>\n",
       "      <td>2015</td>\n",
       "    </tr>\n",
       "    <tr>\n",
       "      <th>2310</th>\n",
       "      <td>Fidelio: Alice's Odyssey</td>\n",
       "      <td>FRun</td>\n",
       "      <td>3600.00</td>\n",
       "      <td>NaN</td>\n",
       "      <td>2015</td>\n",
       "    </tr>\n",
       "    <tr>\n",
       "      <th>2352</th>\n",
       "      <td>Alice Through the Looking Glass</td>\n",
       "      <td>BV</td>\n",
       "      <td>77000000.00</td>\n",
       "      <td>222400000.00</td>\n",
       "      <td>2016</td>\n",
       "    </tr>\n",
       "  </tbody>\n",
       "</table>\n",
       "</div>"
      ],
      "text/plain": [
       "                                 title studio  domestic_gross  foreign_gross  \\\n",
       "1                 Alice in Wonderland      BV    334200000.00   691300000.00   \n",
       "248   The Disappearance of Alice Creed  Anch.       167000.00      701000.00   \n",
       "1983                       Still Alice    SPC     18800000.00    25100000.00   \n",
       "2310          Fidelio: Alice's Odyssey   FRun         3600.00            NaN   \n",
       "2352   Alice Through the Looking Glass     BV     77000000.00   222400000.00   \n",
       "\n",
       "      year  \n",
       "1     2010  \n",
       "248   2010  \n",
       "1983  2015  \n",
       "2310  2015  \n",
       "2352  2016  "
      ]
     },
     "execution_count": 18,
     "metadata": {},
     "output_type": "execute_result"
    }
   ],
   "source": [
    "# I also realised a formatting difference in the titles.\n",
    "# Now, I will remove paranthesis from the titles.\n",
    "df_movie_gross['title'] = df_movie_gross['title'].str.split('(').str[0]\n",
    "df_movie_gross.query('title.str.contains(\"Alice\")')"
   ]
  },
  {
   "cell_type": "code",
   "execution_count": 19,
   "metadata": {
    "scrolled": true
   },
   "outputs": [
    {
     "data": {
      "text/html": [
       "<div>\n",
       "<style scoped>\n",
       "    .dataframe tbody tr th:only-of-type {\n",
       "        vertical-align: middle;\n",
       "    }\n",
       "\n",
       "    .dataframe tbody tr th {\n",
       "        vertical-align: top;\n",
       "    }\n",
       "\n",
       "    .dataframe thead th {\n",
       "        text-align: right;\n",
       "    }\n",
       "</style>\n",
       "<table border=\"1\" class=\"dataframe\">\n",
       "  <thead>\n",
       "    <tr style=\"text-align: right;\">\n",
       "      <th></th>\n",
       "      <th>title</th>\n",
       "      <th>studio</th>\n",
       "      <th>domestic_gross</th>\n",
       "      <th>foreign_gross</th>\n",
       "      <th>year</th>\n",
       "    </tr>\n",
       "  </thead>\n",
       "  <tbody>\n",
       "    <tr>\n",
       "      <th>0</th>\n",
       "      <td>Toy Story 3</td>\n",
       "      <td>BV</td>\n",
       "      <td>415000000.00</td>\n",
       "      <td>652000000.00</td>\n",
       "      <td>2010</td>\n",
       "    </tr>\n",
       "    <tr>\n",
       "      <th>1</th>\n",
       "      <td>Alice In Wonderland</td>\n",
       "      <td>BV</td>\n",
       "      <td>334200000.00</td>\n",
       "      <td>691300000.00</td>\n",
       "      <td>2010</td>\n",
       "    </tr>\n",
       "    <tr>\n",
       "      <th>2</th>\n",
       "      <td>Harry Potter And The Deathly Hallows Part 1</td>\n",
       "      <td>WB</td>\n",
       "      <td>296000000.00</td>\n",
       "      <td>664300000.00</td>\n",
       "      <td>2010</td>\n",
       "    </tr>\n",
       "    <tr>\n",
       "      <th>3</th>\n",
       "      <td>Inception</td>\n",
       "      <td>WB</td>\n",
       "      <td>292600000.00</td>\n",
       "      <td>535700000.00</td>\n",
       "      <td>2010</td>\n",
       "    </tr>\n",
       "    <tr>\n",
       "      <th>4</th>\n",
       "      <td>Shrek Forever After</td>\n",
       "      <td>P/DW</td>\n",
       "      <td>238700000.00</td>\n",
       "      <td>513900000.00</td>\n",
       "      <td>2010</td>\n",
       "    </tr>\n",
       "  </tbody>\n",
       "</table>\n",
       "</div>"
      ],
      "text/plain": [
       "                                         title studio  domestic_gross  \\\n",
       "0                                  Toy Story 3     BV    415000000.00   \n",
       "1                         Alice In Wonderland      BV    334200000.00   \n",
       "2  Harry Potter And The Deathly Hallows Part 1     WB    296000000.00   \n",
       "3                                    Inception     WB    292600000.00   \n",
       "4                          Shrek Forever After   P/DW    238700000.00   \n",
       "\n",
       "   foreign_gross  year  \n",
       "0   652000000.00  2010  \n",
       "1   691300000.00  2010  \n",
       "2   664300000.00  2010  \n",
       "3   535700000.00  2010  \n",
       "4   513900000.00  2010  "
      ]
     },
     "execution_count": 19,
     "metadata": {},
     "output_type": "execute_result"
    }
   ],
   "source": [
    "# Now, I'm formating titles in both DataFrames.\n",
    "df_movie_gross['title'] = df_movie_gross['title'].str.title()\n",
    "df_movie_gross.head()"
   ]
  },
  {
   "cell_type": "code",
   "execution_count": 20,
   "metadata": {
    "scrolled": true
   },
   "outputs": [
    {
     "data": {
      "text/html": [
       "<div>\n",
       "<style scoped>\n",
       "    .dataframe tbody tr th:only-of-type {\n",
       "        vertical-align: middle;\n",
       "    }\n",
       "\n",
       "    .dataframe tbody tr th {\n",
       "        vertical-align: top;\n",
       "    }\n",
       "\n",
       "    .dataframe thead th {\n",
       "        text-align: right;\n",
       "    }\n",
       "</style>\n",
       "<table border=\"1\" class=\"dataframe\">\n",
       "  <thead>\n",
       "    <tr style=\"text-align: right;\">\n",
       "      <th></th>\n",
       "      <th>tconst</th>\n",
       "      <th>primary_title</th>\n",
       "      <th>original_title</th>\n",
       "      <th>start_year</th>\n",
       "      <th>runtime_minutes</th>\n",
       "      <th>genres</th>\n",
       "    </tr>\n",
       "  </thead>\n",
       "  <tbody>\n",
       "    <tr>\n",
       "      <th>0</th>\n",
       "      <td>tt0063540</td>\n",
       "      <td>Sunghursh</td>\n",
       "      <td>Sunghursh</td>\n",
       "      <td>2013</td>\n",
       "      <td>175.00</td>\n",
       "      <td>Action,Crime,Drama</td>\n",
       "    </tr>\n",
       "    <tr>\n",
       "      <th>1</th>\n",
       "      <td>tt0066787</td>\n",
       "      <td>One Day Before The Rainy Season</td>\n",
       "      <td>Ashad Ka Ek Din</td>\n",
       "      <td>2019</td>\n",
       "      <td>114.00</td>\n",
       "      <td>Biography,Drama</td>\n",
       "    </tr>\n",
       "    <tr>\n",
       "      <th>2</th>\n",
       "      <td>tt0069049</td>\n",
       "      <td>The Other Side Of The Wind</td>\n",
       "      <td>The Other Side of the Wind</td>\n",
       "      <td>2018</td>\n",
       "      <td>122.00</td>\n",
       "      <td>Drama</td>\n",
       "    </tr>\n",
       "    <tr>\n",
       "      <th>3</th>\n",
       "      <td>tt0069204</td>\n",
       "      <td>Sabse Bada Sukh</td>\n",
       "      <td>Sabse Bada Sukh</td>\n",
       "      <td>2018</td>\n",
       "      <td>NaN</td>\n",
       "      <td>Comedy,Drama</td>\n",
       "    </tr>\n",
       "    <tr>\n",
       "      <th>4</th>\n",
       "      <td>tt0100275</td>\n",
       "      <td>The Wandering Soap Opera</td>\n",
       "      <td>La Telenovela Errante</td>\n",
       "      <td>2017</td>\n",
       "      <td>80.00</td>\n",
       "      <td>Comedy,Drama,Fantasy</td>\n",
       "    </tr>\n",
       "  </tbody>\n",
       "</table>\n",
       "</div>"
      ],
      "text/plain": [
       "      tconst                    primary_title              original_title  \\\n",
       "0  tt0063540                        Sunghursh                   Sunghursh   \n",
       "1  tt0066787  One Day Before The Rainy Season             Ashad Ka Ek Din   \n",
       "2  tt0069049       The Other Side Of The Wind  The Other Side of the Wind   \n",
       "3  tt0069204                  Sabse Bada Sukh             Sabse Bada Sukh   \n",
       "4  tt0100275         The Wandering Soap Opera       La Telenovela Errante   \n",
       "\n",
       "   start_year  runtime_minutes                genres  \n",
       "0        2013           175.00    Action,Crime,Drama  \n",
       "1        2019           114.00       Biography,Drama  \n",
       "2        2018           122.00                 Drama  \n",
       "3        2018              NaN          Comedy,Drama  \n",
       "4        2017            80.00  Comedy,Drama,Fantasy  "
      ]
     },
     "execution_count": 20,
     "metadata": {},
     "output_type": "execute_result"
    }
   ],
   "source": [
    "df_title_basics['primary_title'] = df_title_basics['primary_title'].str.title()\n",
    "df_title_basics.head()"
   ]
  },
  {
   "cell_type": "code",
   "execution_count": 21,
   "metadata": {
    "scrolled": true
   },
   "outputs": [
    {
     "data": {
      "text/plain": [
       "Index(['tconst', 'title', 'original_title', 'release_year', 'runtime_minutes',\n",
       "       'genres'],\n",
       "      dtype='object')"
      ]
     },
     "execution_count": 21,
     "metadata": {},
     "output_type": "execute_result"
    }
   ],
   "source": [
    "# Rename the columns in the IMDB title basics DataFrame.\n",
    "df_title_basics.rename(columns = {'primary_title' : 'title','start_year' : 'release_year'}, inplace=True)\n",
    "df_title_basics.columns"
   ]
  },
  {
   "cell_type": "code",
   "execution_count": 22,
   "metadata": {},
   "outputs": [
    {
     "data": {
      "text/plain": [
       "Index(['title', 'studio', 'domestic_gross', 'foreign_gross', 'release_year'], dtype='object')"
      ]
     },
     "execution_count": 22,
     "metadata": {},
     "output_type": "execute_result"
    }
   ],
   "source": [
    "#Let's rename the columns in the BOM movie gross DataFrame as well.\n",
    "df_movie_gross.rename(columns = {'year' : 'release_year'}, inplace=True)\n",
    "df_movie_gross.columns"
   ]
  },
  {
   "cell_type": "code",
   "execution_count": 23,
   "metadata": {},
   "outputs": [
    {
     "data": {
      "text/plain": [
       "Index(['tconst', 'average_rating', 'numvotes'], dtype='object')"
      ]
     },
     "execution_count": 23,
     "metadata": {},
     "output_type": "execute_result"
    }
   ],
   "source": [
    "# Finally, I want to rename the average rating in the IMDB title ratings DataFrame.\n",
    "df_title_ratings.rename(columns = {'averagerating' : 'average_rating'}, inplace=True)\n",
    "df_title_ratings.columns"
   ]
  },
  {
   "cell_type": "code",
   "execution_count": 24,
   "metadata": {
    "scrolled": true
   },
   "outputs": [
    {
     "data": {
      "text/html": [
       "<div>\n",
       "<style scoped>\n",
       "    .dataframe tbody tr th:only-of-type {\n",
       "        vertical-align: middle;\n",
       "    }\n",
       "\n",
       "    .dataframe tbody tr th {\n",
       "        vertical-align: top;\n",
       "    }\n",
       "\n",
       "    .dataframe thead th {\n",
       "        text-align: right;\n",
       "    }\n",
       "</style>\n",
       "<table border=\"1\" class=\"dataframe\">\n",
       "  <thead>\n",
       "    <tr style=\"text-align: right;\">\n",
       "      <th></th>\n",
       "      <th>tconst</th>\n",
       "      <th>title</th>\n",
       "      <th>original_title</th>\n",
       "      <th>release_year</th>\n",
       "      <th>runtime_minutes</th>\n",
       "      <th>genres</th>\n",
       "      <th>studio</th>\n",
       "      <th>domestic_gross</th>\n",
       "      <th>foreign_gross</th>\n",
       "    </tr>\n",
       "  </thead>\n",
       "  <tbody>\n",
       "    <tr>\n",
       "      <th>0</th>\n",
       "      <td>tt0435761</td>\n",
       "      <td>Toy Story 3</td>\n",
       "      <td>Toy Story 3</td>\n",
       "      <td>2010</td>\n",
       "      <td>103.00</td>\n",
       "      <td>Adventure,Animation,Comedy</td>\n",
       "      <td>BV</td>\n",
       "      <td>415000000.00</td>\n",
       "      <td>652000000.00</td>\n",
       "    </tr>\n",
       "    <tr>\n",
       "      <th>1</th>\n",
       "      <td>NaN</td>\n",
       "      <td>Alice In Wonderland</td>\n",
       "      <td>NaN</td>\n",
       "      <td>2010</td>\n",
       "      <td>NaN</td>\n",
       "      <td>NaN</td>\n",
       "      <td>BV</td>\n",
       "      <td>334200000.00</td>\n",
       "      <td>691300000.00</td>\n",
       "    </tr>\n",
       "    <tr>\n",
       "      <th>2</th>\n",
       "      <td>NaN</td>\n",
       "      <td>Harry Potter And The Deathly Hallows Part 1</td>\n",
       "      <td>NaN</td>\n",
       "      <td>2010</td>\n",
       "      <td>NaN</td>\n",
       "      <td>NaN</td>\n",
       "      <td>WB</td>\n",
       "      <td>296000000.00</td>\n",
       "      <td>664300000.00</td>\n",
       "    </tr>\n",
       "    <tr>\n",
       "      <th>3</th>\n",
       "      <td>tt1375666</td>\n",
       "      <td>Inception</td>\n",
       "      <td>Inception</td>\n",
       "      <td>2010</td>\n",
       "      <td>148.00</td>\n",
       "      <td>Action,Adventure,Sci-Fi</td>\n",
       "      <td>WB</td>\n",
       "      <td>292600000.00</td>\n",
       "      <td>535700000.00</td>\n",
       "    </tr>\n",
       "    <tr>\n",
       "      <th>4</th>\n",
       "      <td>tt0892791</td>\n",
       "      <td>Shrek Forever After</td>\n",
       "      <td>Shrek Forever After</td>\n",
       "      <td>2010</td>\n",
       "      <td>93.00</td>\n",
       "      <td>Adventure,Animation,Comedy</td>\n",
       "      <td>P/DW</td>\n",
       "      <td>238700000.00</td>\n",
       "      <td>513900000.00</td>\n",
       "    </tr>\n",
       "  </tbody>\n",
       "</table>\n",
       "</div>"
      ],
      "text/plain": [
       "      tconst                                        title  \\\n",
       "0  tt0435761                                  Toy Story 3   \n",
       "1        NaN                         Alice In Wonderland    \n",
       "2        NaN  Harry Potter And The Deathly Hallows Part 1   \n",
       "3  tt1375666                                    Inception   \n",
       "4  tt0892791                          Shrek Forever After   \n",
       "\n",
       "        original_title  release_year  runtime_minutes  \\\n",
       "0          Toy Story 3          2010           103.00   \n",
       "1                  NaN          2010              NaN   \n",
       "2                  NaN          2010              NaN   \n",
       "3            Inception          2010           148.00   \n",
       "4  Shrek Forever After          2010            93.00   \n",
       "\n",
       "                       genres studio  domestic_gross  foreign_gross  \n",
       "0  Adventure,Animation,Comedy     BV    415000000.00   652000000.00  \n",
       "1                         NaN     BV    334200000.00   691300000.00  \n",
       "2                         NaN     WB    296000000.00   664300000.00  \n",
       "3     Action,Adventure,Sci-Fi     WB    292600000.00   535700000.00  \n",
       "4  Adventure,Animation,Comedy   P/DW    238700000.00   513900000.00  "
      ]
     },
     "execution_count": 24,
     "metadata": {},
     "output_type": "execute_result"
    }
   ],
   "source": [
    "# Merging the IMDB title basics and the BOM movie gross\n",
    "# Because I'm using domestic and foreign gross figures as my main metric, I'm doing a right join.\n",
    "df_merged = pd.merge(df_title_basics, df_movie_gross, how='right', left_on=['title','release_year'], right_on = ['title','release_year'])\n",
    "df_merged.head()"
   ]
  },
  {
   "cell_type": "code",
   "execution_count": 25,
   "metadata": {},
   "outputs": [
    {
     "data": {
      "text/html": [
       "<div>\n",
       "<style scoped>\n",
       "    .dataframe tbody tr th:only-of-type {\n",
       "        vertical-align: middle;\n",
       "    }\n",
       "\n",
       "    .dataframe tbody tr th {\n",
       "        vertical-align: top;\n",
       "    }\n",
       "\n",
       "    .dataframe thead th {\n",
       "        text-align: right;\n",
       "    }\n",
       "</style>\n",
       "<table border=\"1\" class=\"dataframe\">\n",
       "  <thead>\n",
       "    <tr style=\"text-align: right;\">\n",
       "      <th></th>\n",
       "      <th>tconst</th>\n",
       "      <th>average_rating</th>\n",
       "      <th>numvotes</th>\n",
       "      <th>title</th>\n",
       "      <th>original_title</th>\n",
       "      <th>release_year</th>\n",
       "      <th>runtime_minutes</th>\n",
       "      <th>genres</th>\n",
       "      <th>studio</th>\n",
       "      <th>domestic_gross</th>\n",
       "      <th>foreign_gross</th>\n",
       "    </tr>\n",
       "  </thead>\n",
       "  <tbody>\n",
       "    <tr>\n",
       "      <th>0</th>\n",
       "      <td>tt0435761</td>\n",
       "      <td>8.30</td>\n",
       "      <td>682218.00</td>\n",
       "      <td>Toy Story 3</td>\n",
       "      <td>Toy Story 3</td>\n",
       "      <td>2010</td>\n",
       "      <td>103.00</td>\n",
       "      <td>Adventure,Animation,Comedy</td>\n",
       "      <td>BV</td>\n",
       "      <td>415000000.00</td>\n",
       "      <td>652000000.00</td>\n",
       "    </tr>\n",
       "    <tr>\n",
       "      <th>1</th>\n",
       "      <td>NaN</td>\n",
       "      <td>NaN</td>\n",
       "      <td>NaN</td>\n",
       "      <td>Alice In Wonderland</td>\n",
       "      <td>NaN</td>\n",
       "      <td>2010</td>\n",
       "      <td>NaN</td>\n",
       "      <td>NaN</td>\n",
       "      <td>BV</td>\n",
       "      <td>334200000.00</td>\n",
       "      <td>691300000.00</td>\n",
       "    </tr>\n",
       "    <tr>\n",
       "      <th>2</th>\n",
       "      <td>NaN</td>\n",
       "      <td>NaN</td>\n",
       "      <td>NaN</td>\n",
       "      <td>Harry Potter And The Deathly Hallows Part 1</td>\n",
       "      <td>NaN</td>\n",
       "      <td>2010</td>\n",
       "      <td>NaN</td>\n",
       "      <td>NaN</td>\n",
       "      <td>WB</td>\n",
       "      <td>296000000.00</td>\n",
       "      <td>664300000.00</td>\n",
       "    </tr>\n",
       "    <tr>\n",
       "      <th>3</th>\n",
       "      <td>tt1375666</td>\n",
       "      <td>8.80</td>\n",
       "      <td>1841066.00</td>\n",
       "      <td>Inception</td>\n",
       "      <td>Inception</td>\n",
       "      <td>2010</td>\n",
       "      <td>148.00</td>\n",
       "      <td>Action,Adventure,Sci-Fi</td>\n",
       "      <td>WB</td>\n",
       "      <td>292600000.00</td>\n",
       "      <td>535700000.00</td>\n",
       "    </tr>\n",
       "    <tr>\n",
       "      <th>4</th>\n",
       "      <td>tt0892791</td>\n",
       "      <td>6.30</td>\n",
       "      <td>167532.00</td>\n",
       "      <td>Shrek Forever After</td>\n",
       "      <td>Shrek Forever After</td>\n",
       "      <td>2010</td>\n",
       "      <td>93.00</td>\n",
       "      <td>Adventure,Animation,Comedy</td>\n",
       "      <td>P/DW</td>\n",
       "      <td>238700000.00</td>\n",
       "      <td>513900000.00</td>\n",
       "    </tr>\n",
       "  </tbody>\n",
       "</table>\n",
       "</div>"
      ],
      "text/plain": [
       "      tconst  average_rating   numvotes  \\\n",
       "0  tt0435761            8.30  682218.00   \n",
       "1        NaN             NaN        NaN   \n",
       "2        NaN             NaN        NaN   \n",
       "3  tt1375666            8.80 1841066.00   \n",
       "4  tt0892791            6.30  167532.00   \n",
       "\n",
       "                                         title       original_title  \\\n",
       "0                                  Toy Story 3          Toy Story 3   \n",
       "1                         Alice In Wonderland                   NaN   \n",
       "2  Harry Potter And The Deathly Hallows Part 1                  NaN   \n",
       "3                                    Inception            Inception   \n",
       "4                          Shrek Forever After  Shrek Forever After   \n",
       "\n",
       "   release_year  runtime_minutes                      genres studio  \\\n",
       "0          2010           103.00  Adventure,Animation,Comedy     BV   \n",
       "1          2010              NaN                         NaN     BV   \n",
       "2          2010              NaN                         NaN     WB   \n",
       "3          2010           148.00     Action,Adventure,Sci-Fi     WB   \n",
       "4          2010            93.00  Adventure,Animation,Comedy   P/DW   \n",
       "\n",
       "   domestic_gross  foreign_gross  \n",
       "0    415000000.00   652000000.00  \n",
       "1    334200000.00   691300000.00  \n",
       "2    296000000.00   664300000.00  \n",
       "3    292600000.00   535700000.00  \n",
       "4    238700000.00   513900000.00  "
      ]
     },
     "execution_count": 25,
     "metadata": {},
     "output_type": "execute_result"
    }
   ],
   "source": [
    "# Merging the merged DataFrame and the IMDB title ratings\n",
    "# I'm doing a right join again.\n",
    "df_master = pd.merge(df_title_ratings, df_merged, how='right', left_on=['tconst'], right_on = ['tconst'])\n",
    "df_master.head()"
   ]
  },
  {
   "cell_type": "markdown",
   "metadata": {},
   "source": [
    "### Cleaning The Master DataFrame"
   ]
  },
  {
   "cell_type": "code",
   "execution_count": 26,
   "metadata": {},
   "outputs": [
    {
     "name": "stdout",
     "output_type": "stream",
     "text": [
      "<class 'pandas.core.frame.DataFrame'>\n",
      "Int64Index: 3428 entries, 0 to 3427\n",
      "Data columns (total 11 columns):\n",
      " #   Column           Non-Null Count  Dtype  \n",
      "---  ------           --------------  -----  \n",
      " 0   tconst           1944 non-null   object \n",
      " 1   average_rating   1918 non-null   float64\n",
      " 2   numvotes         1918 non-null   float64\n",
      " 3   title            3428 non-null   object \n",
      " 4   original_title   1944 non-null   object \n",
      " 5   release_year     3428 non-null   int64  \n",
      " 6   runtime_minutes  1934 non-null   float64\n",
      " 7   genres           1942 non-null   object \n",
      " 8   studio           3423 non-null   object \n",
      " 9   domestic_gross   3400 non-null   float64\n",
      " 10  foreign_gross    2061 non-null   float64\n",
      "dtypes: float64(5), int64(1), object(5)\n",
      "memory usage: 321.4+ KB\n"
     ]
    }
   ],
   "source": [
    "# Let's explore and clean our master DataFrame\n",
    "df_master.info()"
   ]
  },
  {
   "cell_type": "code",
   "execution_count": 27,
   "metadata": {},
   "outputs": [
    {
     "data": {
      "text/plain": [
       "Index(['average_rating', 'title', 'release_year', 'runtime_minutes', 'genres',\n",
       "       'studio', 'domestic_gross', 'foreign_gross'],\n",
       "      dtype='object')"
      ]
     },
     "execution_count": 27,
     "metadata": {},
     "output_type": "execute_result"
    }
   ],
   "source": [
    "# I will start dropping the columns that have no use for this study.\n",
    "# By dropping them, I'm aiming to have a DataFrame that is easier to read and work with.\n",
    "df_master = df_master.drop(['tconst','numvotes','original_title'], axis=1)\n",
    "df_master.columns"
   ]
  },
  {
   "cell_type": "code",
   "execution_count": 28,
   "metadata": {},
   "outputs": [
    {
     "name": "stdout",
     "output_type": "stream",
     "text": [
      "<class 'pandas.core.frame.DataFrame'>\n",
      "Int64Index: 3428 entries, 0 to 3427\n",
      "Data columns (total 8 columns):\n",
      " #   Column           Non-Null Count  Dtype  \n",
      "---  ------           --------------  -----  \n",
      " 0   average_rating   1918 non-null   float64\n",
      " 1   title            3428 non-null   object \n",
      " 2   release_year     3428 non-null   int64  \n",
      " 3   runtime_minutes  1934 non-null   float64\n",
      " 4   genres           1942 non-null   object \n",
      " 5   studio           3423 non-null   object \n",
      " 6   domestic_gross   3428 non-null   float64\n",
      " 7   foreign_gross    3428 non-null   float64\n",
      "dtypes: float64(4), int64(1), object(3)\n",
      "memory usage: 241.0+ KB\n"
     ]
    }
   ],
   "source": [
    "# The null values in the domestic column could be coming from the international movies.\n",
    "# The movies with null foreign values probably didn't realesed anywhere but the US.\n",
    "# I will replace any NULL values in both domestic and foreign gross with 0.\n",
    "df_master['domestic_gross'] = df_master['domestic_gross'].fillna(0)\n",
    "df_master['foreign_gross'] = df_master['foreign_gross'].fillna(0)\n",
    "df_master.info()"
   ]
  },
  {
   "cell_type": "code",
   "execution_count": 29,
   "metadata": {
    "scrolled": true
   },
   "outputs": [
    {
     "name": "stdout",
     "output_type": "stream",
     "text": [
      "<class 'pandas.core.frame.DataFrame'>\n",
      "Int64Index: 3428 entries, 0 to 3427\n",
      "Data columns (total 9 columns):\n",
      " #   Column           Non-Null Count  Dtype  \n",
      "---  ------           --------------  -----  \n",
      " 0   average_rating   1918 non-null   float64\n",
      " 1   title            3428 non-null   object \n",
      " 2   release_year     3428 non-null   int64  \n",
      " 3   runtime_minutes  1934 non-null   float64\n",
      " 4   genres           1942 non-null   object \n",
      " 5   studio           3423 non-null   object \n",
      " 6   domestic_gross   3428 non-null   float64\n",
      " 7   foreign_gross    3428 non-null   float64\n",
      " 8   total_gross      3428 non-null   float64\n",
      "dtypes: float64(5), int64(1), object(3)\n",
      "memory usage: 267.8+ KB\n"
     ]
    }
   ],
   "source": [
    "# Defining a new series called \"total_gross\"\n",
    "df_master['total_gross'] = df_master['domestic_gross'] + df_master['foreign_gross']\n",
    "df_master.info()"
   ]
  },
  {
   "cell_type": "code",
   "execution_count": 30,
   "metadata": {},
   "outputs": [
    {
     "data": {
      "text/html": [
       "<div>\n",
       "<style scoped>\n",
       "    .dataframe tbody tr th:only-of-type {\n",
       "        vertical-align: middle;\n",
       "    }\n",
       "\n",
       "    .dataframe tbody tr th {\n",
       "        vertical-align: top;\n",
       "    }\n",
       "\n",
       "    .dataframe thead th {\n",
       "        text-align: right;\n",
       "    }\n",
       "</style>\n",
       "<table border=\"1\" class=\"dataframe\">\n",
       "  <thead>\n",
       "    <tr style=\"text-align: right;\">\n",
       "      <th></th>\n",
       "      <th>average_rating</th>\n",
       "      <th>title</th>\n",
       "      <th>release_year</th>\n",
       "      <th>runtime_minutes</th>\n",
       "      <th>genres</th>\n",
       "      <th>studio</th>\n",
       "      <th>domestic_gross</th>\n",
       "      <th>foreign_gross</th>\n",
       "      <th>total_gross</th>\n",
       "    </tr>\n",
       "  </thead>\n",
       "  <tbody>\n",
       "  </tbody>\n",
       "</table>\n",
       "</div>"
      ],
      "text/plain": [
       "Empty DataFrame\n",
       "Columns: [average_rating, title, release_year, runtime_minutes, genres, studio, domestic_gross, foreign_gross, total_gross]\n",
       "Index: []"
      ]
     },
     "execution_count": 30,
     "metadata": {},
     "output_type": "execute_result"
    }
   ],
   "source": [
    "# Checking if we have any \"0\" value total gross rows.\n",
    "df_master.loc[df_master['total_gross']==0]"
   ]
  },
  {
   "cell_type": "markdown",
   "metadata": {},
   "source": [
    "There are no movies with \"0\" total gross value. It means that we are not dealing with any missing data in this series."
   ]
  },
  {
   "cell_type": "code",
   "execution_count": 31,
   "metadata": {},
   "outputs": [
    {
     "name": "stdout",
     "output_type": "stream",
     "text": [
      "<class 'pandas.core.frame.DataFrame'>\n",
      "Int64Index: 3428 entries, 0 to 3427\n",
      "Data columns (total 10 columns):\n",
      " #   Column           Non-Null Count  Dtype  \n",
      "---  ------           --------------  -----  \n",
      " 0   average_rating   1918 non-null   float64\n",
      " 1   title            3428 non-null   object \n",
      " 2   release_year     3428 non-null   int64  \n",
      " 3   runtime_minutes  1934 non-null   float64\n",
      " 4   genres           1942 non-null   object \n",
      " 5   studio           3423 non-null   object \n",
      " 6   domestic_gross   3428 non-null   float64\n",
      " 7   foreign_gross    3428 non-null   float64\n",
      " 8   total_gross      3428 non-null   float64\n",
      " 9   total_gross_mil  3428 non-null   float64\n",
      "dtypes: float64(6), int64(1), object(3)\n",
      "memory usage: 294.6+ KB\n"
     ]
    }
   ],
   "source": [
    "# I'm adding a new total gross column in millions because I want to have a plot-friendly version of the values.df_master['total_gross'] = df_master['total_gross'].astype(\"float\")\n",
    "df_master['total_gross_mil'] = df_master ['total_gross'] / 1000000\n",
    "df_master.info()"
   ]
  },
  {
   "cell_type": "code",
   "execution_count": 32,
   "metadata": {
    "scrolled": true
   },
   "outputs": [
    {
     "data": {
      "text/html": [
       "<div>\n",
       "<style scoped>\n",
       "    .dataframe tbody tr th:only-of-type {\n",
       "        vertical-align: middle;\n",
       "    }\n",
       "\n",
       "    .dataframe tbody tr th {\n",
       "        vertical-align: top;\n",
       "    }\n",
       "\n",
       "    .dataframe thead th {\n",
       "        text-align: right;\n",
       "    }\n",
       "</style>\n",
       "<table border=\"1\" class=\"dataframe\">\n",
       "  <thead>\n",
       "    <tr style=\"text-align: right;\">\n",
       "      <th></th>\n",
       "      <th>average_rating</th>\n",
       "      <th>title</th>\n",
       "      <th>release_year</th>\n",
       "      <th>runtime_minutes</th>\n",
       "      <th>genres</th>\n",
       "      <th>studio</th>\n",
       "      <th>domestic_gross</th>\n",
       "      <th>foreign_gross</th>\n",
       "      <th>total_gross</th>\n",
       "      <th>total_gross_mil</th>\n",
       "    </tr>\n",
       "  </thead>\n",
       "  <tbody>\n",
       "    <tr>\n",
       "      <th>0</th>\n",
       "      <td>8.30</td>\n",
       "      <td>Toy Story 3</td>\n",
       "      <td>2010</td>\n",
       "      <td>103.00</td>\n",
       "      <td>Adventure,Animation,Comedy</td>\n",
       "      <td>BV</td>\n",
       "      <td>$415,000,000</td>\n",
       "      <td>$652,000,000</td>\n",
       "      <td>$1,067,000,000</td>\n",
       "      <td>1067.00</td>\n",
       "    </tr>\n",
       "    <tr>\n",
       "      <th>1</th>\n",
       "      <td>NaN</td>\n",
       "      <td>Alice In Wonderland</td>\n",
       "      <td>2010</td>\n",
       "      <td>NaN</td>\n",
       "      <td>NaN</td>\n",
       "      <td>BV</td>\n",
       "      <td>$334,200,000</td>\n",
       "      <td>$691,300,000</td>\n",
       "      <td>$1,025,500,000</td>\n",
       "      <td>1025.50</td>\n",
       "    </tr>\n",
       "    <tr>\n",
       "      <th>2</th>\n",
       "      <td>NaN</td>\n",
       "      <td>Harry Potter And The Deathly Hallows Part 1</td>\n",
       "      <td>2010</td>\n",
       "      <td>NaN</td>\n",
       "      <td>NaN</td>\n",
       "      <td>WB</td>\n",
       "      <td>$296,000,000</td>\n",
       "      <td>$664,300,000</td>\n",
       "      <td>$960,300,000</td>\n",
       "      <td>960.30</td>\n",
       "    </tr>\n",
       "    <tr>\n",
       "      <th>3</th>\n",
       "      <td>8.80</td>\n",
       "      <td>Inception</td>\n",
       "      <td>2010</td>\n",
       "      <td>148.00</td>\n",
       "      <td>Action,Adventure,Sci-Fi</td>\n",
       "      <td>WB</td>\n",
       "      <td>$292,600,000</td>\n",
       "      <td>$535,700,000</td>\n",
       "      <td>$828,300,000</td>\n",
       "      <td>828.30</td>\n",
       "    </tr>\n",
       "    <tr>\n",
       "      <th>4</th>\n",
       "      <td>6.30</td>\n",
       "      <td>Shrek Forever After</td>\n",
       "      <td>2010</td>\n",
       "      <td>93.00</td>\n",
       "      <td>Adventure,Animation,Comedy</td>\n",
       "      <td>P/DW</td>\n",
       "      <td>$238,700,000</td>\n",
       "      <td>$513,900,000</td>\n",
       "      <td>$752,600,000</td>\n",
       "      <td>752.60</td>\n",
       "    </tr>\n",
       "  </tbody>\n",
       "</table>\n",
       "</div>"
      ],
      "text/plain": [
       "   average_rating                                        title  release_year  \\\n",
       "0            8.30                                  Toy Story 3          2010   \n",
       "1             NaN                         Alice In Wonderland           2010   \n",
       "2             NaN  Harry Potter And The Deathly Hallows Part 1          2010   \n",
       "3            8.80                                    Inception          2010   \n",
       "4            6.30                          Shrek Forever After          2010   \n",
       "\n",
       "   runtime_minutes                      genres studio domestic_gross  \\\n",
       "0           103.00  Adventure,Animation,Comedy     BV   $415,000,000   \n",
       "1              NaN                         NaN     BV   $334,200,000   \n",
       "2              NaN                         NaN     WB   $296,000,000   \n",
       "3           148.00     Action,Adventure,Sci-Fi     WB   $292,600,000   \n",
       "4            93.00  Adventure,Animation,Comedy   P/DW   $238,700,000   \n",
       "\n",
       "  foreign_gross     total_gross  total_gross_mil  \n",
       "0  $652,000,000  $1,067,000,000          1067.00  \n",
       "1  $691,300,000  $1,025,500,000          1025.50  \n",
       "2  $664,300,000    $960,300,000           960.30  \n",
       "3  $535,700,000    $828,300,000           828.30  \n",
       "4  $513,900,000    $752,600,000           752.60  "
      ]
     },
     "execution_count": 32,
     "metadata": {},
     "output_type": "execute_result"
    }
   ],
   "source": [
    "# Finally, I want to format the domestic, foreign, and total gross values.\n",
    "df_master['total_gross'] = df_master['total_gross'].astype(\"int\")\n",
    "df_master['domestic_gross'] = df_master['domestic_gross'].astype(\"int\")\n",
    "df_master['foreign_gross'] = df_master['foreign_gross'].astype(\"int\")\n",
    "\n",
    "df_master['total_gross'] = df_master['total_gross'].map('${:,.0f}'.format)\n",
    "df_master['domestic_gross'] = df_master['domestic_gross'].map('${:,.0f}'.format)\n",
    "df_master['foreign_gross'] = df_master['foreign_gross'].map('${:,.0f}'.format)\n",
    "df_master.head()"
   ]
  },
  {
   "cell_type": "code",
   "execution_count": 33,
   "metadata": {},
   "outputs": [
    {
     "data": {
      "text/plain": [
       "False    3428\n",
       "dtype: int64"
      ]
     },
     "execution_count": 33,
     "metadata": {},
     "output_type": "execute_result"
    }
   ],
   "source": [
    "# Checking for duplicates\n",
    "df_master.duplicated().value_counts()"
   ]
  },
  {
   "cell_type": "markdown",
   "metadata": {},
   "source": [
    "No duplicates are found."
   ]
  },
  {
   "cell_type": "code",
   "execution_count": 34,
   "metadata": {
    "scrolled": true
   },
   "outputs": [
    {
     "data": {
      "text/html": [
       "<div>\n",
       "<style scoped>\n",
       "    .dataframe tbody tr th:only-of-type {\n",
       "        vertical-align: middle;\n",
       "    }\n",
       "\n",
       "    .dataframe tbody tr th {\n",
       "        vertical-align: top;\n",
       "    }\n",
       "\n",
       "    .dataframe thead th {\n",
       "        text-align: right;\n",
       "    }\n",
       "</style>\n",
       "<table border=\"1\" class=\"dataframe\">\n",
       "  <thead>\n",
       "    <tr style=\"text-align: right;\">\n",
       "      <th></th>\n",
       "      <th>title</th>\n",
       "      <th>release_year</th>\n",
       "      <th>average_rating</th>\n",
       "      <th>runtime_minutes</th>\n",
       "      <th>genres</th>\n",
       "      <th>studio</th>\n",
       "      <th>total_gross_mil</th>\n",
       "      <th>domestic_gross</th>\n",
       "      <th>foreign_gross</th>\n",
       "      <th>total_gross</th>\n",
       "    </tr>\n",
       "  </thead>\n",
       "  <tbody>\n",
       "    <tr>\n",
       "      <th>0</th>\n",
       "      <td>Toy Story 3</td>\n",
       "      <td>2010</td>\n",
       "      <td>8.30</td>\n",
       "      <td>103.00</td>\n",
       "      <td>Adventure,Animation,Comedy</td>\n",
       "      <td>BV</td>\n",
       "      <td>1067.00</td>\n",
       "      <td>$415,000,000</td>\n",
       "      <td>$652,000,000</td>\n",
       "      <td>$1,067,000,000</td>\n",
       "    </tr>\n",
       "    <tr>\n",
       "      <th>1</th>\n",
       "      <td>Alice In Wonderland</td>\n",
       "      <td>2010</td>\n",
       "      <td>NaN</td>\n",
       "      <td>NaN</td>\n",
       "      <td>NaN</td>\n",
       "      <td>BV</td>\n",
       "      <td>1025.50</td>\n",
       "      <td>$334,200,000</td>\n",
       "      <td>$691,300,000</td>\n",
       "      <td>$1,025,500,000</td>\n",
       "    </tr>\n",
       "    <tr>\n",
       "      <th>2</th>\n",
       "      <td>Harry Potter And The Deathly Hallows Part 1</td>\n",
       "      <td>2010</td>\n",
       "      <td>NaN</td>\n",
       "      <td>NaN</td>\n",
       "      <td>NaN</td>\n",
       "      <td>WB</td>\n",
       "      <td>960.30</td>\n",
       "      <td>$296,000,000</td>\n",
       "      <td>$664,300,000</td>\n",
       "      <td>$960,300,000</td>\n",
       "    </tr>\n",
       "    <tr>\n",
       "      <th>3</th>\n",
       "      <td>Inception</td>\n",
       "      <td>2010</td>\n",
       "      <td>8.80</td>\n",
       "      <td>148.00</td>\n",
       "      <td>Action,Adventure,Sci-Fi</td>\n",
       "      <td>WB</td>\n",
       "      <td>828.30</td>\n",
       "      <td>$292,600,000</td>\n",
       "      <td>$535,700,000</td>\n",
       "      <td>$828,300,000</td>\n",
       "    </tr>\n",
       "    <tr>\n",
       "      <th>4</th>\n",
       "      <td>Shrek Forever After</td>\n",
       "      <td>2010</td>\n",
       "      <td>6.30</td>\n",
       "      <td>93.00</td>\n",
       "      <td>Adventure,Animation,Comedy</td>\n",
       "      <td>P/DW</td>\n",
       "      <td>752.60</td>\n",
       "      <td>$238,700,000</td>\n",
       "      <td>$513,900,000</td>\n",
       "      <td>$752,600,000</td>\n",
       "    </tr>\n",
       "  </tbody>\n",
       "</table>\n",
       "</div>"
      ],
      "text/plain": [
       "                                         title  release_year  average_rating  \\\n",
       "0                                  Toy Story 3          2010            8.30   \n",
       "1                         Alice In Wonderland           2010             NaN   \n",
       "2  Harry Potter And The Deathly Hallows Part 1          2010             NaN   \n",
       "3                                    Inception          2010            8.80   \n",
       "4                          Shrek Forever After          2010            6.30   \n",
       "\n",
       "   runtime_minutes                      genres studio  total_gross_mil  \\\n",
       "0           103.00  Adventure,Animation,Comedy     BV          1067.00   \n",
       "1              NaN                         NaN     BV          1025.50   \n",
       "2              NaN                         NaN     WB           960.30   \n",
       "3           148.00     Action,Adventure,Sci-Fi     WB           828.30   \n",
       "4            93.00  Adventure,Animation,Comedy   P/DW           752.60   \n",
       "\n",
       "  domestic_gross foreign_gross     total_gross  \n",
       "0   $415,000,000  $652,000,000  $1,067,000,000  \n",
       "1   $334,200,000  $691,300,000  $1,025,500,000  \n",
       "2   $296,000,000  $664,300,000    $960,300,000  \n",
       "3   $292,600,000  $535,700,000    $828,300,000  \n",
       "4   $238,700,000  $513,900,000    $752,600,000  "
      ]
     },
     "execution_count": 34,
     "metadata": {},
     "output_type": "execute_result"
    }
   ],
   "source": [
    "# Changing the order of the columns for a better readability.\n",
    "df_master = df_master [['title','release_year','average_rating','runtime_minutes','genres','studio','total_gross_mil','domestic_gross','foreign_gross','total_gross']]\n",
    "df_master.head()"
   ]
  },
  {
   "cell_type": "code",
   "execution_count": 35,
   "metadata": {},
   "outputs": [],
   "source": [
    "# Saving copy of DataFrame as csv file\n",
    "df_master.to_csv('./df_master.csv')"
   ]
  },
  {
   "cell_type": "markdown",
   "metadata": {},
   "source": [
    "## Data Modeling\n",
    "Describe and justify the process for analyzing or modeling the data.\n",
    "\n",
    "***\n",
    "Questions to consider:\n",
    "* How did you analyze or model the data?\n",
    "* How did you iterate on your initial approach to make it better?\n",
    "* Why are these choices appropriate given the data and the business problem?\n",
    "***"
   ]
  },
  {
   "cell_type": "markdown",
   "metadata": {},
   "source": [
    "### Genres"
   ]
  },
  {
   "cell_type": "code",
   "execution_count": 36,
   "metadata": {},
   "outputs": [
    {
     "data": {
      "text/html": [
       "<div>\n",
       "<style scoped>\n",
       "    .dataframe tbody tr th:only-of-type {\n",
       "        vertical-align: middle;\n",
       "    }\n",
       "\n",
       "    .dataframe tbody tr th {\n",
       "        vertical-align: top;\n",
       "    }\n",
       "\n",
       "    .dataframe thead th {\n",
       "        text-align: right;\n",
       "    }\n",
       "</style>\n",
       "<table border=\"1\" class=\"dataframe\">\n",
       "  <thead>\n",
       "    <tr style=\"text-align: right;\">\n",
       "      <th></th>\n",
       "      <th>title</th>\n",
       "      <th>release_year</th>\n",
       "      <th>average_rating</th>\n",
       "      <th>runtime_minutes</th>\n",
       "      <th>genres</th>\n",
       "      <th>studio</th>\n",
       "      <th>total_gross_mil</th>\n",
       "      <th>domestic_gross</th>\n",
       "      <th>foreign_gross</th>\n",
       "      <th>total_gross</th>\n",
       "    </tr>\n",
       "  </thead>\n",
       "  <tbody>\n",
       "  </tbody>\n",
       "</table>\n",
       "</div>"
      ],
      "text/plain": [
       "Empty DataFrame\n",
       "Columns: [title, release_year, average_rating, runtime_minutes, genres, studio, total_gross_mil, domestic_gross, foreign_gross, total_gross]\n",
       "Index: []"
      ]
     },
     "execution_count": 36,
     "metadata": {},
     "output_type": "execute_result"
    }
   ],
   "source": [
    "# I started to define new DataFrames for each variable I want to explore.\n",
    "# I'm starting with genres.\n",
    "# I'm crating a new DataFrame by copying. In that way, I'm avoiding making permanent changes in the master DataFrame.\n",
    "# Then, I'm dropping the rows that don't have any genres.\n",
    "df_genres = df_master.copy()\n",
    "df_genres['genres'] = df_genres['genres'].fillna('Missing')\n",
    "df_genres = df_genres.loc[df_genres['genres'] != 'Missing']\n",
    "df_genres.query('genres.str.contains(\"Missing\")')"
   ]
  },
  {
   "cell_type": "code",
   "execution_count": 37,
   "metadata": {},
   "outputs": [
    {
     "data": {
      "text/plain": [
       "(1942, 10)"
      ]
     },
     "execution_count": 37,
     "metadata": {},
     "output_type": "execute_result"
    }
   ],
   "source": [
    "# Let's check the DataFrame\n",
    "df_genres.shape"
   ]
  },
  {
   "cell_type": "code",
   "execution_count": 38,
   "metadata": {},
   "outputs": [
    {
     "data": {
      "text/plain": [
       "0       [Adventure, Animation, Comedy]\n",
       "3          [Action, Adventure, Sci-Fi]\n",
       "4       [Adventure, Animation, Comedy]\n",
       "5          [Adventure, Drama, Fantasy]\n",
       "6          [Action, Adventure, Sci-Fi]\n",
       "                     ...              \n",
       "3404                   [Comedy, Drama]\n",
       "3409                        [Thriller]\n",
       "3411                           [Drama]\n",
       "3423         [Action, Drama, Thriller]\n",
       "3427                          [Comedy]\n",
       "Name: genres, Length: 1942, dtype: object"
      ]
     },
     "execution_count": 38,
     "metadata": {},
     "output_type": "execute_result"
    }
   ],
   "source": [
    "# I'll split the genres into their own rows where there are multiple genres for an individual movie.\n",
    "# First, I need to convert genres data type into a list.\n",
    "df_genres['genres'] = df_genres['genres'].str.split(',').tolist()\n",
    "df_genres['genres']"
   ]
  },
  {
   "cell_type": "code",
   "execution_count": 39,
   "metadata": {},
   "outputs": [
    {
     "data": {
      "text/plain": [
       "(4773, 10)"
      ]
     },
     "execution_count": 39,
     "metadata": {},
     "output_type": "execute_result"
    }
   ],
   "source": [
    "# Then, I'm splitting the rows.\n",
    "# Finally, I'm turning the type from list to string again.\n",
    "df_genres = df_genres.explode('genres')\n",
    "df_genres['genres'] = df_genres['genres'].astype('str')\n",
    "df_genres.shape"
   ]
  },
  {
   "cell_type": "markdown",
   "metadata": {},
   "source": [
    "As we can see, the number of entries have increased from 1942 to 4773."
   ]
  },
  {
   "cell_type": "code",
   "execution_count": 40,
   "metadata": {},
   "outputs": [
    {
     "data": {
      "text/html": [
       "<div>\n",
       "<style scoped>\n",
       "    .dataframe tbody tr th:only-of-type {\n",
       "        vertical-align: middle;\n",
       "    }\n",
       "\n",
       "    .dataframe tbody tr th {\n",
       "        vertical-align: top;\n",
       "    }\n",
       "\n",
       "    .dataframe thead th {\n",
       "        text-align: right;\n",
       "    }\n",
       "</style>\n",
       "<table border=\"1\" class=\"dataframe\">\n",
       "  <thead>\n",
       "    <tr style=\"text-align: right;\">\n",
       "      <th></th>\n",
       "      <th>genres</th>\n",
       "    </tr>\n",
       "  </thead>\n",
       "  <tbody>\n",
       "    <tr>\n",
       "      <th>Drama</th>\n",
       "      <td>999</td>\n",
       "    </tr>\n",
       "    <tr>\n",
       "      <th>Comedy</th>\n",
       "      <td>686</td>\n",
       "    </tr>\n",
       "    <tr>\n",
       "      <th>Action</th>\n",
       "      <td>542</td>\n",
       "    </tr>\n",
       "    <tr>\n",
       "      <th>Adventure</th>\n",
       "      <td>374</td>\n",
       "    </tr>\n",
       "    <tr>\n",
       "      <th>Romance</th>\n",
       "      <td>311</td>\n",
       "    </tr>\n",
       "    <tr>\n",
       "      <th>Thriller</th>\n",
       "      <td>295</td>\n",
       "    </tr>\n",
       "    <tr>\n",
       "      <th>Crime</th>\n",
       "      <td>277</td>\n",
       "    </tr>\n",
       "    <tr>\n",
       "      <th>Biography</th>\n",
       "      <td>198</td>\n",
       "    </tr>\n",
       "    <tr>\n",
       "      <th>Horror</th>\n",
       "      <td>155</td>\n",
       "    </tr>\n",
       "    <tr>\n",
       "      <th>Mystery</th>\n",
       "      <td>137</td>\n",
       "    </tr>\n",
       "    <tr>\n",
       "      <th>Fantasy</th>\n",
       "      <td>131</td>\n",
       "    </tr>\n",
       "    <tr>\n",
       "      <th>Documentary</th>\n",
       "      <td>121</td>\n",
       "    </tr>\n",
       "    <tr>\n",
       "      <th>Animation</th>\n",
       "      <td>121</td>\n",
       "    </tr>\n",
       "    <tr>\n",
       "      <th>Sci-Fi</th>\n",
       "      <td>110</td>\n",
       "    </tr>\n",
       "    <tr>\n",
       "      <th>Family</th>\n",
       "      <td>88</td>\n",
       "    </tr>\n",
       "    <tr>\n",
       "      <th>History</th>\n",
       "      <td>76</td>\n",
       "    </tr>\n",
       "    <tr>\n",
       "      <th>Music</th>\n",
       "      <td>66</td>\n",
       "    </tr>\n",
       "    <tr>\n",
       "      <th>Sport</th>\n",
       "      <td>35</td>\n",
       "    </tr>\n",
       "    <tr>\n",
       "      <th>War</th>\n",
       "      <td>26</td>\n",
       "    </tr>\n",
       "    <tr>\n",
       "      <th>Western</th>\n",
       "      <td>12</td>\n",
       "    </tr>\n",
       "    <tr>\n",
       "      <th>Musical</th>\n",
       "      <td>12</td>\n",
       "    </tr>\n",
       "    <tr>\n",
       "      <th>News</th>\n",
       "      <td>1</td>\n",
       "    </tr>\n",
       "  </tbody>\n",
       "</table>\n",
       "</div>"
      ],
      "text/plain": [
       "             genres\n",
       "Drama           999\n",
       "Comedy          686\n",
       "Action          542\n",
       "Adventure       374\n",
       "Romance         311\n",
       "Thriller        295\n",
       "Crime           277\n",
       "Biography       198\n",
       "Horror          155\n",
       "Mystery         137\n",
       "Fantasy         131\n",
       "Documentary     121\n",
       "Animation       121\n",
       "Sci-Fi          110\n",
       "Family           88\n",
       "History          76\n",
       "Music            66\n",
       "Sport            35\n",
       "War              26\n",
       "Western          12\n",
       "Musical          12\n",
       "News              1"
      ]
     },
     "execution_count": 40,
     "metadata": {},
     "output_type": "execute_result"
    }
   ],
   "source": [
    "#I want to see the number of movies per genre.\n",
    "df_genres['genres'].value_counts().to_frame()"
   ]
  },
  {
   "cell_type": "code",
   "execution_count": 41,
   "metadata": {},
   "outputs": [
    {
     "data": {
      "image/png": "[encoded data removed]",
      "text/plain": [
       "<Figure size 1000x400 with 1 Axes>"
      ]
     },
     "metadata": {},
     "output_type": "display_data"
    }
   ],
   "source": [
    "# Let's visualise the output above.\n",
    "# I'm using Seaborn Countplot to show the number of observations we have for each genre.\n",
    "plt.figure(figsize=(10,4))\n",
    "sns.countplot(x=df_genres['genres'])\n",
    "plt.title('Number of Movies Per Genre', fontsize=18)\n",
    "plt.ylabel('Count', fontsize=16)\n",
    "plt.xlabel('Genre', fontsize=16)\n",
    "plt.xticks(fontsize=10)\n",
    "plt.yticks(fontsize=10)\n",
    "plt.xticks(rotation=-70);"
   ]
  },
  {
   "cell_type": "code",
   "execution_count": 42,
   "metadata": {
    "scrolled": true
   },
   "outputs": [
    {
     "data": {
      "image/png": "[encoded data removed]",
      "text/plain": [
       "<Figure size 1500x300 with 1 Axes>"
      ]
     },
     "metadata": {},
     "output_type": "display_data"
    }
   ],
   "source": [
    "# I realised the order of the genres is alphabetical.\n",
    "# I want to change the order from the highest count to the lowest.\n",
    "# Finally, I want to set another pallete that shows the highest count with the darkest color shade.\n",
    "plt.figure(figsize=(15,3))\n",
    "sns.countplot(\n",
    "    x=df_genres['genres'],\n",
    "    order = df_genres['genres'].value_counts().index,\n",
    "    palette = 'BuGn_r')\n",
    "plt.title('Number of Movies Per Genre', fontsize=16)\n",
    "plt.ylabel('Count', fontsize=13)\n",
    "plt.xlabel('Genre', fontsize=13)\n",
    "plt.xticks(fontsize=10)\n",
    "plt.yticks(fontsize=10)\n",
    "plt.xticks(rotation=-60);"
   ]
  },
  {
   "cell_type": "markdown",
   "metadata": {},
   "source": [
    "The Drama genre was most common in this dataset, followed by Comedy and Action. On the other hand, News, Musical, and Western were the least common.\n",
    "\n",
    "To understand which genres are doing the best at the box office, we need to see the average total gross of each genre and how the total gross spreads out. For this analysis, I will use boxplots.\n",
    "\n",
    "For my visualisations, I will show my plots with both with and without outliers. The outliers will give me an overall picture of the data and without outliers, I can see the trends more closely.\n",
    "\n",
    "Distribution of the data in terms of summary statistics."
   ]
  },
  {
   "cell_type": "code",
   "execution_count": 43,
   "metadata": {},
   "outputs": [
    {
     "data": {
      "text/html": [
       "<div>\n",
       "<style scoped>\n",
       "    .dataframe tbody tr th:only-of-type {\n",
       "        vertical-align: middle;\n",
       "    }\n",
       "\n",
       "    .dataframe tbody tr th {\n",
       "        vertical-align: top;\n",
       "    }\n",
       "\n",
       "    .dataframe thead th {\n",
       "        text-align: right;\n",
       "    }\n",
       "</style>\n",
       "<table border=\"1\" class=\"dataframe\">\n",
       "  <thead>\n",
       "    <tr style=\"text-align: right;\">\n",
       "      <th></th>\n",
       "      <th>median</th>\n",
       "      <th>mean</th>\n",
       "    </tr>\n",
       "    <tr>\n",
       "      <th>genres</th>\n",
       "      <th></th>\n",
       "      <th></th>\n",
       "    </tr>\n",
       "  </thead>\n",
       "  <tbody>\n",
       "    <tr>\n",
       "      <th>Sci-Fi</th>\n",
       "      <td>240.90</td>\n",
       "      <td>337.23</td>\n",
       "    </tr>\n",
       "    <tr>\n",
       "      <th>Animation</th>\n",
       "      <td>239.30</td>\n",
       "      <td>319.33</td>\n",
       "    </tr>\n",
       "    <tr>\n",
       "      <th>Adventure</th>\n",
       "      <td>198.80</td>\n",
       "      <td>313.94</td>\n",
       "    </tr>\n",
       "    <tr>\n",
       "      <th>Fantasy</th>\n",
       "      <td>87.10</td>\n",
       "      <td>204.60</td>\n",
       "    </tr>\n",
       "    <tr>\n",
       "      <th>Action</th>\n",
       "      <td>69.45</td>\n",
       "      <td>188.42</td>\n",
       "    </tr>\n",
       "    <tr>\n",
       "      <th>Family</th>\n",
       "      <td>79.30</td>\n",
       "      <td>154.74</td>\n",
       "    </tr>\n",
       "    <tr>\n",
       "      <th>Comedy</th>\n",
       "      <td>35.16</td>\n",
       "      <td>106.46</td>\n",
       "    </tr>\n",
       "    <tr>\n",
       "      <th>Thriller</th>\n",
       "      <td>37.30</td>\n",
       "      <td>103.97</td>\n",
       "    </tr>\n",
       "    <tr>\n",
       "      <th>Western</th>\n",
       "      <td>10.20</td>\n",
       "      <td>90.59</td>\n",
       "    </tr>\n",
       "    <tr>\n",
       "      <th>Musical</th>\n",
       "      <td>2.80</td>\n",
       "      <td>84.58</td>\n",
       "    </tr>\n",
       "    <tr>\n",
       "      <th>Mystery</th>\n",
       "      <td>33.20</td>\n",
       "      <td>81.02</td>\n",
       "    </tr>\n",
       "    <tr>\n",
       "      <th>Horror</th>\n",
       "      <td>41.70</td>\n",
       "      <td>80.63</td>\n",
       "    </tr>\n",
       "    <tr>\n",
       "      <th>Crime</th>\n",
       "      <td>23.10</td>\n",
       "      <td>61.84</td>\n",
       "    </tr>\n",
       "    <tr>\n",
       "      <th>Biography</th>\n",
       "      <td>15.70</td>\n",
       "      <td>58.24</td>\n",
       "    </tr>\n",
       "    <tr>\n",
       "      <th>History</th>\n",
       "      <td>12.10</td>\n",
       "      <td>56.44</td>\n",
       "    </tr>\n",
       "    <tr>\n",
       "      <th>Music</th>\n",
       "      <td>12.95</td>\n",
       "      <td>56.29</td>\n",
       "    </tr>\n",
       "    <tr>\n",
       "      <th>Drama</th>\n",
       "      <td>11.87</td>\n",
       "      <td>53.51</td>\n",
       "    </tr>\n",
       "    <tr>\n",
       "      <th>Romance</th>\n",
       "      <td>8.40</td>\n",
       "      <td>43.42</td>\n",
       "    </tr>\n",
       "    <tr>\n",
       "      <th>Sport</th>\n",
       "      <td>21.53</td>\n",
       "      <td>43.15</td>\n",
       "    </tr>\n",
       "    <tr>\n",
       "      <th>War</th>\n",
       "      <td>1.83</td>\n",
       "      <td>30.73</td>\n",
       "    </tr>\n",
       "    <tr>\n",
       "      <th>Documentary</th>\n",
       "      <td>0.73</td>\n",
       "      <td>11.55</td>\n",
       "    </tr>\n",
       "    <tr>\n",
       "      <th>News</th>\n",
       "      <td>0.01</td>\n",
       "      <td>0.01</td>\n",
       "    </tr>\n",
       "  </tbody>\n",
       "</table>\n",
       "</div>"
      ],
      "text/plain": [
       "             median   mean\n",
       "genres                    \n",
       "Sci-Fi       240.90 337.23\n",
       "Animation    239.30 319.33\n",
       "Adventure    198.80 313.94\n",
       "Fantasy       87.10 204.60\n",
       "Action        69.45 188.42\n",
       "Family        79.30 154.74\n",
       "Comedy        35.16 106.46\n",
       "Thriller      37.30 103.97\n",
       "Western       10.20  90.59\n",
       "Musical        2.80  84.58\n",
       "Mystery       33.20  81.02\n",
       "Horror        41.70  80.63\n",
       "Crime         23.10  61.84\n",
       "Biography     15.70  58.24\n",
       "History       12.10  56.44\n",
       "Music         12.95  56.29\n",
       "Drama         11.87  53.51\n",
       "Romance        8.40  43.42\n",
       "Sport         21.53  43.15\n",
       "War            1.83  30.73\n",
       "Documentary    0.73  11.55\n",
       "News           0.01   0.01"
      ]
     },
     "execution_count": 43,
     "metadata": {},
     "output_type": "execute_result"
    }
   ],
   "source": [
    "# Getting mean and median of the total gross by genre.\n",
    "genre_stats = df_genres.groupby('genres')['total_gross_mil'].agg(['median', 'mean'])\n",
    "genre_stats.sort_values(by='mean', ascending=False)"
   ]
  },
  {
   "cell_type": "code",
   "execution_count": 44,
   "metadata": {},
   "outputs": [
    {
     "data": {
      "text/html": [
       "<div>\n",
       "<style scoped>\n",
       "    .dataframe tbody tr th:only-of-type {\n",
       "        vertical-align: middle;\n",
       "    }\n",
       "\n",
       "    .dataframe tbody tr th {\n",
       "        vertical-align: top;\n",
       "    }\n",
       "\n",
       "    .dataframe thead th {\n",
       "        text-align: right;\n",
       "    }\n",
       "</style>\n",
       "<table border=\"1\" class=\"dataframe\">\n",
       "  <thead>\n",
       "    <tr style=\"text-align: right;\">\n",
       "      <th></th>\n",
       "      <th>total_gross_mil</th>\n",
       "    </tr>\n",
       "    <tr>\n",
       "      <th>genres</th>\n",
       "      <th></th>\n",
       "    </tr>\n",
       "  </thead>\n",
       "  <tbody>\n",
       "    <tr>\n",
       "      <th>Sci-Fi</th>\n",
       "      <td>507.00</td>\n",
       "    </tr>\n",
       "    <tr>\n",
       "      <th>Animation</th>\n",
       "      <td>463.05</td>\n",
       "    </tr>\n",
       "    <tr>\n",
       "      <th>Adventure</th>\n",
       "      <td>434.10</td>\n",
       "    </tr>\n",
       "    <tr>\n",
       "      <th>Action</th>\n",
       "      <td>240.65</td>\n",
       "    </tr>\n",
       "    <tr>\n",
       "      <th>Fantasy</th>\n",
       "      <td>222.95</td>\n",
       "    </tr>\n",
       "    <tr>\n",
       "      <th>Family</th>\n",
       "      <td>180.68</td>\n",
       "    </tr>\n",
       "    <tr>\n",
       "      <th>Thriller</th>\n",
       "      <td>127.05</td>\n",
       "    </tr>\n",
       "    <tr>\n",
       "      <th>Western</th>\n",
       "      <td>126.49</td>\n",
       "    </tr>\n",
       "    <tr>\n",
       "      <th>Comedy</th>\n",
       "      <td>117.75</td>\n",
       "    </tr>\n",
       "    <tr>\n",
       "      <th>Mystery</th>\n",
       "      <td>96.56</td>\n",
       "    </tr>\n",
       "    <tr>\n",
       "      <th>Horror</th>\n",
       "      <td>91.93</td>\n",
       "    </tr>\n",
       "    <tr>\n",
       "      <th>Crime</th>\n",
       "      <td>78.60</td>\n",
       "    </tr>\n",
       "    <tr>\n",
       "      <th>Music</th>\n",
       "      <td>67.02</td>\n",
       "    </tr>\n",
       "    <tr>\n",
       "      <th>Musical</th>\n",
       "      <td>66.73</td>\n",
       "    </tr>\n",
       "    <tr>\n",
       "      <th>History</th>\n",
       "      <td>65.85</td>\n",
       "    </tr>\n",
       "    <tr>\n",
       "      <th>Drama</th>\n",
       "      <td>60.65</td>\n",
       "    </tr>\n",
       "    <tr>\n",
       "      <th>Biography</th>\n",
       "      <td>59.43</td>\n",
       "    </tr>\n",
       "    <tr>\n",
       "      <th>Romance</th>\n",
       "      <td>57.21</td>\n",
       "    </tr>\n",
       "    <tr>\n",
       "      <th>Sport</th>\n",
       "      <td>41.75</td>\n",
       "    </tr>\n",
       "    <tr>\n",
       "      <th>War</th>\n",
       "      <td>10.09</td>\n",
       "    </tr>\n",
       "    <tr>\n",
       "      <th>Documentary</th>\n",
       "      <td>5.21</td>\n",
       "    </tr>\n",
       "    <tr>\n",
       "      <th>News</th>\n",
       "      <td>0.00</td>\n",
       "    </tr>\n",
       "  </tbody>\n",
       "</table>\n",
       "</div>"
      ],
      "text/plain": [
       "             total_gross_mil\n",
       "genres                      \n",
       "Sci-Fi                507.00\n",
       "Animation             463.05\n",
       "Adventure             434.10\n",
       "Action                240.65\n",
       "Fantasy               222.95\n",
       "Family                180.68\n",
       "Thriller              127.05\n",
       "Western               126.49\n",
       "Comedy                117.75\n",
       "Mystery                96.56\n",
       "Horror                 91.93\n",
       "Crime                  78.60\n",
       "Music                  67.02\n",
       "Musical                66.73\n",
       "History                65.85\n",
       "Drama                  60.65\n",
       "Biography              59.43\n",
       "Romance                57.21\n",
       "Sport                  41.75\n",
       "War                    10.09\n",
       "Documentary             5.21\n",
       "News                    0.00"
      ]
     },
     "execution_count": 44,
     "metadata": {},
     "output_type": "execute_result"
    }
   ],
   "source": [
    "# Getting Q1 (25th percentile) for total gross of each genre\n",
    "a = df_genres.groupby('genres')['total_gross_mil'].quantile(0.25)\n",
    "# Getting Q3 (75th percentile) for total gross of each genre\n",
    "b = df_genres.groupby('genres')['total_gross_mil'].quantile(0.75)\n",
    "# Getting interquartile range (IQR) for total gross of each genre\n",
    "iqr = b - a\n",
    "iqr.sort_values(ascending=False).to_frame()"
   ]
  },
  {
   "cell_type": "code",
   "execution_count": 45,
   "metadata": {},
   "outputs": [
    {
     "data": {
      "image/png": "[encoded data removed]",
      "text/plain": [
       "<Figure size 1000x500 with 1 Axes>"
      ]
     },
     "metadata": {},
     "output_type": "display_data"
    }
   ],
   "source": [
    "# Generating box plot of total gross statistics per genre with outliers\n",
    "\n",
    "plt.figure(figsize=(10,5))\n",
    "sns.boxplot(x='genres', y='total_gross_mil', data=df_genres, palette='BuGn_r')\n",
    "plt.xticks(rotation=-80)\n",
    "plt.ylabel('Total Gross in Millions', fontsize=13)\n",
    "plt.xlabel('Genre', fontsize = 13)\n",
    "plt.title('Total Gross by Genre (With Outliers)', fontsize = 16)\n",
    "plt.xticks(fontsize=10)\n",
    "plt.yticks(fontsize=10);"
   ]
  },
  {
   "cell_type": "code",
   "execution_count": 46,
   "metadata": {},
   "outputs": [
    {
     "data": {
      "image/png": "[encoded data removed]",
      "text/plain": [
       "<Figure size 1000x500 with 1 Axes>"
      ]
     },
     "metadata": {},
     "output_type": "display_data"
    }
   ],
   "source": [
    "# Generating box plot of total gross statistics per genre without outliers\n",
    "\n",
    "plt.figure(figsize=(10,5))\n",
    "sns.boxplot(x='genres', y='total_gross_mil', data=df_genres, showfliers=False, palette='BuGn_r')\n",
    "plt.xticks(rotation=-80)\n",
    "plt.ylabel('Total Gross in Millions', fontsize=13)\n",
    "plt.xlabel('Genre', fontsize = 13)\n",
    "plt.title('Total Gross by Genre (Without Outliers)', fontsize = 16)\n",
    "plt.xticks(fontsize=10)\n",
    "plt.yticks(fontsize=10);"
   ]
  },
  {
   "cell_type": "markdown",
   "metadata": {},
   "source": [
    "Based on mean and median, Sci-Fi appears to have the highest total gross for the time period I explored. \n",
    "It indicates the Sci-Fi genre has a higher potential for box office successs. \n",
    "On the other hand, Sc-Fi has the largest interquartile range (IQR), meaning that the middle values of the total gross\n",
    "is the most spread out. The large IQR suggests that the Sci-Fi movies can produce a wide range of total gross values.\n",
    "Finally, Sci-Fi doesn't have many outliers which makes the success predictions somewhat more reliable.\n",
    "\n",
    "After Sci-Fi, Animation and Adventure were the highest-grossing categories based on mean and median.\n",
    "These categories have high IQRs as well, with a large variance in total gross values. \n",
    "\n",
    "After looking at the IQRs, it is clear that the total gross values can spread out widely and the success depends more\n",
    "than one variable. The other factors effecting each genres' total gross need to be explored more in depth."
   ]
  },
  {
   "cell_type": "markdown",
   "metadata": {},
   "source": [
    "### Runtime"
   ]
  },
  {
   "cell_type": "code",
   "execution_count": 47,
   "metadata": {
    "scrolled": true
   },
   "outputs": [
    {
     "name": "stdout",
     "output_type": "stream",
     "text": [
      "<class 'pandas.core.frame.DataFrame'>\n",
      "Int64Index: 3428 entries, 0 to 3427\n",
      "Data columns (total 10 columns):\n",
      " #   Column           Non-Null Count  Dtype  \n",
      "---  ------           --------------  -----  \n",
      " 0   title            3428 non-null   object \n",
      " 1   release_year     3428 non-null   int64  \n",
      " 2   average_rating   1918 non-null   float64\n",
      " 3   runtime_minutes  1934 non-null   float64\n",
      " 4   genres           1942 non-null   object \n",
      " 5   studio           3423 non-null   object \n",
      " 6   total_gross_mil  3428 non-null   float64\n",
      " 7   domestic_gross   3428 non-null   object \n",
      " 8   foreign_gross    3428 non-null   object \n",
      " 9   total_gross      3428 non-null   object \n",
      "dtypes: float64(3), int64(1), object(6)\n",
      "memory usage: 294.6+ KB\n"
     ]
    }
   ],
   "source": [
    "# The second variable I'm exploring is the runtime.\n",
    "# I will start creating a copy of master DataFrame for this use.\n",
    "df_runtime = df_master.copy()\n",
    "df_runtime.info()"
   ]
  },
  {
   "cell_type": "code",
   "execution_count": 48,
   "metadata": {},
   "outputs": [],
   "source": [
    "# 43.35% of the entries have null values for the runtime.\n",
    "df_runtime = df_runtime.dropna(axis=0, subset=['runtime_minutes'])"
   ]
  },
  {
   "cell_type": "code",
   "execution_count": 49,
   "metadata": {},
   "outputs": [
    {
     "name": "stdout",
     "output_type": "stream",
     "text": [
      "<class 'pandas.core.frame.DataFrame'>\n",
      "Int64Index: 1934 entries, 0 to 3427\n",
      "Data columns (total 10 columns):\n",
      " #   Column           Non-Null Count  Dtype  \n",
      "---  ------           --------------  -----  \n",
      " 0   title            1934 non-null   object \n",
      " 1   release_year     1934 non-null   int64  \n",
      " 2   average_rating   1914 non-null   float64\n",
      " 3   runtime_minutes  1934 non-null   float64\n",
      " 4   genres           1933 non-null   object \n",
      " 5   studio           1932 non-null   object \n",
      " 6   total_gross_mil  1934 non-null   float64\n",
      " 7   domestic_gross   1934 non-null   object \n",
      " 8   foreign_gross    1934 non-null   object \n",
      " 9   total_gross      1934 non-null   object \n",
      "dtypes: float64(3), int64(1), object(6)\n",
      "memory usage: 166.2+ KB\n"
     ]
    }
   ],
   "source": [
    "# Let's check the DataFrame again.\n",
    "df_runtime.info()"
   ]
  },
  {
   "cell_type": "code",
   "execution_count": 50,
   "metadata": {},
   "outputs": [
    {
     "data": {
      "text/plain": [
       "count   1934.00\n",
       "mean     110.23\n",
       "std       20.39\n",
       "min        5.00\n",
       "25%       96.00\n",
       "50%      107.00\n",
       "75%      122.00\n",
       "max      189.00\n",
       "Name: runtime_minutes, dtype: float64"
      ]
     },
     "execution_count": 50,
     "metadata": {},
     "output_type": "execute_result"
    }
   ],
   "source": [
    "# Now, I want to see the statistical summary of the runtimes.\n",
    "df_runtime['runtime_minutes'].describe()"
   ]
  },
  {
   "cell_type": "markdown",
   "metadata": {},
   "source": [
    "As we can see, the runtimes vary between 5 minutes and 189 minutes. The mean is 110 minutes, which is just under 2 hours. To better understand the runtime variable, I'm going to categorise them based on their length.\n",
    "\n",
    "According to The Academy of Motion Picture Arts and Sciences, movies under 40 minutes are considered to be short films. Any movie with a runtime of 41 and above is considered a feature-length film. For box office success, we need to analyse feature-length films. That's why I could remove them from my analysis but for now, I'll leave them in just out of curiosity.\n",
    "\n",
    "We also know 90 minutes movies used to be considered the industry standard for a feature-length film. However, previous studies that ran by external parties showed another trend. The top 10 movies of the summer of 2009 had an average running time of 116 minutes. In the summer of 2019, that stat increased to 125 minutes. We also have some big box office hits that passed the 125-minute mark in recent years. For example, 'Avengers: Endgame' had a runtime of 182 minutes, and 'Once Upon a Time in Hollywood' pushed past the 160-minute mark.\n",
    "\n",
    "Based on all the background information above, I'm going to categorise the runtimes as below:\n",
    "* Anything below 41 min is a short film\n",
    "* Anything between 41 min and 100 min is a short format feature-film\n",
    "* Anything between 101 min and 125 min is a medium format feature-film\n",
    "* Anything between 125 min and 180 min is a long format feature-film\n",
    "* Anything above 180 min is a super sized feature-film"
   ]
  },
  {
   "cell_type": "code",
   "execution_count": 51,
   "metadata": {},
   "outputs": [],
   "source": [
    "# Defining a new function to assign the movie length categories\n",
    "\n",
    "def movie_length(x):\n",
    "    if x < 41:\n",
    "        return 'Short Film'\n",
    "    elif x > 40 and x < 101:\n",
    "        return 'Short Format Feature-Film'\n",
    "    elif x > 100 and x  < 126:\n",
    "        return 'Medium Format Feature-Film'\n",
    "    elif x > 125 and x < 181:\n",
    "        return 'Long Format Feature-Film'\n",
    "    else:\n",
    "        return 'Super-Sized Feature-Film'"
   ]
  },
  {
   "cell_type": "code",
   "execution_count": 52,
   "metadata": {},
   "outputs": [
    {
     "data": {
      "text/html": [
       "<div>\n",
       "<style scoped>\n",
       "    .dataframe tbody tr th:only-of-type {\n",
       "        vertical-align: middle;\n",
       "    }\n",
       "\n",
       "    .dataframe tbody tr th {\n",
       "        vertical-align: top;\n",
       "    }\n",
       "\n",
       "    .dataframe thead th {\n",
       "        text-align: right;\n",
       "    }\n",
       "</style>\n",
       "<table border=\"1\" class=\"dataframe\">\n",
       "  <thead>\n",
       "    <tr style=\"text-align: right;\">\n",
       "      <th></th>\n",
       "      <th>movie_length</th>\n",
       "    </tr>\n",
       "  </thead>\n",
       "  <tbody>\n",
       "    <tr>\n",
       "      <th>Medium Format Feature-Film</th>\n",
       "      <td>862</td>\n",
       "    </tr>\n",
       "    <tr>\n",
       "      <th>Short Format Feature-Film</th>\n",
       "      <td>661</td>\n",
       "    </tr>\n",
       "    <tr>\n",
       "      <th>Long Format Feature-Film</th>\n",
       "      <td>401</td>\n",
       "    </tr>\n",
       "    <tr>\n",
       "      <th>Short Film</th>\n",
       "      <td>7</td>\n",
       "    </tr>\n",
       "    <tr>\n",
       "      <th>Super-Sized Feature-Film</th>\n",
       "      <td>3</td>\n",
       "    </tr>\n",
       "  </tbody>\n",
       "</table>\n",
       "</div>"
      ],
      "text/plain": [
       "                            movie_length\n",
       "Medium Format Feature-Film           862\n",
       "Short Format Feature-Film            661\n",
       "Long Format Feature-Film             401\n",
       "Short Film                             7\n",
       "Super-Sized Feature-Film               3"
      ]
     },
     "execution_count": 52,
     "metadata": {},
     "output_type": "execute_result"
    }
   ],
   "source": [
    "# Definning a new series using the movie_length() function\n",
    "df_runtime['movie_length'] = df_runtime['runtime_minutes'].apply(movie_length)\n",
    "df_runtime['movie_length'].value_counts().to_frame()"
   ]
  },
  {
   "cell_type": "code",
   "execution_count": 53,
   "metadata": {
    "scrolled": true
   },
   "outputs": [
    {
     "data": {
      "text/html": [
       "<div>\n",
       "<style scoped>\n",
       "    .dataframe tbody tr th:only-of-type {\n",
       "        vertical-align: middle;\n",
       "    }\n",
       "\n",
       "    .dataframe tbody tr th {\n",
       "        vertical-align: top;\n",
       "    }\n",
       "\n",
       "    .dataframe thead th {\n",
       "        text-align: right;\n",
       "    }\n",
       "</style>\n",
       "<table border=\"1\" class=\"dataframe\">\n",
       "  <thead>\n",
       "    <tr style=\"text-align: right;\">\n",
       "      <th></th>\n",
       "      <th>median</th>\n",
       "      <th>mean</th>\n",
       "    </tr>\n",
       "    <tr>\n",
       "      <th>movie_length</th>\n",
       "      <th></th>\n",
       "      <th></th>\n",
       "    </tr>\n",
       "  </thead>\n",
       "  <tbody>\n",
       "    <tr>\n",
       "      <th>Long Format Feature-Film</th>\n",
       "      <td>25.70</td>\n",
       "      <td>173.52</td>\n",
       "    </tr>\n",
       "    <tr>\n",
       "      <th>Medium Format Feature-Film</th>\n",
       "      <td>35.75</td>\n",
       "      <td>98.87</td>\n",
       "    </tr>\n",
       "    <tr>\n",
       "      <th>Short Format Feature-Film</th>\n",
       "      <td>15.68</td>\n",
       "      <td>76.64</td>\n",
       "    </tr>\n",
       "    <tr>\n",
       "      <th>Short Film</th>\n",
       "      <td>4.50</td>\n",
       "      <td>13.24</td>\n",
       "    </tr>\n",
       "    <tr>\n",
       "      <th>Super-Sized Feature-Film</th>\n",
       "      <td>1.60</td>\n",
       "      <td>10.23</td>\n",
       "    </tr>\n",
       "  </tbody>\n",
       "</table>\n",
       "</div>"
      ],
      "text/plain": [
       "                            median   mean\n",
       "movie_length                             \n",
       "Long Format Feature-Film     25.70 173.52\n",
       "Medium Format Feature-Film   35.75  98.87\n",
       "Short Format Feature-Film    15.68  76.64\n",
       "Short Film                    4.50  13.24\n",
       "Super-Sized Feature-Film      1.60  10.23"
      ]
     },
     "execution_count": 53,
     "metadata": {},
     "output_type": "execute_result"
    }
   ],
   "source": [
    "# The majority of the movies fall into the \"medium format\" followed by the \"short format\"\n",
    "# Getting mean and median of the total gross by movie length.\n",
    "genre_stats_2 = df_runtime.groupby('movie_length')['total_gross_mil'].agg(['median', 'mean'])\n",
    "genre_stats_2.sort_values(by='mean', ascending=False)"
   ]
  },
  {
   "cell_type": "code",
   "execution_count": 54,
   "metadata": {},
   "outputs": [
    {
     "data": {
      "text/plain": [
       "movie_length\n",
       "Long Format Feature-Film     204.42\n",
       "Medium Format Feature-Film   116.88\n",
       "Short Format Feature-Film     78.09\n",
       "Super-Sized Feature-Film      13.25\n",
       "Short Film                     9.40\n",
       "Name: total_gross_mil, dtype: float64"
      ]
     },
     "execution_count": 54,
     "metadata": {},
     "output_type": "execute_result"
    }
   ],
   "source": [
    "# Getting Q1 (25th percentile) for total gross of each movie length\n",
    "c = df_runtime.groupby('movie_length')['total_gross_mil'].quantile(0.25)\n",
    "# Getting Q3 (75th percentile) for total gross of each movie length\n",
    "d = df_runtime.groupby('movie_length')['total_gross_mil'].quantile(0.75)\n",
    "# Getting interquartile range (IQR) for total gross of each movie length\n",
    "iqr_2 = d - c\n",
    "iqr_2.sort_values(ascending=False)"
   ]
  },
  {
   "cell_type": "code",
   "execution_count": 55,
   "metadata": {},
   "outputs": [
    {
     "data": {
      "image/png": "[encoded data removed]",
      "text/plain": [
       "<Figure size 900x400 with 1 Axes>"
      ]
     },
     "metadata": {},
     "output_type": "display_data"
    }
   ],
   "source": [
    "# Generating box plot of total gross statistics per movie length with outliers\n",
    "\n",
    "plt.figure(figsize=(9,4))\n",
    "sns.boxplot(x='movie_length', y='total_gross_mil', data=df_runtime, palette='BuGn_r')\n",
    "plt.xticks(rotation=-80)\n",
    "plt.ylabel('Total Gross in Millions', fontsize=13)\n",
    "plt.xlabel('Movie Length', fontsize = 13)\n",
    "plt.title('Total Gross by Movie Length (With Outliers)', fontsize = 16)\n",
    "plt.xticks(fontsize=10)\n",
    "plt.yticks(fontsize=10);"
   ]
  },
  {
   "cell_type": "code",
   "execution_count": 56,
   "metadata": {},
   "outputs": [
    {
     "data": {
      "image/png": "[encoded data removed]",
      "text/plain": [
       "<Figure size 900x400 with 1 Axes>"
      ]
     },
     "metadata": {},
     "output_type": "display_data"
    }
   ],
   "source": [
    "# Generating box plot of total gross statistics per movie length without outliers\n",
    "\n",
    "plt.figure(figsize=(9,4))\n",
    "sns.boxplot(x='movie_length', y='total_gross_mil', data=df_runtime, showfliers=False, palette='BuGn_r')\n",
    "plt.xticks(rotation=-80)\n",
    "plt.ylabel('Total Gross in Millions', fontsize=13)\n",
    "plt.xlabel('Movie Length', fontsize = 13)\n",
    "plt.title('Total Gross by Movie Length (Without Outliers)', fontsize = 16)\n",
    "plt.xticks(fontsize=10)\n",
    "plt.yticks(fontsize=10);"
   ]
  },
  {
   "cell_type": "markdown",
   "metadata": {},
   "source": [
    "Based on the mean, the long-format feature films, that last between 125 min and 180 min, appear to have the highest total gross. \n",
    "It indicates the long format has a higher potential for box office success. It also has the largest interquartile range (IQR), meaning that the middle values of the total gross are the most spread out. It suggests that the box office revenue could vary. On the other hand, it has a very clear right-skewed distribution with a long right whisker.\n",
    "This right-skewed distribution tells us that more movies fall into the higher side of the mean.\n",
    "\n",
    "Note that, we're only looking at the gross total values in this study. We can assume that longer movies have higher production costs than shorter ones.\n",
    "To understand the business performance of these movies, we need to do another study that includes the return on investment figure (Net Revenue/Production Cost)."
   ]
  },
  {
   "cell_type": "markdown",
   "metadata": {},
   "source": [
    "### Average Rating"
   ]
  },
  {
   "cell_type": "code",
   "execution_count": 57,
   "metadata": {},
   "outputs": [
    {
     "name": "stdout",
     "output_type": "stream",
     "text": [
      "<class 'pandas.core.frame.DataFrame'>\n",
      "Int64Index: 3428 entries, 0 to 3427\n",
      "Data columns (total 10 columns):\n",
      " #   Column           Non-Null Count  Dtype  \n",
      "---  ------           --------------  -----  \n",
      " 0   title            3428 non-null   object \n",
      " 1   release_year     3428 non-null   int64  \n",
      " 2   average_rating   1918 non-null   float64\n",
      " 3   runtime_minutes  1934 non-null   float64\n",
      " 4   genres           1942 non-null   object \n",
      " 5   studio           3423 non-null   object \n",
      " 6   total_gross_mil  3428 non-null   float64\n",
      " 7   domestic_gross   3428 non-null   object \n",
      " 8   foreign_gross    3428 non-null   object \n",
      " 9   total_gross      3428 non-null   object \n",
      "dtypes: float64(3), int64(1), object(6)\n",
      "memory usage: 294.6+ KB\n"
     ]
    }
   ],
   "source": [
    "# The third and final variable I'm exploring is the average rating.\n",
    "# I will start creating a copy of master DataFrame for this use.\n",
    "df_rating = df_master.copy()\n",
    "df_rating.info()"
   ]
  },
  {
   "cell_type": "code",
   "execution_count": 58,
   "metadata": {},
   "outputs": [],
   "source": [
    "# 44.05% of the entries have null values for the average rating.\n",
    "df_rating = df_rating.dropna(axis=0, subset=['average_rating'])"
   ]
  },
  {
   "cell_type": "code",
   "execution_count": 59,
   "metadata": {},
   "outputs": [
    {
     "name": "stdout",
     "output_type": "stream",
     "text": [
      "<class 'pandas.core.frame.DataFrame'>\n",
      "Int64Index: 1918 entries, 0 to 3427\n",
      "Data columns (total 10 columns):\n",
      " #   Column           Non-Null Count  Dtype  \n",
      "---  ------           --------------  -----  \n",
      " 0   title            1918 non-null   object \n",
      " 1   release_year     1918 non-null   int64  \n",
      " 2   average_rating   1918 non-null   float64\n",
      " 3   runtime_minutes  1914 non-null   float64\n",
      " 4   genres           1916 non-null   object \n",
      " 5   studio           1916 non-null   object \n",
      " 6   total_gross_mil  1918 non-null   float64\n",
      " 7   domestic_gross   1918 non-null   object \n",
      " 8   foreign_gross    1918 non-null   object \n",
      " 9   total_gross      1918 non-null   object \n",
      "dtypes: float64(3), int64(1), object(6)\n",
      "memory usage: 164.8+ KB\n"
     ]
    }
   ],
   "source": [
    "# Let's check the DataFrame again.\n",
    "df_rating.info()"
   ]
  },
  {
   "cell_type": "code",
   "execution_count": 60,
   "metadata": {},
   "outputs": [
    {
     "data": {
      "image/png": "[encoded data removed]",
      "text/plain": [
       "<Figure size 900x400 with 1 Axes>"
      ]
     },
     "metadata": {},
     "output_type": "display_data"
    }
   ],
   "source": [
    "# I want to start exploring if there's any correlation between the total gross and average rating variables\n",
    "\n",
    "plt.figure(figsize=(9,4))\n",
    "sns.regplot(x=\"average_rating\", y=\"total_gross_mil\", data=df_rating, scatter_kws={'s':10}, color='seagreen')\n",
    "plt.ylabel('Total Gross in Millions', fontsize=13)\n",
    "plt.xlabel('Average Rating', fontsize = 13)\n",
    "plt.title('Average Rating vs Total Gross', fontsize = 16)\n",
    "plt.xticks(fontsize=10)\n",
    "plt.yticks(fontsize=10);"
   ]
  },
  {
   "cell_type": "code",
   "execution_count": 61,
   "metadata": {},
   "outputs": [
    {
     "data": {
      "text/plain": [
       "0.2044654394505126"
      ]
     },
     "execution_count": 61,
     "metadata": {},
     "output_type": "execute_result"
    }
   ],
   "source": [
    "x = df_rating['average_rating']\n",
    "y = df_rating['total_gross_mil']\n",
    "r = np.corrcoef(x,y)\n",
    "r[1, 0]"
   ]
  },
  {
   "cell_type": "markdown",
   "metadata": {},
   "source": [
    "Based on the Pearson correlation coefficient (r), there is a weak positive correlation between the average rating and the total gross figure. The association between them is negligible.\n",
    "\n",
    "It is interesting to see that the higher rating movies do not necessarily records higher gross figures.\n",
    "\n",
    "Before moving forward, I'm curious to see if we'll find any strong correlation between the long-format feature films and the average rating."
   ]
  },
  {
   "cell_type": "code",
   "execution_count": 62,
   "metadata": {},
   "outputs": [
    {
     "data": {
      "text/plain": [
       "0.28862133606254736"
      ]
     },
     "execution_count": 62,
     "metadata": {},
     "output_type": "execute_result"
    }
   ],
   "source": [
    "df_long_format = df_runtime.copy()\n",
    "df_long_format = df_long_format.loc[df_long_format['movie_length'] == 'Long Format Feature-Film']\n",
    "x = df_long_format['average_rating']\n",
    "y = df_long_format['total_gross_mil']\n",
    "r = np.corrcoef(x,y)\n",
    "r[1, 0]"
   ]
  },
  {
   "cell_type": "markdown",
   "metadata": {},
   "source": [
    "There is a weak positive correlation between long-format movies and average ratings. It still means that the higher rating movies do not necessarily generate higher gross figures.\n",
    "\n",
    "Because we couldn't find any significant correlation between these two variables, I will categorise the ratings and explore their categorical statistics."
   ]
  },
  {
   "cell_type": "code",
   "execution_count": 63,
   "metadata": {},
   "outputs": [
    {
     "data": {
      "text/html": [
       "<div>\n",
       "<style scoped>\n",
       "    .dataframe tbody tr th:only-of-type {\n",
       "        vertical-align: middle;\n",
       "    }\n",
       "\n",
       "    .dataframe tbody tr th {\n",
       "        vertical-align: top;\n",
       "    }\n",
       "\n",
       "    .dataframe thead th {\n",
       "        text-align: right;\n",
       "    }\n",
       "</style>\n",
       "<table border=\"1\" class=\"dataframe\">\n",
       "  <thead>\n",
       "    <tr style=\"text-align: right;\">\n",
       "      <th></th>\n",
       "      <th>rating_type</th>\n",
       "    </tr>\n",
       "  </thead>\n",
       "  <tbody>\n",
       "    <tr>\n",
       "      <th>Medium</th>\n",
       "      <td>1248</td>\n",
       "    </tr>\n",
       "    <tr>\n",
       "      <th>Low</th>\n",
       "      <td>591</td>\n",
       "    </tr>\n",
       "    <tr>\n",
       "      <th>High</th>\n",
       "      <td>79</td>\n",
       "    </tr>\n",
       "  </tbody>\n",
       "</table>\n",
       "</div>"
      ],
      "text/plain": [
       "        rating_type\n",
       "Medium         1248\n",
       "Low             591\n",
       "High             79"
      ]
     },
     "execution_count": 63,
     "metadata": {},
     "output_type": "execute_result"
    }
   ],
   "source": [
    "# Definning a new series to categorise the average ratings.\n",
    "# The average IMDb score is approximately a 6.4\n",
    "# Anything lower than or equal to 6 will be categorised as low.\n",
    "# Anything greater than or equal to 8 will be categorised as high.\n",
    "# Everything in between will be medium.\n",
    "df_rating[\"rating_type\"] = df_rating[\"average_rating\"].map(lambda x: \"High\" if x >= 8 else (\"Low\" if x <= 6 else \"Medium\"))\n",
    "df_rating[\"rating_type\"].value_counts().to_frame()"
   ]
  },
  {
   "cell_type": "code",
   "execution_count": 64,
   "metadata": {},
   "outputs": [
    {
     "data": {
      "text/html": [
       "<div>\n",
       "<style scoped>\n",
       "    .dataframe tbody tr th:only-of-type {\n",
       "        vertical-align: middle;\n",
       "    }\n",
       "\n",
       "    .dataframe tbody tr th {\n",
       "        vertical-align: top;\n",
       "    }\n",
       "\n",
       "    .dataframe thead th {\n",
       "        text-align: right;\n",
       "    }\n",
       "</style>\n",
       "<table border=\"1\" class=\"dataframe\">\n",
       "  <thead>\n",
       "    <tr style=\"text-align: right;\">\n",
       "      <th></th>\n",
       "      <th>median</th>\n",
       "      <th>mean</th>\n",
       "    </tr>\n",
       "    <tr>\n",
       "      <th>rating_type</th>\n",
       "      <th></th>\n",
       "      <th></th>\n",
       "    </tr>\n",
       "  </thead>\n",
       "  <tbody>\n",
       "    <tr>\n",
       "      <th>High</th>\n",
       "      <td>98.30</td>\n",
       "      <td>238.92</td>\n",
       "    </tr>\n",
       "    <tr>\n",
       "      <th>Medium</th>\n",
       "      <td>29.30</td>\n",
       "      <td>119.66</td>\n",
       "    </tr>\n",
       "    <tr>\n",
       "      <th>Low</th>\n",
       "      <td>16.90</td>\n",
       "      <td>62.91</td>\n",
       "    </tr>\n",
       "  </tbody>\n",
       "</table>\n",
       "</div>"
      ],
      "text/plain": [
       "             median   mean\n",
       "rating_type               \n",
       "High          98.30 238.92\n",
       "Medium        29.30 119.66\n",
       "Low           16.90  62.91"
      ]
     },
     "execution_count": 64,
     "metadata": {},
     "output_type": "execute_result"
    }
   ],
   "source": [
    "# The majority of the movies fall into the \"medium rating\".\n",
    "# Getting mean and median of the total gross by the rating type.\n",
    "genre_stats_3 = df_rating.groupby('rating_type')['total_gross_mil'].agg(['median', 'mean'])\n",
    "genre_stats_3.sort_values(by='mean', ascending=False)"
   ]
  },
  {
   "cell_type": "code",
   "execution_count": 65,
   "metadata": {},
   "outputs": [
    {
     "data": {
      "text/plain": [
       "rating_type\n",
       "High     373.90\n",
       "Medium   125.58\n",
       "Low       78.12\n",
       "Name: total_gross_mil, dtype: float64"
      ]
     },
     "execution_count": 65,
     "metadata": {},
     "output_type": "execute_result"
    }
   ],
   "source": [
    "# Getting Q1 (25th percentile) for total gross of each rating type\n",
    "e = df_rating.groupby('rating_type')['total_gross_mil'].quantile(0.25)\n",
    "# Getting Q3 (75th percentile) for total gross of each rating type\n",
    "f = df_rating.groupby('rating_type')['total_gross_mil'].quantile(0.75)\n",
    "# Getting interquartile range (IQR) for total gross of each rating type\n",
    "iqr_3 = f - e\n",
    "iqr_3.sort_values(ascending=False)"
   ]
  },
  {
   "cell_type": "code",
   "execution_count": 66,
   "metadata": {},
   "outputs": [
    {
     "data": {
      "image/png": "[encoded data removed]",
      "text/plain": [
       "<Figure size 900x400 with 1 Axes>"
      ]
     },
     "metadata": {},
     "output_type": "display_data"
    }
   ],
   "source": [
    "# Generating box plot of total gross statistics per rating type with outliers\n",
    "\n",
    "plt.figure(figsize=(9,4))\n",
    "sns.boxplot(x='rating_type', y='total_gross_mil', data=df_rating, palette='BuGn_r')\n",
    "plt.xticks(rotation=-80)\n",
    "plt.ylabel('Total Gross in Millions', fontsize=13)\n",
    "plt.xlabel('Rating Type', fontsize = 13)\n",
    "plt.title('Total Gross by Rating Type (With Outliers)', fontsize = 16)\n",
    "plt.xticks(fontsize=10)\n",
    "plt.yticks(fontsize=10);"
   ]
  },
  {
   "cell_type": "code",
   "execution_count": 67,
   "metadata": {
    "scrolled": true
   },
   "outputs": [
    {
     "data": {
      "image/png": "[encoded data removed]",
      "text/plain": [
       "<Figure size 900x400 with 1 Axes>"
      ]
     },
     "metadata": {},
     "output_type": "display_data"
    }
   ],
   "source": [
    "# Generating box plot of total gross statistics per rating type without outliers\n",
    "\n",
    "plt.figure(figsize=(9,4))\n",
    "sns.boxplot(x='rating_type', y='total_gross_mil', data=df_rating,showfliers=False, palette='BuGn_r')\n",
    "plt.xticks(rotation=-80)\n",
    "plt.ylabel('Total Gross in Millions', fontsize=13)\n",
    "plt.xlabel('Rating Type', fontsize = 13)\n",
    "plt.title('Total Gross by Rating Type (Without Outliers)', fontsize = 16)\n",
    "plt.xticks(fontsize=10)\n",
    "plt.yticks(fontsize=10);"
   ]
  },
  {
   "cell_type": "markdown",
   "metadata": {},
   "source": [
    "Based on mean and median, the high rating movies, that have a rating higher than or equal to 8, appear to have the highest total gross. It indicates the higher-rating movies have a higher potential for box office success. Even though the high rating movies also have the largest interquartile range (IQR), their distribution is right-skewed. The right-skewed distribution tells us that movies that fall into the higher side of the mean, which is a positive indication."
   ]
  },
  {
   "cell_type": "markdown",
   "metadata": {},
   "source": [
    "## Evaluation\n",
    "\n",
    "My findings have shown a direction of what should be investigated even further. They provide a baseline of more in depth analysis work. The value they bring lie with understanding the main datasets and exploring their relations to the worldwide movie gross. "
   ]
  },
  {
   "cell_type": "markdown",
   "metadata": {},
   "source": [
    "## Conclusions\n",
    "\n",
    "The insights of I derived from the study are:\n",
    "\n",
    "* Microsoft should invest in Sci-Fi, Animation, or Adventure genres.\n",
    "* The long-format movies that have a runtime of 125-180 minutes have higher box office success. However, when the runtime goes beyond 180 minutes, the total gross starts to decline. Therefore, Microsoft should produce a movie in a long format but shouldn't exceed 180 minutes mark.\n",
    "* There is no significant correlation between average movie ratings and box office revenue. Being said that, I observed the higher rating movies tend to perform well at the box office. The recommended action here is not to focus on the ratings purely and use the high-rating movies as a benchmark purely.\n",
    "\n",
    "In this study, I worked with constraints. The most important constraint was the delivery time of the analysis results. To derive some actionable insights, I had to limit the data I worked with and only selected three datasets. However, it became clear that more data was needed to explore the business problem. \n",
    "\n",
    "Moving forward, I highly recommend considering the followings:\n",
    "\n",
    "* The production cost and the return on investment should be part of the following studies. We know the total gross but we don't know the cost of making a high-gross movie and how profitable it could be.\n",
    "* I explored the genres separately but it would provide great value if the combination of these genres are explored as well.\n",
    "* There is more variable that wasn't a part of this study but could potentially give actionable insights such as release dates, creative types, and production methods.\n",
    "* Finally, this study only consists of movies released between 2010 and 2018. It doesn't answer how the most recent movies performed and if the global pandemic affected the overall trends. There is value to explore these questions in a separate study before making decisions."
   ]
  }
 ],
 "metadata": {
  "kernelspec": {
   "display_name": "Python 3 (ipykernel)",
   "language": "python",
   "name": "python3"
  },
  "language_info": {
   "codemirror_mode": {
    "name": "ipython",
    "version": 3
   },
   "file_extension": ".py",
   "mimetype": "text/x-python",
   "name": "python",
   "nbconvert_exporter": "python",
   "pygments_lexer": "ipython3",
   "version": "3.9.13"
  }
 },
 "nbformat": 4,
 "nbformat_minor": 4
}
