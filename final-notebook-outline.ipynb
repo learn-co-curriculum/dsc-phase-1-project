{
 "cells": [
  {
   "cell_type": "markdown",
   "metadata": {},
   "source": [
    "# Movie Data Analysis"
   ]
  },
  {
   "cell_type": "markdown",
   "metadata": {},
   "source": [
    "### Business Problem \n",
    "Microsoft sees all the big companies creating original video content and they want to get in on the fun. They have decided to create a new movie studio, but they don’t know anything about creating movies. You are charged with exploring what types of films are currently doing the best at the box office. You must then translate those findings into actionable insights that the head of Microsoft's new movie studio can use to help decide what type of films to create."
   ]
  },
  {
   "cell_type": "markdown",
   "metadata": {},
   "source": [
    "## Business Understanding\n",
    "\n",
    "In order to generate actionable insights for this stakeholder, we are inspecting several data sets containing film information.  \n",
    "\n",
    "\n",
    "### Sources:  \n",
    "-[Box Office Mojo](https://www.boxofficemojo.com/)  \n",
    "-[IMDB](https://www.imdb.com/)  \n",
    "-[Rotten Tomatoes](https://www.rottentomatoes.com/)  \n",
    "-[The Movie DB](https://www.themoviedb.org/)  \n",
    "-[The Numbers](https://www.the-numbers.com/)   "
   ]
  },
  {
   "cell_type": "markdown",
   "metadata": {},
   "source": [
    "### Topics to address:  \n",
    "- Which producers create the best films?  \n",
    "    - Criteria for analysis:  \n",
    "        - Production budget vs. gross income\n",
    "        - Mean of film (review) ratings over time\n",
    "        - Success of particular genres of films per producer\n",
    "        \n",
    "- Which film genres are most successful in theaters?  \n",
    "    - Criteria for analysis:  \n",
    "        - Gross income of particular genres of films  \n",
    "        - The associated production costs of particular genres\n",
    "        - Success of particular film (classification) ratings  \n",
    "        \n",
    "- Is there a season during which film releases fare better?  \n",
    "    - Criteria for analysis:  \n",
    "        - Frequency of films being released over quarters and months  \n",
    "        - Gross income of films grouped over quarters and months  \n",
    "        - Production costs for films being released during the most profitable months\n",
    "\n",
    "### Possible measurements of success:  \n",
    "- Net income: gross income minus production budget\n",
    "- Worldwide gross income\n",
    "- Viewership numbers\n",
    "- Film ratings\n",
    "\n",
    "### "
   ]
  },
  {
   "cell_type": "markdown",
   "metadata": {},
   "source": [
    "## Data Preparation"
   ]
  },
  {
   "cell_type": "markdown",
   "metadata": {},
   "source": [
    "## Data Understanding"
   ]
  },
  {
   "cell_type": "markdown",
   "metadata": {},
   "source": [
    "## Evaluation  \n",
    "\n",
    "### Recommendations for Film Producers  \n",
    "-  \n",
    "\n",
    "### Recommendations for Genres of Films  \n",
    "-\n",
    "\n",
    "### Recommendations for Release Dates  \n",
    "-\n"
   ]
  },
  {
   "cell_type": "markdown",
   "metadata": {},
   "source": [
    "## Conclusion"
   ]
  },
  {
   "cell_type": "code",
   "execution_count": null,
   "metadata": {},
   "outputs": [],
   "source": []
  }
 ],
 "metadata": {
  "kernelspec": {
   "display_name": "Python 3",
   "language": "python",
   "name": "python3"
  },
  "language_info": {
   "codemirror_mode": {
    "name": "ipython",
    "version": 3
   },
   "file_extension": ".py",
   "mimetype": "text/x-python",
   "name": "python",
   "nbconvert_exporter": "python",
   "pygments_lexer": "ipython3",
   "version": "3.8.5"
  }
 },
 "nbformat": 4,
 "nbformat_minor": 4
}
