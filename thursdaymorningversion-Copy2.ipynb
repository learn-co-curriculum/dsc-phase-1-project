{
 "cells": [
  {
   "cell_type": "markdown",
   "metadata": {},
   "source": [
    "# **What genres do the best in theatres?**\n",
    "- Motivation:\n",
    "    - Creating movies in popular genres will attract more initial viewers. It’s what the people are interested in watching.\n"
   ]
  },
  {
   "cell_type": "markdown",
   "metadata": {},
   "source": [
    "**Smaller questions:**\n",
    "- Which genres normally tend to be well received by the audience?\n",
    "- Which genre is the least lucrative? And the most?\n",
    "    - Which movie had the best investment return ratio? And which Genres are constantly doing well?"
   ]
  },
  {
   "cell_type": "code",
   "execution_count": 7,
   "metadata": {},
   "outputs": [],
   "source": [
    "import pandas as pd\n",
    "import matplotlib.pyplot as plt\n",
    "import seaborn as sns\n",
    "import numpy as np\n",
    "%matplotlib inline"
   ]
  },
  {
   "cell_type": "markdown",
   "metadata": {},
   "source": [
    "Assign all the CSV files to something and add comments to it"
   ]
  },
  {
   "cell_type": "code",
   "execution_count": 8,
   "metadata": {},
   "outputs": [],
   "source": [
    "# Titles, Studio, Domestic Gross, Foreign Gross and Year\n",
    "# 3387 rows\n",
    "movies_gross = pd.read_csv(\"zippedData/bom.movie_gross.csv\")\n",
    "# Nconst, Primary Name, Primary Profession, Known for titles(title_id)\n",
    "# 606648 rows\n",
    "basics_names = pd.read_csv(\"zippedData/name.basics.csv\")\n",
    "# ID's, Ordering, Title, Region, Language, Types, Attributes, Original Title\n",
    "# 331703 rows\n",
    "akas = pd.read_csv(\"zippedData/title.akas.csv\")\n",
    "# Tconst, Primary Title, Original Title, Start Year, Runtime Minutes, Genres\n",
    "# 146144 rows\n",
    "basics_titles = pd.read_csv(\"zippedData/title.basics.csv\")\n",
    "# Tconst, Directors, Writers\n",
    "# 146144 rows\n",
    "crew = pd.read_csv(\"zippedData/title.crew.csv\")\n",
    "# Tconst, Ordering, Nconst, Category, Job, Characters\n",
    "# 1028186 rows\n",
    "principals = pd.read_csv(\"zippedData/title.principals.csv\")\n",
    "# Tconst, Average Rating, Number of Votes\n",
    "# 73856 rows\n",
    "ratings = pd.read_csv(\"zippedData/title.ratings.csv\")\n",
    "# Genre Id, Id, Original Language, Original Language, Original Title, Popularity, Release Date, Title, Vote Average, Vote count \n",
    "# 26517 rows\n",
    "movies = pd.read_csv(\"zippedData/tmdb.movies.csv\")\n",
    "# Id, Release Date, Movie Name, Budget, Domestic Gross, Worldwide Gross\n",
    "# 5782 rows\n",
    "movies_budgets = pd.read_csv(\"zippedData/tn.movie_budgets.csv\")\n"
   ]
  },
  {
   "cell_type": "markdown",
   "metadata": {},
   "source": [
    "Assign all the TSV files to something and add comments to it"
   ]
  },
  {
   "cell_type": "code",
   "execution_count": 9,
   "metadata": {},
   "outputs": [],
   "source": [
    "#Id, Synopsis, Rating, Genre, Director, Writer, Theater Date, Dvd Date, Currency, Box Office, Runtime, Studio\n",
    "#1560 rows \n",
    "movie_info = pd.read_csv(\"zippedData/rt.movie_info.tsv\", sep='\\t')\n",
    "#Id, Reviews, Rating, Fresh, Critic, Top Critic, Publisher, Date\n",
    "#54432 rows\n",
    "reviews = pd.read_csv(\"zippedData/rt.reviews.tsv\", sep='\\t', encoding = 'unicode_escape')\n"
   ]
  },
  {
   "cell_type": "markdown",
   "metadata": {},
   "source": [
    "# Working with data"
   ]
  },
  {
   "cell_type": "markdown",
   "metadata": {},
   "source": [
    "### Working with the basics_titles dataframe"
   ]
  },
  {
   "cell_type": "markdown",
   "metadata": {},
   "source": [
    "Creating a table that contains Titles, Genres, Start Year and Tconst."
   ]
  },
  {
   "cell_type": "code",
   "execution_count": 11,
   "metadata": {},
   "outputs": [],
   "source": [
    "# Clean basics_titles to only those released after 2008 and before 2020\n",
    "# Clean NAN rows, since they didn't have the most important information for this analysis, the genre\n",
    "# Drop the columns\n",
    "\n",
    "basics_titles = basics_titles[basics_titles['start_year'] > 2008]\n",
    "basics_titles = basics_titles[basics_titles['start_year'] <= 2019]\n",
    "title_genre = basics_titles.drop(['original_title', 'runtime_minutes'], axis=1)\n",
    "title_genre.dropna(inplace=True)\n"
   ]
  },
  {
   "cell_type": "code",
   "execution_count": 14,
   "metadata": {
    "scrolled": true
   },
   "outputs": [
    {
     "data": {
      "text/html": [
       "<div>\n",
       "<style scoped>\n",
       "    .dataframe tbody tr th:only-of-type {\n",
       "        vertical-align: middle;\n",
       "    }\n",
       "\n",
       "    .dataframe tbody tr th {\n",
       "        vertical-align: top;\n",
       "    }\n",
       "\n",
       "    .dataframe thead th {\n",
       "        text-align: right;\n",
       "    }\n",
       "</style>\n",
       "<table border=\"1\" class=\"dataframe\">\n",
       "  <thead>\n",
       "    <tr style=\"text-align: right;\">\n",
       "      <th></th>\n",
       "      <th>tconst</th>\n",
       "      <th>primary_title</th>\n",
       "      <th>start_year</th>\n",
       "      <th>genres</th>\n",
       "    </tr>\n",
       "  </thead>\n",
       "  <tbody>\n",
       "    <tr>\n",
       "      <th>0</th>\n",
       "      <td>tt0063540</td>\n",
       "      <td>Sunghursh</td>\n",
       "      <td>2013</td>\n",
       "      <td>Action,Crime,Drama</td>\n",
       "    </tr>\n",
       "    <tr>\n",
       "      <th>1</th>\n",
       "      <td>tt0066787</td>\n",
       "      <td>One Day Before the Rainy Season</td>\n",
       "      <td>2019</td>\n",
       "      <td>Biography,Drama</td>\n",
       "    </tr>\n",
       "  </tbody>\n",
       "</table>\n",
       "</div>"
      ],
      "text/plain": [
       "      tconst                    primary_title  start_year              genres\n",
       "0  tt0063540                        Sunghursh        2013  Action,Crime,Drama\n",
       "1  tt0066787  One Day Before the Rainy Season        2019     Biography,Drama"
      ]
     },
     "execution_count": 14,
     "metadata": {},
     "output_type": "execute_result"
    }
   ],
   "source": [
    "title_genre.head(2)"
   ]
  },
  {
   "cell_type": "markdown",
   "metadata": {},
   "source": [
    "Creating a new table with the rating, tconst, primary_title and genre."
   ]
  },
  {
   "cell_type": "code",
   "execution_count": 19,
   "metadata": {
    "scrolled": true
   },
   "outputs": [],
   "source": [
    "# Join tables to create a new one with more info\n",
    "# Drop NAN values, since they didn't have the most important information for this analysis, the genre\n",
    "\n",
    "titlegenrerating = ratings.join(title_genre.set_index('tconst'), on='tconst')\n",
    "titlegenrerating.dropna(inplace=True)"
   ]
  },
  {
   "cell_type": "code",
   "execution_count": 10,
   "metadata": {},
   "outputs": [
    {
     "data": {
      "text/html": [
       "<div>\n",
       "<style scoped>\n",
       "    .dataframe tbody tr th:only-of-type {\n",
       "        vertical-align: middle;\n",
       "    }\n",
       "\n",
       "    .dataframe tbody tr th {\n",
       "        vertical-align: top;\n",
       "    }\n",
       "\n",
       "    .dataframe thead th {\n",
       "        text-align: right;\n",
       "    }\n",
       "</style>\n",
       "<table border=\"1\" class=\"dataframe\">\n",
       "  <thead>\n",
       "    <tr style=\"text-align: right;\">\n",
       "      <th></th>\n",
       "      <th>tconst</th>\n",
       "      <th>averagerating</th>\n",
       "      <th>numvotes</th>\n",
       "      <th>primary_title</th>\n",
       "      <th>start_year</th>\n",
       "      <th>genres</th>\n",
       "    </tr>\n",
       "  </thead>\n",
       "  <tbody>\n",
       "    <tr>\n",
       "      <th>0</th>\n",
       "      <td>tt10356526</td>\n",
       "      <td>8.3</td>\n",
       "      <td>31</td>\n",
       "      <td>Laiye Je Yaarian</td>\n",
       "      <td>2019.0</td>\n",
       "      <td>Romance</td>\n",
       "    </tr>\n",
       "    <tr>\n",
       "      <th>1</th>\n",
       "      <td>tt10384606</td>\n",
       "      <td>8.9</td>\n",
       "      <td>559</td>\n",
       "      <td>Borderless</td>\n",
       "      <td>2019.0</td>\n",
       "      <td>Documentary</td>\n",
       "    </tr>\n",
       "  </tbody>\n",
       "</table>\n",
       "</div>"
      ],
      "text/plain": [
       "       tconst  averagerating  numvotes     primary_title  start_year  \\\n",
       "0  tt10356526            8.3        31  Laiye Je Yaarian      2019.0   \n",
       "1  tt10384606            8.9       559        Borderless      2019.0   \n",
       "\n",
       "        genres  \n",
       "0      Romance  \n",
       "1  Documentary  "
      ]
     },
     "execution_count": 10,
     "metadata": {},
     "output_type": "execute_result"
    }
   ],
   "source": [
    "titlegenrerating.head(2)"
   ]
  },
  {
   "cell_type": "markdown",
   "metadata": {},
   "source": [
    "# Working with the movies_budgets dataframe"
   ]
  },
  {
   "cell_type": "markdown",
   "metadata": {},
   "source": [
    "The goal here is to create a table with Movies Name, Budget, Domestic Gross and Worldwide Gross(Cleaning the column ID)"
   ]
  },
  {
   "cell_type": "code",
   "execution_count": 21,
   "metadata": {},
   "outputs": [],
   "source": [
    "# Drop columns that we are not going to use\n",
    "# Rename Column to match the other table, to make left-join possible\n",
    "\n",
    "movies_money = movies_budgets.drop(['id', 'release_date'], axis=1)\n",
    "movies_money.rename(columns={\"movie\": \"primary_title\"}, inplace=True)"
   ]
  },
  {
   "cell_type": "code",
   "execution_count": 12,
   "metadata": {
    "scrolled": false
   },
   "outputs": [
    {
     "data": {
      "text/html": [
       "<div>\n",
       "<style scoped>\n",
       "    .dataframe tbody tr th:only-of-type {\n",
       "        vertical-align: middle;\n",
       "    }\n",
       "\n",
       "    .dataframe tbody tr th {\n",
       "        vertical-align: top;\n",
       "    }\n",
       "\n",
       "    .dataframe thead th {\n",
       "        text-align: right;\n",
       "    }\n",
       "</style>\n",
       "<table border=\"1\" class=\"dataframe\">\n",
       "  <thead>\n",
       "    <tr style=\"text-align: right;\">\n",
       "      <th></th>\n",
       "      <th>primary_title</th>\n",
       "      <th>production_budget</th>\n",
       "      <th>domestic_gross</th>\n",
       "      <th>worldwide_gross</th>\n",
       "    </tr>\n",
       "  </thead>\n",
       "  <tbody>\n",
       "    <tr>\n",
       "      <th>0</th>\n",
       "      <td>Avatar</td>\n",
       "      <td>$425,000,000</td>\n",
       "      <td>$760,507,625</td>\n",
       "      <td>$2,776,345,279</td>\n",
       "    </tr>\n",
       "    <tr>\n",
       "      <th>1</th>\n",
       "      <td>Pirates of the Caribbean: On Stranger Tides</td>\n",
       "      <td>$410,600,000</td>\n",
       "      <td>$241,063,875</td>\n",
       "      <td>$1,045,663,875</td>\n",
       "    </tr>\n",
       "  </tbody>\n",
       "</table>\n",
       "</div>"
      ],
      "text/plain": [
       "                                 primary_title production_budget  \\\n",
       "0                                       Avatar      $425,000,000   \n",
       "1  Pirates of the Caribbean: On Stranger Tides      $410,600,000   \n",
       "\n",
       "  domestic_gross worldwide_gross  \n",
       "0   $760,507,625  $2,776,345,279  \n",
       "1   $241,063,875  $1,045,663,875  "
      ]
     },
     "execution_count": 12,
     "metadata": {},
     "output_type": "execute_result"
    }
   ],
   "source": [
    "#5782 rows\n",
    "movies_money.head(2)"
   ]
  },
  {
   "cell_type": "code",
   "execution_count": 13,
   "metadata": {},
   "outputs": [],
   "source": [
    "# Using method str.replace to remove ',' and '$' from the data columns \n",
    "# Using astype to change the values in those columns from String to Float because to Int gives an error\n",
    "\n",
    "movies_money['worldwide_gross'] = movies_money['worldwide_gross'].str.replace(',', '')\n",
    "movies_money['worldwide_gross'] = movies_money['worldwide_gross'].str.replace('$', '')\n",
    "movies_money['worldwide_gross'] = movies_money['worldwide_gross'].astype(float)\n",
    "\n",
    "movies_money['production_budget'] = movies_money['production_budget'].str.replace(',', '')\n",
    "movies_money['production_budget'] = movies_money['production_budget'].str.replace('$', '')\n",
    "movies_money['production_budget'] = movies_money['production_budget'].astype(float)\n",
    "\n",
    "movies_money['domestic_gross'] = movies_money['domestic_gross'].str.replace(',', '')\n",
    "movies_money['domestic_gross'] = movies_money['domestic_gross'].str.replace('$', '')\n",
    "movies_money['domestic_gross'] = movies_money['domestic_gross'].astype(float)\n"
   ]
  },
  {
   "cell_type": "code",
   "execution_count": 14,
   "metadata": {},
   "outputs": [],
   "source": [
    "# Create a new column to give the investment return (How many dollars you get per dollar invested)\n",
    "# Check for duplicated entries on the data based on the primary title column q\n",
    "# Drop all the duplicates, not keeping any so it doesn't conflict with the other table and we get false information\n",
    "# Check one last time to see if we still have duplicates\n",
    "\n",
    "movies_money['investment_return'] = movies_money['worldwide_gross']/movies_money['production_budget']\n",
    "movies_money['investment_return'] = movies_money['investment_return'] - 1\n",
    "\n",
    "duplicates_money = movies_money[movies_money.duplicated(subset=['primary_title'],keep=False)].sort_values(['primary_title'])\n",
    "\n",
    "movies_money.drop_duplicates(subset='primary_title', inplace=True)\n"
   ]
  },
  {
   "cell_type": "code",
   "execution_count": 15,
   "metadata": {
    "scrolled": true
   },
   "outputs": [
    {
     "data": {
      "text/html": [
       "<div>\n",
       "<style scoped>\n",
       "    .dataframe tbody tr th:only-of-type {\n",
       "        vertical-align: middle;\n",
       "    }\n",
       "\n",
       "    .dataframe tbody tr th {\n",
       "        vertical-align: top;\n",
       "    }\n",
       "\n",
       "    .dataframe thead th {\n",
       "        text-align: right;\n",
       "    }\n",
       "</style>\n",
       "<table border=\"1\" class=\"dataframe\">\n",
       "  <thead>\n",
       "    <tr style=\"text-align: right;\">\n",
       "      <th></th>\n",
       "      <th>primary_title</th>\n",
       "      <th>production_budget</th>\n",
       "      <th>domestic_gross</th>\n",
       "      <th>worldwide_gross</th>\n",
       "      <th>investment_return</th>\n",
       "    </tr>\n",
       "  </thead>\n",
       "  <tbody>\n",
       "    <tr>\n",
       "      <th>0</th>\n",
       "      <td>Avatar</td>\n",
       "      <td>425000000.0</td>\n",
       "      <td>760507625.0</td>\n",
       "      <td>2.776345e+09</td>\n",
       "      <td>5.532577</td>\n",
       "    </tr>\n",
       "    <tr>\n",
       "      <th>1</th>\n",
       "      <td>Pirates of the Caribbean: On Stranger Tides</td>\n",
       "      <td>410600000.0</td>\n",
       "      <td>241063875.0</td>\n",
       "      <td>1.045664e+09</td>\n",
       "      <td>1.546673</td>\n",
       "    </tr>\n",
       "  </tbody>\n",
       "</table>\n",
       "</div>"
      ],
      "text/plain": [
       "                                 primary_title  production_budget  \\\n",
       "0                                       Avatar        425000000.0   \n",
       "1  Pirates of the Caribbean: On Stranger Tides        410600000.0   \n",
       "\n",
       "   domestic_gross  worldwide_gross  investment_return  \n",
       "0     760507625.0     2.776345e+09           5.532577  \n",
       "1     241063875.0     1.045664e+09           1.546673  "
      ]
     },
     "execution_count": 15,
     "metadata": {},
     "output_type": "execute_result"
    }
   ],
   "source": [
    "movies_money.head(2)"
   ]
  },
  {
   "cell_type": "markdown",
   "metadata": {},
   "source": [
    "# Creating the new table moviesfullinfo"
   ]
  },
  {
   "cell_type": "markdown",
   "metadata": {},
   "source": [
    "The idea here is to join two tables to make one with ratings and money to make mostly a correlation between these 2 metrics"
   ]
  },
  {
   "cell_type": "code",
   "execution_count": 16,
   "metadata": {},
   "outputs": [],
   "source": [
    "# Drop Tconst, since this one is supposed to be the final table to use for graphs\n",
    "# Drop nan's values\n",
    "# Creat a filter to only movies that had a budget over a million dollars\n",
    "\n",
    "# new_df = pd.merge(A_df, B_df,  how='left', left_on=['A_c1','c2'], right_on = ['B_c1','c2'])\n",
    "\n",
    "moviesfullinfo = movies_money.join(titlegenrerating.set_index('primary_title'), on='primary_title')\n",
    "#moviesfullinfo = pd.merge(titlegenrerating, movies_money, how='left', on=['primary_title', 'primary_title'])\n",
    "moviesfullinfo.drop(['tconst'], axis=1, inplace=True)\n",
    "moviesfullinfo = moviesfullinfo.dropna()\n",
    "moviesfullinfo = moviesfullinfo[moviesfullinfo['production_budget'] >= 1000000]\n",
    "moviesfullinfo = moviesfullinfo[moviesfullinfo['worldwide_gross'] >= 1]\n",
    "moviesfullinfo.drop_duplicates(subset='primary_title', inplace=True)"
   ]
  },
  {
   "cell_type": "code",
   "execution_count": 17,
   "metadata": {
    "scrolled": true
   },
   "outputs": [
    {
     "data": {
      "text/html": [
       "<div>\n",
       "<style scoped>\n",
       "    .dataframe tbody tr th:only-of-type {\n",
       "        vertical-align: middle;\n",
       "    }\n",
       "\n",
       "    .dataframe tbody tr th {\n",
       "        vertical-align: top;\n",
       "    }\n",
       "\n",
       "    .dataframe thead th {\n",
       "        text-align: right;\n",
       "    }\n",
       "</style>\n",
       "<table border=\"1\" class=\"dataframe\">\n",
       "  <thead>\n",
       "    <tr style=\"text-align: right;\">\n",
       "      <th></th>\n",
       "      <th>primary_title</th>\n",
       "      <th>production_budget</th>\n",
       "      <th>domestic_gross</th>\n",
       "      <th>worldwide_gross</th>\n",
       "      <th>investment_return</th>\n",
       "      <th>averagerating</th>\n",
       "      <th>numvotes</th>\n",
       "      <th>start_year</th>\n",
       "      <th>genres</th>\n",
       "    </tr>\n",
       "  </thead>\n",
       "  <tbody>\n",
       "    <tr>\n",
       "      <th>5302</th>\n",
       "      <td>American Hero</td>\n",
       "      <td>1000000.0</td>\n",
       "      <td>0.0</td>\n",
       "      <td>26.0</td>\n",
       "      <td>-0.999974</td>\n",
       "      <td>4.9</td>\n",
       "      <td>3661.0</td>\n",
       "      <td>2015.0</td>\n",
       "      <td>Action,Comedy,Drama</td>\n",
       "    </tr>\n",
       "    <tr>\n",
       "      <th>3818</th>\n",
       "      <td>Skin Trade</td>\n",
       "      <td>9000000.0</td>\n",
       "      <td>1242.0</td>\n",
       "      <td>1242.0</td>\n",
       "      <td>-0.999862</td>\n",
       "      <td>5.7</td>\n",
       "      <td>6942.0</td>\n",
       "      <td>2014.0</td>\n",
       "      <td>Action,Crime,Thriller</td>\n",
       "    </tr>\n",
       "    <tr>\n",
       "      <th>3161</th>\n",
       "      <td>Broken Horses</td>\n",
       "      <td>15000000.0</td>\n",
       "      <td>0.0</td>\n",
       "      <td>3471.0</td>\n",
       "      <td>-0.999769</td>\n",
       "      <td>5.7</td>\n",
       "      <td>1957.0</td>\n",
       "      <td>2015.0</td>\n",
       "      <td>Action,Crime,Drama</td>\n",
       "    </tr>\n",
       "    <tr>\n",
       "      <th>4103</th>\n",
       "      <td>Tracker</td>\n",
       "      <td>6500000.0</td>\n",
       "      <td>0.0</td>\n",
       "      <td>3149.0</td>\n",
       "      <td>-0.999516</td>\n",
       "      <td>6.5</td>\n",
       "      <td>3460.0</td>\n",
       "      <td>2010.0</td>\n",
       "      <td>Action,Adventure,Drama</td>\n",
       "    </tr>\n",
       "    <tr>\n",
       "      <th>2480</th>\n",
       "      <td>Molly</td>\n",
       "      <td>21000000.0</td>\n",
       "      <td>17396.0</td>\n",
       "      <td>17396.0</td>\n",
       "      <td>-0.999172</td>\n",
       "      <td>4.6</td>\n",
       "      <td>726.0</td>\n",
       "      <td>2017.0</td>\n",
       "      <td>Action,Sci-Fi</td>\n",
       "    </tr>\n",
       "    <tr>\n",
       "      <th>...</th>\n",
       "      <td>...</td>\n",
       "      <td>...</td>\n",
       "      <td>...</td>\n",
       "      <td>...</td>\n",
       "      <td>...</td>\n",
       "      <td>...</td>\n",
       "      <td>...</td>\n",
       "      <td>...</td>\n",
       "      <td>...</td>\n",
       "    </tr>\n",
       "    <tr>\n",
       "      <th>4664</th>\n",
       "      <td>Paranormal Activity 2</td>\n",
       "      <td>3000000.0</td>\n",
       "      <td>84752907.0</td>\n",
       "      <td>177512032.0</td>\n",
       "      <td>58.170677</td>\n",
       "      <td>5.7</td>\n",
       "      <td>93122.0</td>\n",
       "      <td>2010.0</td>\n",
       "      <td>Horror</td>\n",
       "    </tr>\n",
       "    <tr>\n",
       "      <th>5213</th>\n",
       "      <td>Unfriended</td>\n",
       "      <td>1000000.0</td>\n",
       "      <td>32789645.0</td>\n",
       "      <td>64364198.0</td>\n",
       "      <td>63.364198</td>\n",
       "      <td>5.6</td>\n",
       "      <td>62043.0</td>\n",
       "      <td>2014.0</td>\n",
       "      <td>Horror,Mystery,Thriller</td>\n",
       "    </tr>\n",
       "    <tr>\n",
       "      <th>5062</th>\n",
       "      <td>Insidious</td>\n",
       "      <td>1500000.0</td>\n",
       "      <td>54009150.0</td>\n",
       "      <td>99870886.0</td>\n",
       "      <td>65.580591</td>\n",
       "      <td>6.9</td>\n",
       "      <td>254197.0</td>\n",
       "      <td>2010.0</td>\n",
       "      <td>Horror,Mystery,Thriller</td>\n",
       "    </tr>\n",
       "    <tr>\n",
       "      <th>5211</th>\n",
       "      <td>The Devil Inside</td>\n",
       "      <td>1000000.0</td>\n",
       "      <td>53262945.0</td>\n",
       "      <td>101759490.0</td>\n",
       "      <td>100.759490</td>\n",
       "      <td>4.2</td>\n",
       "      <td>33522.0</td>\n",
       "      <td>2012.0</td>\n",
       "      <td>Horror</td>\n",
       "    </tr>\n",
       "    <tr>\n",
       "      <th>5210</th>\n",
       "      <td>Rocky</td>\n",
       "      <td>1000000.0</td>\n",
       "      <td>117235147.0</td>\n",
       "      <td>225000000.0</td>\n",
       "      <td>224.000000</td>\n",
       "      <td>6.1</td>\n",
       "      <td>46.0</td>\n",
       "      <td>2013.0</td>\n",
       "      <td>Action,Comedy,Drama</td>\n",
       "    </tr>\n",
       "  </tbody>\n",
       "</table>\n",
       "<p>1828 rows × 9 columns</p>\n",
       "</div>"
      ],
      "text/plain": [
       "              primary_title  production_budget  domestic_gross  \\\n",
       "5302          American Hero          1000000.0             0.0   \n",
       "3818             Skin Trade          9000000.0          1242.0   \n",
       "3161          Broken Horses         15000000.0             0.0   \n",
       "4103                Tracker          6500000.0             0.0   \n",
       "2480                  Molly         21000000.0         17396.0   \n",
       "...                     ...                ...             ...   \n",
       "4664  Paranormal Activity 2          3000000.0      84752907.0   \n",
       "5213             Unfriended          1000000.0      32789645.0   \n",
       "5062              Insidious          1500000.0      54009150.0   \n",
       "5211       The Devil Inside          1000000.0      53262945.0   \n",
       "5210                  Rocky          1000000.0     117235147.0   \n",
       "\n",
       "      worldwide_gross  investment_return  averagerating  numvotes  start_year  \\\n",
       "5302             26.0          -0.999974            4.9    3661.0      2015.0   \n",
       "3818           1242.0          -0.999862            5.7    6942.0      2014.0   \n",
       "3161           3471.0          -0.999769            5.7    1957.0      2015.0   \n",
       "4103           3149.0          -0.999516            6.5    3460.0      2010.0   \n",
       "2480          17396.0          -0.999172            4.6     726.0      2017.0   \n",
       "...               ...                ...            ...       ...         ...   \n",
       "4664      177512032.0          58.170677            5.7   93122.0      2010.0   \n",
       "5213       64364198.0          63.364198            5.6   62043.0      2014.0   \n",
       "5062       99870886.0          65.580591            6.9  254197.0      2010.0   \n",
       "5211      101759490.0         100.759490            4.2   33522.0      2012.0   \n",
       "5210      225000000.0         224.000000            6.1      46.0      2013.0   \n",
       "\n",
       "                       genres  \n",
       "5302      Action,Comedy,Drama  \n",
       "3818    Action,Crime,Thriller  \n",
       "3161       Action,Crime,Drama  \n",
       "4103   Action,Adventure,Drama  \n",
       "2480            Action,Sci-Fi  \n",
       "...                       ...  \n",
       "4664                   Horror  \n",
       "5213  Horror,Mystery,Thriller  \n",
       "5062  Horror,Mystery,Thriller  \n",
       "5211                   Horror  \n",
       "5210      Action,Comedy,Drama  \n",
       "\n",
       "[1828 rows x 9 columns]"
      ]
     },
     "execution_count": 17,
     "metadata": {},
     "output_type": "execute_result"
    }
   ],
   "source": [
    "#2410 rows\n",
    "\n",
    "moviesfullinfo.sort_values(['investment_return'])"
   ]
  },
  {
   "cell_type": "code",
   "execution_count": 18,
   "metadata": {},
   "outputs": [],
   "source": [
    "titlegenrerating.rename(columns={\"start_year\": \"release_year\"}, inplace=True)"
   ]
  },
  {
   "cell_type": "markdown",
   "metadata": {},
   "source": [
    "# Creating the new table movieswoutratings"
   ]
  },
  {
   "cell_type": "markdown",
   "metadata": {},
   "source": [
    "Here the goal was to make a table to make a correlation between Genre, Production, Worldwide Gross, Domestic Gross and ROI's"
   ]
  },
  {
   "cell_type": "code",
   "execution_count": 19,
   "metadata": {},
   "outputs": [],
   "source": [
    "# Use method str.replace to remove ',' and '$' from the data columns \n",
    "# Use astype to change the values in those columns from String to Float because to Int gives an error\n",
    "\n",
    "movieswoutratings = moviesfullinfo.dropna()\n",
    "\n",
    "movieswoutratings = movieswoutratings[movieswoutratings['production_budget'] >= 1000000]\n",
    "\n",
    "movieswoutratings = movieswoutratings[movieswoutratings['production_budget'] >= 1000000]\n",
    "movieswoutratings = movieswoutratings[movieswoutratings['worldwide_gross'] >= 1]"
   ]
  },
  {
   "cell_type": "code",
   "execution_count": 20,
   "metadata": {
    "scrolled": true
   },
   "outputs": [
    {
     "data": {
      "text/html": [
       "<div>\n",
       "<style scoped>\n",
       "    .dataframe tbody tr th:only-of-type {\n",
       "        vertical-align: middle;\n",
       "    }\n",
       "\n",
       "    .dataframe tbody tr th {\n",
       "        vertical-align: top;\n",
       "    }\n",
       "\n",
       "    .dataframe thead th {\n",
       "        text-align: right;\n",
       "    }\n",
       "</style>\n",
       "<table border=\"1\" class=\"dataframe\">\n",
       "  <thead>\n",
       "    <tr style=\"text-align: right;\">\n",
       "      <th></th>\n",
       "      <th>primary_title</th>\n",
       "      <th>production_budget</th>\n",
       "      <th>domestic_gross</th>\n",
       "      <th>worldwide_gross</th>\n",
       "      <th>investment_return</th>\n",
       "      <th>averagerating</th>\n",
       "      <th>numvotes</th>\n",
       "      <th>start_year</th>\n",
       "      <th>genres</th>\n",
       "    </tr>\n",
       "  </thead>\n",
       "  <tbody>\n",
       "    <tr>\n",
       "      <th>0</th>\n",
       "      <td>Avatar</td>\n",
       "      <td>425000000.0</td>\n",
       "      <td>760507625.0</td>\n",
       "      <td>2.776345e+09</td>\n",
       "      <td>5.532577</td>\n",
       "      <td>6.1</td>\n",
       "      <td>43.0</td>\n",
       "      <td>2011.0</td>\n",
       "      <td>Horror</td>\n",
       "    </tr>\n",
       "    <tr>\n",
       "      <th>1</th>\n",
       "      <td>Pirates of the Caribbean: On Stranger Tides</td>\n",
       "      <td>410600000.0</td>\n",
       "      <td>241063875.0</td>\n",
       "      <td>1.045664e+09</td>\n",
       "      <td>1.546673</td>\n",
       "      <td>6.6</td>\n",
       "      <td>447624.0</td>\n",
       "      <td>2011.0</td>\n",
       "      <td>Action,Adventure,Fantasy</td>\n",
       "    </tr>\n",
       "    <tr>\n",
       "      <th>2</th>\n",
       "      <td>Dark Phoenix</td>\n",
       "      <td>350000000.0</td>\n",
       "      <td>42762350.0</td>\n",
       "      <td>1.497624e+08</td>\n",
       "      <td>-0.572108</td>\n",
       "      <td>6.0</td>\n",
       "      <td>24451.0</td>\n",
       "      <td>2019.0</td>\n",
       "      <td>Action,Adventure,Sci-Fi</td>\n",
       "    </tr>\n",
       "  </tbody>\n",
       "</table>\n",
       "</div>"
      ],
      "text/plain": [
       "                                 primary_title  production_budget  \\\n",
       "0                                       Avatar        425000000.0   \n",
       "1  Pirates of the Caribbean: On Stranger Tides        410600000.0   \n",
       "2                                 Dark Phoenix        350000000.0   \n",
       "\n",
       "   domestic_gross  worldwide_gross  investment_return  averagerating  \\\n",
       "0     760507625.0     2.776345e+09           5.532577            6.1   \n",
       "1     241063875.0     1.045664e+09           1.546673            6.6   \n",
       "2      42762350.0     1.497624e+08          -0.572108            6.0   \n",
       "\n",
       "   numvotes  start_year                    genres  \n",
       "0      43.0      2011.0                    Horror  \n",
       "1  447624.0      2011.0  Action,Adventure,Fantasy  \n",
       "2   24451.0      2019.0   Action,Adventure,Sci-Fi  "
      ]
     },
     "execution_count": 20,
     "metadata": {},
     "output_type": "execute_result"
    }
   ],
   "source": [
    "#3392 rows\n",
    "movieswoutratings.head(3)"
   ]
  },
  {
   "cell_type": "markdown",
   "metadata": {},
   "source": [
    "# Making tables for each genre"
   ]
  },
  {
   "cell_type": "markdown",
   "metadata": {},
   "source": [
    ">Made a list with all the genres in it!"
   ]
  },
  {
   "cell_type": "code",
   "execution_count": 21,
   "metadata": {},
   "outputs": [],
   "source": [
    "listatest = []\n",
    "generos = \"Action, Adventure, Animation, Biography, Crime, Documentary, Drama, Family, Fantasy, History, Horror, Music, Musical, Mystery, Romance, Sci-fi, Sport, Thriller, War, Western\"\n",
    "listatest.append(generos.split(\", \"))\n",
    "listatest = listatest[0]"
   ]
  },
  {
   "cell_type": "code",
   "execution_count": 22,
   "metadata": {},
   "outputs": [
    {
     "data": {
      "text/plain": [
       "'Sci-fi'"
      ]
     },
     "execution_count": 22,
     "metadata": {},
     "output_type": "execute_result"
    }
   ],
   "source": [
    "listatest[15]"
   ]
  },
  {
   "cell_type": "markdown",
   "metadata": {},
   "source": [
    " >Created a table for each genre, so it's easier to see and manipulate"
   ]
  },
  {
   "cell_type": "code",
   "execution_count": 23,
   "metadata": {},
   "outputs": [],
   "source": [
    "def get_df_genre(genre):\n",
    "    '''\n",
    "    This function gets a dataset based on the Genre, with the average rating attached to it\n",
    "    '''\n",
    "    return titlegenrerating[titlegenrerating['genres'].str.contains(genre.title().strip())]"
   ]
  },
  {
   "cell_type": "code",
   "execution_count": 24,
   "metadata": {},
   "outputs": [],
   "source": [
    "genre_rating_df = []\n",
    "for genre in listatest:\n",
    "    genre_rating_df.append(get_df_genre(genre))\n",
    "    "
   ]
  },
  {
   "cell_type": "code",
   "execution_count": 25,
   "metadata": {},
   "outputs": [
    {
     "data": {
      "text/html": [
       "<div>\n",
       "<style scoped>\n",
       "    .dataframe tbody tr th:only-of-type {\n",
       "        vertical-align: middle;\n",
       "    }\n",
       "\n",
       "    .dataframe tbody tr th {\n",
       "        vertical-align: top;\n",
       "    }\n",
       "\n",
       "    .dataframe thead th {\n",
       "        text-align: right;\n",
       "    }\n",
       "</style>\n",
       "<table border=\"1\" class=\"dataframe\">\n",
       "  <thead>\n",
       "    <tr style=\"text-align: right;\">\n",
       "      <th></th>\n",
       "      <th>tconst</th>\n",
       "      <th>averagerating</th>\n",
       "      <th>numvotes</th>\n",
       "      <th>primary_title</th>\n",
       "      <th>release_year</th>\n",
       "      <th>genres</th>\n",
       "    </tr>\n",
       "  </thead>\n",
       "  <tbody>\n",
       "    <tr>\n",
       "      <th>857</th>\n",
       "      <td>tt1578709</td>\n",
       "      <td>4.3</td>\n",
       "      <td>323</td>\n",
       "      <td>Snowblind</td>\n",
       "      <td>2010.0</td>\n",
       "      <td>Western</td>\n",
       "    </tr>\n",
       "  </tbody>\n",
       "</table>\n",
       "</div>"
      ],
      "text/plain": [
       "        tconst  averagerating  numvotes primary_title  release_year   genres\n",
       "857  tt1578709            4.3       323     Snowblind        2010.0  Western"
      ]
     },
     "execution_count": 25,
     "metadata": {},
     "output_type": "execute_result"
    }
   ],
   "source": [
    "genre_rating_df[-1].head(1)"
   ]
  },
  {
   "cell_type": "markdown",
   "metadata": {},
   "source": [
    ">And here we create a table for each genre with important info attached, but for that we had to lose some rows."
   ]
  },
  {
   "cell_type": "code",
   "execution_count": 26,
   "metadata": {},
   "outputs": [],
   "source": [
    "def get_df_genre(genre):\n",
    "    '''\n",
    "    This function gets a dataset based on the Genre, with information\n",
    "    like production buddget and worldwide gross attached to it.\n",
    "    '''\n",
    "    return moviesfullinfo[moviesfullinfo['genres'].str.contains(genre.title().strip())]"
   ]
  },
  {
   "cell_type": "code",
   "execution_count": 27,
   "metadata": {},
   "outputs": [],
   "source": [
    "all_genre_df = []\n",
    "for genre in listatest:\n",
    "    all_genre_df.append(get_df_genre(genre))\n",
    "    "
   ]
  },
  {
   "cell_type": "code",
   "execution_count": 28,
   "metadata": {
    "scrolled": true
   },
   "outputs": [
    {
     "data": {
      "text/html": [
       "<div>\n",
       "<style scoped>\n",
       "    .dataframe tbody tr th:only-of-type {\n",
       "        vertical-align: middle;\n",
       "    }\n",
       "\n",
       "    .dataframe tbody tr th {\n",
       "        vertical-align: top;\n",
       "    }\n",
       "\n",
       "    .dataframe thead th {\n",
       "        text-align: right;\n",
       "    }\n",
       "</style>\n",
       "<table border=\"1\" class=\"dataframe\">\n",
       "  <thead>\n",
       "    <tr style=\"text-align: right;\">\n",
       "      <th></th>\n",
       "      <th>primary_title</th>\n",
       "      <th>production_budget</th>\n",
       "      <th>domestic_gross</th>\n",
       "      <th>worldwide_gross</th>\n",
       "      <th>investment_return</th>\n",
       "      <th>averagerating</th>\n",
       "      <th>numvotes</th>\n",
       "      <th>start_year</th>\n",
       "      <th>genres</th>\n",
       "    </tr>\n",
       "  </thead>\n",
       "  <tbody>\n",
       "    <tr>\n",
       "      <th>12</th>\n",
       "      <td>The Lone Ranger</td>\n",
       "      <td>275000000.0</td>\n",
       "      <td>89302115.0</td>\n",
       "      <td>260002115.0</td>\n",
       "      <td>-0.054538</td>\n",
       "      <td>6.4</td>\n",
       "      <td>208827.0</td>\n",
       "      <td>2013.0</td>\n",
       "      <td>Action,Adventure,Western</td>\n",
       "    </tr>\n",
       "    <tr>\n",
       "      <th>368</th>\n",
       "      <td>Django Unchained</td>\n",
       "      <td>100000000.0</td>\n",
       "      <td>162805434.0</td>\n",
       "      <td>449948323.0</td>\n",
       "      <td>3.499483</td>\n",
       "      <td>8.4</td>\n",
       "      <td>1211405.0</td>\n",
       "      <td>2012.0</td>\n",
       "      <td>Drama,Western</td>\n",
       "    </tr>\n",
       "  </tbody>\n",
       "</table>\n",
       "</div>"
      ],
      "text/plain": [
       "        primary_title  production_budget  domestic_gross  worldwide_gross  \\\n",
       "12    The Lone Ranger        275000000.0      89302115.0      260002115.0   \n",
       "368  Django Unchained        100000000.0     162805434.0      449948323.0   \n",
       "\n",
       "     investment_return  averagerating   numvotes  start_year  \\\n",
       "12           -0.054538            6.4   208827.0      2013.0   \n",
       "368           3.499483            8.4  1211405.0      2012.0   \n",
       "\n",
       "                       genres  \n",
       "12   Action,Adventure,Western  \n",
       "368             Drama,Western  "
      ]
     },
     "execution_count": 28,
     "metadata": {},
     "output_type": "execute_result"
    }
   ],
   "source": [
    "all_genre_df[-1].head(2)"
   ]
  },
  {
   "cell_type": "markdown",
   "metadata": {},
   "source": [
    ">And now we want the average rating based on the genre! Is there one that is more likely to be acclaimed by critics?"
   ]
  },
  {
   "cell_type": "markdown",
   "metadata": {},
   "source": [
    "**Getting the average RATING per Genre**"
   ]
  },
  {
   "cell_type": "code",
   "execution_count": 29,
   "metadata": {},
   "outputs": [],
   "source": [
    "def avg_rating_genre(dataframe):\n",
    "    '''\n",
    "    This function gets the avarage(mean) rating based on the Genre\n",
    "    '''\n",
    "    return(dataframe['averagerating'].mean())\n"
   ]
  },
  {
   "cell_type": "code",
   "execution_count": 30,
   "metadata": {
    "scrolled": false
   },
   "outputs": [],
   "source": [
    "avg_rating_per_genre = []\n",
    "for rating in genre_rating_df:\n",
    "    avg_rating_per_genre.append(avg_rating_genre(rating))"
   ]
  },
  {
   "cell_type": "code",
   "execution_count": 31,
   "metadata": {
    "scrolled": false
   },
   "outputs": [
    {
     "data": {
      "text/plain": [
       "6.1962012051349085"
      ]
     },
     "execution_count": 31,
     "metadata": {},
     "output_type": "execute_result"
    }
   ],
   "source": [
    "avg_rating_per_genre[1]\n"
   ]
  },
  {
   "cell_type": "markdown",
   "metadata": {},
   "source": [
    "**Getting the average RETURN ON INVESTMENT per Genre**"
   ]
  },
  {
   "cell_type": "code",
   "execution_count": 32,
   "metadata": {},
   "outputs": [],
   "source": [
    "def avg_roi_genre(dataframe):\n",
    "    '''\n",
    "    This function gets the ROI based on the Genre\n",
    "    '''\n",
    "    worldgross = sum(dataframe['worldwide_gross'])\n",
    "    prodbudget = sum(dataframe['production_budget'])\n",
    "    print(prodbudget)\n",
    "    return (worldgross/prodbudget-1)*100\n"
   ]
  },
  {
   "cell_type": "code",
   "execution_count": 33,
   "metadata": {
    "scrolled": true
   },
   "outputs": [
    {
     "name": "stdout",
     "output_type": "stream",
     "text": [
      "36326800000.0\n",
      "37819883106.0\n",
      "10473500000.0\n",
      "4057043106.0\n",
      "7969850000.0\n",
      "2317743106.0\n",
      "24955865023.0\n",
      "6705700000.0\n",
      "10687200000.0\n",
      "1589900000.0\n",
      "4426210000.0\n",
      "1473550000.0\n",
      "505900000.0\n",
      "3772855023.0\n",
      "4792790000.0\n",
      "13037657373.0\n",
      "1118700000.0\n",
      "10080797650.0\n",
      "658300000.0\n",
      "595500000.0\n"
     ]
    }
   ],
   "source": [
    "avg_roi_per_genre = []\n",
    "for genre_df in all_genre_df:\n",
    "    avg_roi_per_genre.append(avg_roi_genre(genre_df))"
   ]
  },
  {
   "cell_type": "code",
   "execution_count": 34,
   "metadata": {
    "scrolled": true
   },
   "outputs": [
    {
     "data": {
      "text/plain": [
       "230.94281992940222"
      ]
     },
     "execution_count": 34,
     "metadata": {},
     "output_type": "execute_result"
    }
   ],
   "source": [
    "avg_roi_per_genre[1]"
   ]
  },
  {
   "cell_type": "markdown",
   "metadata": {},
   "source": [
    "# Data Visualization\n",
    "## Rating per genre\n",
    "- How likely is to have a better rating with the critics if your movie is a certain genre?\n",
    "    "
   ]
  },
  {
   "cell_type": "markdown",
   "metadata": {},
   "source": [
    "> **To answer that we use \"genre_rating_df\" table that we prepared for this topic!**"
   ]
  },
  {
   "cell_type": "code",
   "execution_count": 35,
   "metadata": {},
   "outputs": [],
   "source": [
    "df1 = pd.DataFrame({\"Avg. Rating\":avg_rating_per_genre, \"Genres\":listatest})"
   ]
  },
  {
   "cell_type": "code",
   "execution_count": 36,
   "metadata": {
    "scrolled": false
   },
   "outputs": [
    {
     "data": {
      "image/png": "[encoded data removed]",
      "text/plain": [
       "<Figure size 576x576 with 1 Axes>"
      ]
     },
     "metadata": {
      "needs_background": "light"
     },
     "output_type": "display_data"
    }
   ],
   "source": [
    "plt.figure(figsize=(8,8))\n",
    "sns.barplot(x=\"Avg. Rating\", y = \"Genres\", palette='colorblind', data=df1, errcolor='.95', order=df1.sort_values(\"Avg. Rating\").Genres)\n",
    "plt.xlabel(\"Avg. Rating\", size=15)\n",
    "plt.ylabel(\"Genres\", size=15)\n",
    "plt.title(\"Avg. Rating per Genre\", size=18)\n",
    "plt.tight_layout()\n",
    "plt.savefig(\"barplot_Seaborn_Python.png\", dpi=100)\n"
   ]
  },
  {
   "cell_type": "markdown",
   "metadata": {},
   "source": [
    "## Money per genre\n",
    "- What is the best genre solely focused on how much money you can make?\n",
    "- What genre is the \"safest choice\"? Less likely to lose money?\n",
    "- What genre takes the least money to produce? And the most?\n"
   ]
  },
  {
   "cell_type": "markdown",
   "metadata": {},
   "source": [
    "### - What is the best genre solely focused on how much money you can make?"
   ]
  },
  {
   "cell_type": "code",
   "execution_count": 37,
   "metadata": {},
   "outputs": [],
   "source": [
    "df = pd.DataFrame({\"ROI\":avg_roi_per_genre, \"Genres\":listatest})"
   ]
  },
  {
   "cell_type": "code",
   "execution_count": 38,
   "metadata": {
    "scrolled": false
   },
   "outputs": [
    {
     "data": {
      "image/png": "[encoded data removed]",
      "text/plain": [
       "<Figure size 864x576 with 1 Axes>"
      ]
     },
     "metadata": {
      "needs_background": "light"
     },
     "output_type": "display_data"
    }
   ],
   "source": [
    "plt.figure(figsize=(12,8))\n",
    "sns.barplot(x=\"ROI\", y = \"Genres\", palette=('colorblind'),data=df, order=df.sort_values('ROI').Genres)\n",
    "plt.xlabel(\"Avg. ROI\", size=15)\n",
    "plt.ylabel(\"Genres\", size=15)\n",
    "plt.title(\"Avg. ROI per Genre\", size=18)\n",
    "plt.tight_layout()\n",
    "plt.savefig(\"barplot_Seaborn_Python.png\", dpi=100)"
   ]
  },
  {
   "cell_type": "markdown",
   "metadata": {},
   "source": [
    "The answer? Animation followed by Horror"
   ]
  },
  {
   "cell_type": "markdown",
   "metadata": {},
   "source": [
    "### - What genre is the safest choice?"
   ]
  },
  {
   "cell_type": "markdown",
   "metadata": {},
   "source": [
    "So we are going to create a list that gives you a percentage of how likely you are to make or to lose money using the number of positive ROI's and the number of negative ROI's."
   ]
  },
  {
   "cell_type": "code",
   "execution_count": 39,
   "metadata": {},
   "outputs": [],
   "source": [
    "def how_safe(dataframe):\n",
    "    '''\n",
    "    This function gets the avarage(mean) rating based on the Genre\n",
    "    '''\n",
    "    positive_count = None\n",
    "    negative_count = None\n",
    "    if (dataframe['investment_return'] >= 0).bool():\n",
    "        positive_count += 1\n",
    "        total_count += 1\n",
    "    else:\n",
    "        total_count += 1\n",
    "    \n",
    "    return(positive_count/total_count)\n",
    "\n",
    "# for roi in all_genre_df:\n",
    "#     print(roi.investment_return)\n",
    "    \n",
    "#     testi = []\n",
    "# for x in roi_list:\n",
    "#     testi.append(x[0])\n",
    "    "
   ]
  },
  {
   "cell_type": "code",
   "execution_count": 40,
   "metadata": {
    "scrolled": false
   },
   "outputs": [],
   "source": [
    "roi_list = []\n",
    "for roi in all_genre_df:\n",
    "    roi_list.append(roi['investment_return'])"
   ]
  },
  {
   "cell_type": "code",
   "execution_count": 41,
   "metadata": {},
   "outputs": [
    {
     "name": "stdout",
     "output_type": "stream",
     "text": [
      "0.4\n"
     ]
    }
   ],
   "source": [
    "positive_value = 0\n",
    "total_value = 0\n",
    "for x in roi_list[19]:\n",
    "    if x > 0:\n",
    "        positive_value += 1\n",
    "        total_value += 1\n",
    "    else:\n",
    "        total_value += 1\n",
    "print(positive_value/total_value)"
   ]
  },
  {
   "cell_type": "code",
   "execution_count": 42,
   "metadata": {},
   "outputs": [],
   "source": [
    "chance_of_doing_well = [0.7368421052631579, 0.8174807197943444, 0.8632478632478633, 0.630057803468208, 0.6073825503355704, 0.6785714285714286, 0.6232006773920407, 0.7876106194690266, 0.7910447761194029, 0.5909090909090909, 0.6846153846153846, 0.6301369863013698, 0.4, 0.7159763313609467, 0.6814814814814815, 0.7375, 0.6041666666666666, 0.6675324675324675, 0.43, 0.38461538461538464]"
   ]
  },
  {
   "cell_type": "code",
   "execution_count": 43,
   "metadata": {},
   "outputs": [],
   "source": [
    "df2 = pd.DataFrame({\"Chances\":chance_of_doing_well, \"Genres\":listatest})"
   ]
  },
  {
   "cell_type": "code",
   "execution_count": 44,
   "metadata": {},
   "outputs": [
    {
     "data": {
      "image/png": "[encoded data removed]",
      "text/plain": [
       "<Figure size 864x576 with 1 Axes>"
      ]
     },
     "metadata": {
      "needs_background": "light"
     },
     "output_type": "display_data"
    }
   ],
   "source": [
    "plt.figure(figsize=(12,8))\n",
    "sns.barplot(x=\"Chances\", y = \"Genres\",data=df2, palette='colorblind', order=df2.sort_values('Chances').Genres)\n",
    "plt.xlabel(\"Chance of Doing Well\", size=15)\n",
    "plt.ylabel(\"Genres\", size=15)\n",
    "plt.title(\"Chance of doing well per Genre\", size=18)\n",
    "plt.tight_layout()\n",
    "plt.savefig(\"barplot_Seaborn_Python.png\", dpi=100)"
   ]
  },
  {
   "cell_type": "code",
   "execution_count": null,
   "metadata": {},
   "outputs": [],
   "source": []
  }
 ],
 "metadata": {
  "kernelspec": {
   "display_name": "Python 3",
   "language": "python",
   "name": "python3"
  },
  "language_info": {
   "codemirror_mode": {
    "name": "ipython",
    "version": 3
   },
   "file_extension": ".py",
   "mimetype": "text/x-python",
   "name": "python",
   "nbconvert_exporter": "python",
   "pygments_lexer": "ipython3",
   "version": "3.8.5"
  }
 },
 "nbformat": 4,
 "nbformat_minor": 4
}
