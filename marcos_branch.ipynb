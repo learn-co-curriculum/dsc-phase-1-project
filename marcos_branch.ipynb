{
 "cells": [
  {
   "cell_type": "markdown",
   "metadata": {},
   "source": [
    "# **What genres do the best in theatres?**\n",
    "- Motivation:\n",
    "    - Creating movies in popular genres will attract more initial viewers. It’s what the people are interested in watching.\n"
   ]
  },
  {
   "cell_type": "markdown",
   "metadata": {},
   "source": [
    "**Smaller questions:**\n",
    "- Which genres normally tend to be well received by the audience?\n",
    "- Which genre is the least lucrative? And the most?\n",
    "    - Which movie had the best investment return ratio? And which Genres are constantly doing well?\n",
    "    - Which movies generated the most money in their country of origin?"
   ]
  },
  {
   "cell_type": "code",
   "execution_count": 4,
   "metadata": {},
   "outputs": [],
   "source": [
    "import pandas as pd\n",
    "import matplotlib.pyplot as plt\n",
    "import seaborn as sns\n",
    "import numpy as np\n",
    "%matplotlib inline"
   ]
  },
  {
   "cell_type": "markdown",
   "metadata": {},
   "source": [
    "Assign all the CSV files to something and add comments to it"
   ]
  },
  {
   "cell_type": "code",
   "execution_count": 5,
   "metadata": {},
   "outputs": [],
   "source": [
    "# Titles, Studio, Domestic Gross, Foreign Gross and Year\n",
    "# 3387 rows\n",
    "movies_gross = pd.read_csv(\"zippedData/bom.movie_gross.csv\")\n",
    "# Nconst, Primary Name, Primary Profession, Known for titles(title_id)\n",
    "# 606648 rows\n",
    "basics_names = pd.read_csv(\"zippedData/name.basics.csv\")\n",
    "# ID's, Ordering, Title, Region, Language, Types, Attributes, Original Title\n",
    "# 331703 rows\n",
    "akas = pd.read_csv(\"zippedData/title.akas.csv\")\n",
    "# Tconst, Primary Title, Original Title, Start Year, Runtime Minutes, Genres\n",
    "# 146144 rows\n",
    "basics_titles = pd.read_csv(\"zippedData/title.basics.csv\")\n",
    "# Tconst, Directors, Writers\n",
    "# 146144 rows\n",
    "crew = pd.read_csv(\"zippedData/title.crew.csv\")\n",
    "# Tconst, Ordering, Nconst, Category, Job, Characters\n",
    "# 1028186 rows\n",
    "principals = pd.read_csv(\"zippedData/title.principals.csv\")\n",
    "# Tconst, Average Rating, Number of Votes\n",
    "# 73856 rows\n",
    "ratings = pd.read_csv(\"zippedData/title.ratings.csv\")\n",
    "# Genre Id, Id, Original Language, Original Language, Original Title, Popularity, Release Date, Title, Vote Average, Vote count \n",
    "# 26517 rows\n",
    "movies = pd.read_csv(\"zippedData/tmdb.movies.csv\")\n",
    "# Id, Release Date, Movie Name, Budget, Domestic Gross, Worldwide Gross\n",
    "# 5782 rows\n",
    "movies_budgets = pd.read_csv(\"zippedData/tn.movie_budgets.csv\")\n"
   ]
  },
  {
   "cell_type": "code",
   "execution_count": 526,
   "metadata": {},
   "outputs": [],
   "source": [
    "a = movies_budgets['release_date']\n",
    "g = []"
   ]
  },
  {
   "cell_type": "code",
   "execution_count": 527,
   "metadata": {},
   "outputs": [],
   "source": [
    "for x in a:\n",
    "    g.append(float(x[-4:]))"
   ]
  },
  {
   "cell_type": "code",
   "execution_count": 528,
   "metadata": {},
   "outputs": [],
   "source": [
    "movies_budgets['release_year'] = g"
   ]
  },
  {
   "cell_type": "markdown",
   "metadata": {},
   "source": [
    "Assign all the TSV files to something and add comments to it"
   ]
  },
  {
   "cell_type": "code",
   "execution_count": 529,
   "metadata": {},
   "outputs": [
    {
     "ename": "FileNotFoundError",
     "evalue": "[Errno 2] No such file or directory: 'zippedData/rt.movie_info.tsv'",
     "output_type": "error",
     "traceback": [
      "\u001b[1;31m---------------------------------------------------------------------------\u001b[0m",
      "\u001b[1;31mFileNotFoundError\u001b[0m                         Traceback (most recent call last)",
      "\u001b[1;32m<ipython-input-529-f70eeda0ad80>\u001b[0m in \u001b[0;36m<module>\u001b[1;34m\u001b[0m\n\u001b[0;32m      1\u001b[0m \u001b[1;31m#Id, Synopsis, Rating, Genre, Director, Writer, Theater Date, Dvd Date, Currency, Box Office, Runtime, Studio\u001b[0m\u001b[1;33m\u001b[0m\u001b[1;33m\u001b[0m\u001b[1;33m\u001b[0m\u001b[0m\n\u001b[0;32m      2\u001b[0m \u001b[1;31m#1560 rows\u001b[0m\u001b[1;33m\u001b[0m\u001b[1;33m\u001b[0m\u001b[1;33m\u001b[0m\u001b[0m\n\u001b[1;32m----> 3\u001b[1;33m \u001b[0mmovie_info\u001b[0m \u001b[1;33m=\u001b[0m \u001b[0mpd\u001b[0m\u001b[1;33m.\u001b[0m\u001b[0mread_csv\u001b[0m\u001b[1;33m(\u001b[0m\u001b[1;34m\"zippedData/rt.movie_info.tsv\"\u001b[0m\u001b[1;33m,\u001b[0m \u001b[0msep\u001b[0m\u001b[1;33m=\u001b[0m\u001b[1;34m'\\t'\u001b[0m\u001b[1;33m)\u001b[0m\u001b[1;33m\u001b[0m\u001b[1;33m\u001b[0m\u001b[0m\n\u001b[0m\u001b[0;32m      4\u001b[0m \u001b[1;31m#Id, Reviews, Rating, Fresh, Critic, Top Critic, Publisher, Date\u001b[0m\u001b[1;33m\u001b[0m\u001b[1;33m\u001b[0m\u001b[1;33m\u001b[0m\u001b[0m\n\u001b[0;32m      5\u001b[0m \u001b[1;31m#54432 rows\u001b[0m\u001b[1;33m\u001b[0m\u001b[1;33m\u001b[0m\u001b[1;33m\u001b[0m\u001b[0m\n",
      "\u001b[1;32m~\\anaconda3\\lib\\site-packages\\pandas\\io\\parsers.py\u001b[0m in \u001b[0;36mread_csv\u001b[1;34m(filepath_or_buffer, sep, delimiter, header, names, index_col, usecols, squeeze, prefix, mangle_dupe_cols, dtype, engine, converters, true_values, false_values, skipinitialspace, skiprows, skipfooter, nrows, na_values, keep_default_na, na_filter, verbose, skip_blank_lines, parse_dates, infer_datetime_format, keep_date_col, date_parser, dayfirst, cache_dates, iterator, chunksize, compression, thousands, decimal, lineterminator, quotechar, quoting, doublequote, escapechar, comment, encoding, dialect, error_bad_lines, warn_bad_lines, delim_whitespace, low_memory, memory_map, float_precision)\u001b[0m\n\u001b[0;32m    684\u001b[0m     )\n\u001b[0;32m    685\u001b[0m \u001b[1;33m\u001b[0m\u001b[0m\n\u001b[1;32m--> 686\u001b[1;33m     \u001b[1;32mreturn\u001b[0m \u001b[0m_read\u001b[0m\u001b[1;33m(\u001b[0m\u001b[0mfilepath_or_buffer\u001b[0m\u001b[1;33m,\u001b[0m \u001b[0mkwds\u001b[0m\u001b[1;33m)\u001b[0m\u001b[1;33m\u001b[0m\u001b[1;33m\u001b[0m\u001b[0m\n\u001b[0m\u001b[0;32m    687\u001b[0m \u001b[1;33m\u001b[0m\u001b[0m\n\u001b[0;32m    688\u001b[0m \u001b[1;33m\u001b[0m\u001b[0m\n",
      "\u001b[1;32m~\\anaconda3\\lib\\site-packages\\pandas\\io\\parsers.py\u001b[0m in \u001b[0;36m_read\u001b[1;34m(filepath_or_buffer, kwds)\u001b[0m\n\u001b[0;32m    450\u001b[0m \u001b[1;33m\u001b[0m\u001b[0m\n\u001b[0;32m    451\u001b[0m     \u001b[1;31m# Create the parser.\u001b[0m\u001b[1;33m\u001b[0m\u001b[1;33m\u001b[0m\u001b[1;33m\u001b[0m\u001b[0m\n\u001b[1;32m--> 452\u001b[1;33m     \u001b[0mparser\u001b[0m \u001b[1;33m=\u001b[0m \u001b[0mTextFileReader\u001b[0m\u001b[1;33m(\u001b[0m\u001b[0mfp_or_buf\u001b[0m\u001b[1;33m,\u001b[0m \u001b[1;33m**\u001b[0m\u001b[0mkwds\u001b[0m\u001b[1;33m)\u001b[0m\u001b[1;33m\u001b[0m\u001b[1;33m\u001b[0m\u001b[0m\n\u001b[0m\u001b[0;32m    453\u001b[0m \u001b[1;33m\u001b[0m\u001b[0m\n\u001b[0;32m    454\u001b[0m     \u001b[1;32mif\u001b[0m \u001b[0mchunksize\u001b[0m \u001b[1;32mor\u001b[0m \u001b[0miterator\u001b[0m\u001b[1;33m:\u001b[0m\u001b[1;33m\u001b[0m\u001b[1;33m\u001b[0m\u001b[0m\n",
      "\u001b[1;32m~\\anaconda3\\lib\\site-packages\\pandas\\io\\parsers.py\u001b[0m in \u001b[0;36m__init__\u001b[1;34m(self, f, engine, **kwds)\u001b[0m\n\u001b[0;32m    944\u001b[0m             \u001b[0mself\u001b[0m\u001b[1;33m.\u001b[0m\u001b[0moptions\u001b[0m\u001b[1;33m[\u001b[0m\u001b[1;34m\"has_index_names\"\u001b[0m\u001b[1;33m]\u001b[0m \u001b[1;33m=\u001b[0m \u001b[0mkwds\u001b[0m\u001b[1;33m[\u001b[0m\u001b[1;34m\"has_index_names\"\u001b[0m\u001b[1;33m]\u001b[0m\u001b[1;33m\u001b[0m\u001b[1;33m\u001b[0m\u001b[0m\n\u001b[0;32m    945\u001b[0m \u001b[1;33m\u001b[0m\u001b[0m\n\u001b[1;32m--> 946\u001b[1;33m         \u001b[0mself\u001b[0m\u001b[1;33m.\u001b[0m\u001b[0m_make_engine\u001b[0m\u001b[1;33m(\u001b[0m\u001b[0mself\u001b[0m\u001b[1;33m.\u001b[0m\u001b[0mengine\u001b[0m\u001b[1;33m)\u001b[0m\u001b[1;33m\u001b[0m\u001b[1;33m\u001b[0m\u001b[0m\n\u001b[0m\u001b[0;32m    947\u001b[0m \u001b[1;33m\u001b[0m\u001b[0m\n\u001b[0;32m    948\u001b[0m     \u001b[1;32mdef\u001b[0m \u001b[0mclose\u001b[0m\u001b[1;33m(\u001b[0m\u001b[0mself\u001b[0m\u001b[1;33m)\u001b[0m\u001b[1;33m:\u001b[0m\u001b[1;33m\u001b[0m\u001b[1;33m\u001b[0m\u001b[0m\n",
      "\u001b[1;32m~\\anaconda3\\lib\\site-packages\\pandas\\io\\parsers.py\u001b[0m in \u001b[0;36m_make_engine\u001b[1;34m(self, engine)\u001b[0m\n\u001b[0;32m   1176\u001b[0m     \u001b[1;32mdef\u001b[0m \u001b[0m_make_engine\u001b[0m\u001b[1;33m(\u001b[0m\u001b[0mself\u001b[0m\u001b[1;33m,\u001b[0m \u001b[0mengine\u001b[0m\u001b[1;33m=\u001b[0m\u001b[1;34m\"c\"\u001b[0m\u001b[1;33m)\u001b[0m\u001b[1;33m:\u001b[0m\u001b[1;33m\u001b[0m\u001b[1;33m\u001b[0m\u001b[0m\n\u001b[0;32m   1177\u001b[0m         \u001b[1;32mif\u001b[0m \u001b[0mengine\u001b[0m \u001b[1;33m==\u001b[0m \u001b[1;34m\"c\"\u001b[0m\u001b[1;33m:\u001b[0m\u001b[1;33m\u001b[0m\u001b[1;33m\u001b[0m\u001b[0m\n\u001b[1;32m-> 1178\u001b[1;33m             \u001b[0mself\u001b[0m\u001b[1;33m.\u001b[0m\u001b[0m_engine\u001b[0m \u001b[1;33m=\u001b[0m \u001b[0mCParserWrapper\u001b[0m\u001b[1;33m(\u001b[0m\u001b[0mself\u001b[0m\u001b[1;33m.\u001b[0m\u001b[0mf\u001b[0m\u001b[1;33m,\u001b[0m \u001b[1;33m**\u001b[0m\u001b[0mself\u001b[0m\u001b[1;33m.\u001b[0m\u001b[0moptions\u001b[0m\u001b[1;33m)\u001b[0m\u001b[1;33m\u001b[0m\u001b[1;33m\u001b[0m\u001b[0m\n\u001b[0m\u001b[0;32m   1179\u001b[0m         \u001b[1;32melse\u001b[0m\u001b[1;33m:\u001b[0m\u001b[1;33m\u001b[0m\u001b[1;33m\u001b[0m\u001b[0m\n\u001b[0;32m   1180\u001b[0m             \u001b[1;32mif\u001b[0m \u001b[0mengine\u001b[0m \u001b[1;33m==\u001b[0m \u001b[1;34m\"python\"\u001b[0m\u001b[1;33m:\u001b[0m\u001b[1;33m\u001b[0m\u001b[1;33m\u001b[0m\u001b[0m\n",
      "\u001b[1;32m~\\anaconda3\\lib\\site-packages\\pandas\\io\\parsers.py\u001b[0m in \u001b[0;36m__init__\u001b[1;34m(self, src, **kwds)\u001b[0m\n\u001b[0;32m   2006\u001b[0m         \u001b[0mkwds\u001b[0m\u001b[1;33m[\u001b[0m\u001b[1;34m\"usecols\"\u001b[0m\u001b[1;33m]\u001b[0m \u001b[1;33m=\u001b[0m \u001b[0mself\u001b[0m\u001b[1;33m.\u001b[0m\u001b[0musecols\u001b[0m\u001b[1;33m\u001b[0m\u001b[1;33m\u001b[0m\u001b[0m\n\u001b[0;32m   2007\u001b[0m \u001b[1;33m\u001b[0m\u001b[0m\n\u001b[1;32m-> 2008\u001b[1;33m         \u001b[0mself\u001b[0m\u001b[1;33m.\u001b[0m\u001b[0m_reader\u001b[0m \u001b[1;33m=\u001b[0m \u001b[0mparsers\u001b[0m\u001b[1;33m.\u001b[0m\u001b[0mTextReader\u001b[0m\u001b[1;33m(\u001b[0m\u001b[0msrc\u001b[0m\u001b[1;33m,\u001b[0m \u001b[1;33m**\u001b[0m\u001b[0mkwds\u001b[0m\u001b[1;33m)\u001b[0m\u001b[1;33m\u001b[0m\u001b[1;33m\u001b[0m\u001b[0m\n\u001b[0m\u001b[0;32m   2009\u001b[0m         \u001b[0mself\u001b[0m\u001b[1;33m.\u001b[0m\u001b[0munnamed_cols\u001b[0m \u001b[1;33m=\u001b[0m \u001b[0mself\u001b[0m\u001b[1;33m.\u001b[0m\u001b[0m_reader\u001b[0m\u001b[1;33m.\u001b[0m\u001b[0munnamed_cols\u001b[0m\u001b[1;33m\u001b[0m\u001b[1;33m\u001b[0m\u001b[0m\n\u001b[0;32m   2010\u001b[0m \u001b[1;33m\u001b[0m\u001b[0m\n",
      "\u001b[1;32mpandas\\_libs\\parsers.pyx\u001b[0m in \u001b[0;36mpandas._libs.parsers.TextReader.__cinit__\u001b[1;34m()\u001b[0m\n",
      "\u001b[1;32mpandas\\_libs\\parsers.pyx\u001b[0m in \u001b[0;36mpandas._libs.parsers.TextReader._setup_parser_source\u001b[1;34m()\u001b[0m\n",
      "\u001b[1;31mFileNotFoundError\u001b[0m: [Errno 2] No such file or directory: 'zippedData/rt.movie_info.tsv'"
     ]
    }
   ],
   "source": [
    "#Id, Synopsis, Rating, Genre, Director, Writer, Theater Date, Dvd Date, Currency, Box Office, Runtime, Studio\n",
    "#1560 rows \n",
    "movie_info = pd.read_csv(\"zippedData/rt.movie_info.tsv\", sep='\\t')\n",
    "#Id, Reviews, Rating, Fresh, Critic, Top Critic, Publisher, Date\n",
    "#54432 rows\n",
    "reviews = pd.read_csv(\"zippedData/rt.reviews.tsv\", sep='\\t', encoding = 'unicode_escape')\n"
   ]
  },
  {
   "cell_type": "markdown",
   "metadata": {},
   "source": [
    "# Working with data"
   ]
  },
  {
   "cell_type": "markdown",
   "metadata": {},
   "source": [
    "### Working with the basics_titles dataframe"
   ]
  },
  {
   "cell_type": "markdown",
   "metadata": {},
   "source": [
    "Creating a table that contains Titles, Genres, Start Year and Tconst (cleaning some columns)"
   ]
  },
  {
   "cell_type": "code",
   "execution_count": 530,
   "metadata": {},
   "outputs": [],
   "source": [
    "# Cleaning basics_titles to only those released after 2008\n",
    "# Cleaning again to only those released before 2020\n",
    "# Cleaning NAN values\n",
    "# Using split to create a new column with separeted Genres\n",
    "# Droping the unused Genres columns\n",
    "\n",
    "basics_titles = basics_titles[basics_titles['start_year'] > 2008]\n",
    "basics_titles = basics_titles[basics_titles['start_year'] <= 2019]\n",
    "title_genre = basics_titles.drop(['original_title', 'runtime_minutes'], axis=1)\n",
    "title_genre.dropna(inplace=True)"
   ]
  },
  {
   "cell_type": "code",
   "execution_count": 531,
   "metadata": {
    "scrolled": true
   },
   "outputs": [
    {
     "data": {
      "text/html": [
       "<div>\n",
       "<style scoped>\n",
       "    .dataframe tbody tr th:only-of-type {\n",
       "        vertical-align: middle;\n",
       "    }\n",
       "\n",
       "    .dataframe tbody tr th {\n",
       "        vertical-align: top;\n",
       "    }\n",
       "\n",
       "    .dataframe thead th {\n",
       "        text-align: right;\n",
       "    }\n",
       "</style>\n",
       "<table border=\"1\" class=\"dataframe\">\n",
       "  <thead>\n",
       "    <tr style=\"text-align: right;\">\n",
       "      <th></th>\n",
       "      <th>tconst</th>\n",
       "      <th>primary_title</th>\n",
       "      <th>start_year</th>\n",
       "      <th>genres</th>\n",
       "    </tr>\n",
       "  </thead>\n",
       "  <tbody>\n",
       "    <tr>\n",
       "      <th>0</th>\n",
       "      <td>tt0063540</td>\n",
       "      <td>Sunghursh</td>\n",
       "      <td>2013</td>\n",
       "      <td>Action,Crime,Drama</td>\n",
       "    </tr>\n",
       "    <tr>\n",
       "      <th>1</th>\n",
       "      <td>tt0066787</td>\n",
       "      <td>One Day Before the Rainy Season</td>\n",
       "      <td>2019</td>\n",
       "      <td>Biography,Drama</td>\n",
       "    </tr>\n",
       "    <tr>\n",
       "      <th>2</th>\n",
       "      <td>tt0069049</td>\n",
       "      <td>The Other Side of the Wind</td>\n",
       "      <td>2018</td>\n",
       "      <td>Drama</td>\n",
       "    </tr>\n",
       "    <tr>\n",
       "      <th>3</th>\n",
       "      <td>tt0069204</td>\n",
       "      <td>Sabse Bada Sukh</td>\n",
       "      <td>2018</td>\n",
       "      <td>Comedy,Drama</td>\n",
       "    </tr>\n",
       "    <tr>\n",
       "      <th>4</th>\n",
       "      <td>tt0100275</td>\n",
       "      <td>The Wandering Soap Opera</td>\n",
       "      <td>2017</td>\n",
       "      <td>Comedy,Drama,Fantasy</td>\n",
       "    </tr>\n",
       "  </tbody>\n",
       "</table>\n",
       "</div>"
      ],
      "text/plain": [
       "      tconst                    primary_title  start_year  \\\n",
       "0  tt0063540                        Sunghursh        2013   \n",
       "1  tt0066787  One Day Before the Rainy Season        2019   \n",
       "2  tt0069049       The Other Side of the Wind        2018   \n",
       "3  tt0069204                  Sabse Bada Sukh        2018   \n",
       "4  tt0100275         The Wandering Soap Opera        2017   \n",
       "\n",
       "                 genres  \n",
       "0    Action,Crime,Drama  \n",
       "1       Biography,Drama  \n",
       "2                 Drama  \n",
       "3          Comedy,Drama  \n",
       "4  Comedy,Drama,Fantasy  "
      ]
     },
     "execution_count": 531,
     "metadata": {},
     "output_type": "execute_result"
    }
   ],
   "source": [
    "#title_genre.sort_values(['start_year'], ascending=False)\n",
    "title_genre.head()"
   ]
  },
  {
   "cell_type": "code",
   "execution_count": 532,
   "metadata": {},
   "outputs": [
    {
     "data": {
      "text/plain": [
       "2013"
      ]
     },
     "execution_count": 532,
     "metadata": {},
     "output_type": "execute_result"
    }
   ],
   "source": [
    "title_genre['start_year'][0]"
   ]
  },
  {
   "cell_type": "markdown",
   "metadata": {},
   "source": [
    "Creating a new table with the rating, tconst, primary_title and genre"
   ]
  },
  {
   "cell_type": "code",
   "execution_count": 533,
   "metadata": {
    "scrolled": true
   },
   "outputs": [],
   "source": [
    "# Joining tables to create a new one with more info\n",
    "# Dropping NAN values\n",
    "titlegenrerating = ratings.join(title_genre.set_index('tconst'), on='tconst')\n",
    "titlegenrerating.dropna(inplace=True)"
   ]
  },
  {
   "cell_type": "code",
   "execution_count": 534,
   "metadata": {},
   "outputs": [
    {
     "data": {
      "text/html": [
       "<div>\n",
       "<style scoped>\n",
       "    .dataframe tbody tr th:only-of-type {\n",
       "        vertical-align: middle;\n",
       "    }\n",
       "\n",
       "    .dataframe tbody tr th {\n",
       "        vertical-align: top;\n",
       "    }\n",
       "\n",
       "    .dataframe thead th {\n",
       "        text-align: right;\n",
       "    }\n",
       "</style>\n",
       "<table border=\"1\" class=\"dataframe\">\n",
       "  <thead>\n",
       "    <tr style=\"text-align: right;\">\n",
       "      <th></th>\n",
       "      <th>tconst</th>\n",
       "      <th>averagerating</th>\n",
       "      <th>numvotes</th>\n",
       "      <th>primary_title</th>\n",
       "      <th>start_year</th>\n",
       "      <th>genres</th>\n",
       "    </tr>\n",
       "  </thead>\n",
       "  <tbody>\n",
       "    <tr>\n",
       "      <th>0</th>\n",
       "      <td>tt10356526</td>\n",
       "      <td>8.3</td>\n",
       "      <td>31</td>\n",
       "      <td>Laiye Je Yaarian</td>\n",
       "      <td>2019.0</td>\n",
       "      <td>Romance</td>\n",
       "    </tr>\n",
       "    <tr>\n",
       "      <th>1</th>\n",
       "      <td>tt10384606</td>\n",
       "      <td>8.9</td>\n",
       "      <td>559</td>\n",
       "      <td>Borderless</td>\n",
       "      <td>2019.0</td>\n",
       "      <td>Documentary</td>\n",
       "    </tr>\n",
       "  </tbody>\n",
       "</table>\n",
       "</div>"
      ],
      "text/plain": [
       "       tconst  averagerating  numvotes     primary_title  start_year  \\\n",
       "0  tt10356526            8.3        31  Laiye Je Yaarian      2019.0   \n",
       "1  tt10384606            8.9       559        Borderless      2019.0   \n",
       "\n",
       "        genres  \n",
       "0      Romance  \n",
       "1  Documentary  "
      ]
     },
     "execution_count": 534,
     "metadata": {},
     "output_type": "execute_result"
    }
   ],
   "source": [
    "titlegenrerating.head(2)"
   ]
  },
  {
   "cell_type": "markdown",
   "metadata": {},
   "source": [
    "# Working with the movies_budgets dataframe"
   ]
  },
  {
   "cell_type": "markdown",
   "metadata": {},
   "source": [
    "The goal here is to create a table with Movies Name, Budget, Domestic Gross and Worldwide Gross(Cleaning the column ID)"
   ]
  },
  {
   "cell_type": "code",
   "execution_count": 548,
   "metadata": {},
   "outputs": [],
   "source": [
    "# Cleaning NAN values\n",
    "# Renaming Column to match the other table, to make left-join possible\n",
    "\n",
    "movies_money = movies_budgets.drop(['id', 'release_date'], axis=1)\n",
    "movies_money.dropna(inplace=True)\n",
    "movies_money.rename(columns={\"movie\": \"primary_title\"}, inplace=True)\n",
    "movies_money = movies_money[movies_money['release_year'] > 2008]\n",
    "movies_money = movies_money[movies_money['release_year'] <= 2019]"
   ]
  },
  {
   "cell_type": "code",
   "execution_count": 549,
   "metadata": {
    "scrolled": false
   },
   "outputs": [
    {
     "data": {
      "text/html": [
       "<div>\n",
       "<style scoped>\n",
       "    .dataframe tbody tr th:only-of-type {\n",
       "        vertical-align: middle;\n",
       "    }\n",
       "\n",
       "    .dataframe tbody tr th {\n",
       "        vertical-align: top;\n",
       "    }\n",
       "\n",
       "    .dataframe thead th {\n",
       "        text-align: right;\n",
       "    }\n",
       "</style>\n",
       "<table border=\"1\" class=\"dataframe\">\n",
       "  <thead>\n",
       "    <tr style=\"text-align: right;\">\n",
       "      <th></th>\n",
       "      <th>primary_title</th>\n",
       "      <th>production_budget</th>\n",
       "      <th>domestic_gross</th>\n",
       "      <th>worldwide_gross</th>\n",
       "      <th>release_year</th>\n",
       "    </tr>\n",
       "  </thead>\n",
       "  <tbody>\n",
       "    <tr>\n",
       "      <th>0</th>\n",
       "      <td>Avatar</td>\n",
       "      <td>$425,000,000</td>\n",
       "      <td>$760,507,625</td>\n",
       "      <td>$2,776,345,279</td>\n",
       "      <td>2009.0</td>\n",
       "    </tr>\n",
       "    <tr>\n",
       "      <th>1</th>\n",
       "      <td>Pirates of the Caribbean: On Stranger Tides</td>\n",
       "      <td>$410,600,000</td>\n",
       "      <td>$241,063,875</td>\n",
       "      <td>$1,045,663,875</td>\n",
       "      <td>2011.0</td>\n",
       "    </tr>\n",
       "  </tbody>\n",
       "</table>\n",
       "</div>"
      ],
      "text/plain": [
       "                                 primary_title production_budget  \\\n",
       "0                                       Avatar      $425,000,000   \n",
       "1  Pirates of the Caribbean: On Stranger Tides      $410,600,000   \n",
       "\n",
       "  domestic_gross worldwide_gross  release_year  \n",
       "0   $760,507,625  $2,776,345,279        2009.0  \n",
       "1   $241,063,875  $1,045,663,875        2011.0  "
      ]
     },
     "execution_count": 549,
     "metadata": {},
     "output_type": "execute_result"
    }
   ],
   "source": [
    "#5782 rows\n",
    "movies_money.head(2)"
   ]
  },
  {
   "cell_type": "code",
   "execution_count": 550,
   "metadata": {},
   "outputs": [],
   "source": [
    "# Using method str.replace to remove ',' and '$' from the data columns \n",
    "# Using astype to change the values in those columns from String to Float because to Int gives an error\n",
    "\n",
    "movies_money['worldwide_gross'] = movies_money['worldwide_gross'].str.replace(',', '')\n",
    "movies_money['worldwide_gross'] = movies_money['worldwide_gross'].str.replace('$', '')\n",
    "movies_money['worldwide_gross'] = movies_money['worldwide_gross'].astype(float)\n",
    "\n",
    "movies_money['production_budget'] = movies_money['production_budget'].str.replace(',', '')\n",
    "movies_money['production_budget'] = movies_money['production_budget'].str.replace('$', '')\n",
    "movies_money['production_budget'] = movies_money['production_budget'].astype(float)\n",
    "\n",
    "movies_money['domestic_gross'] = movies_money['domestic_gross'].str.replace(',', '')\n",
    "movies_money['domestic_gross'] = movies_money['domestic_gross'].str.replace('$', '')\n",
    "movies_money['domestic_gross'] = movies_money['domestic_gross'].astype(float)\n"
   ]
  },
  {
   "cell_type": "code",
   "execution_count": 538,
   "metadata": {},
   "outputs": [],
   "source": [
    "# Creating a new column to give the investment return (How many dollars you get per dollar invested)\n",
    "# Checking for duplicated entries on the data based on the primary title column q\n",
    "# Dropping all the duplicates, not keeping any so it doesn't conflict with the other table and we get false information\n",
    "# Checking one last time to see if we still have duplicates\n",
    "\n",
    "movies_money['investment_return'] = movies_money['worldwide_gross']/movies_money['production_budget']\n",
    "movies_money['investment_return'] = movies_money['investment_return'] - 1\n",
    "\n",
    "duplicates_money = movies_money[movies_money.duplicated(subset=['primary_title'],keep=False)].sort_values(['primary_title'])\n",
    "duplicates_money.head(6)\n",
    "\n",
    "movies_money.drop_duplicates(subset='primary_title', keep=False, inplace=True)\n"
   ]
  },
  {
   "cell_type": "code",
   "execution_count": 539,
   "metadata": {
    "scrolled": true
   },
   "outputs": [
    {
     "data": {
      "text/html": [
       "<div>\n",
       "<style scoped>\n",
       "    .dataframe tbody tr th:only-of-type {\n",
       "        vertical-align: middle;\n",
       "    }\n",
       "\n",
       "    .dataframe tbody tr th {\n",
       "        vertical-align: top;\n",
       "    }\n",
       "\n",
       "    .dataframe thead th {\n",
       "        text-align: right;\n",
       "    }\n",
       "</style>\n",
       "<table border=\"1\" class=\"dataframe\">\n",
       "  <thead>\n",
       "    <tr style=\"text-align: right;\">\n",
       "      <th></th>\n",
       "      <th>primary_title</th>\n",
       "      <th>production_budget</th>\n",
       "      <th>domestic_gross</th>\n",
       "      <th>worldwide_gross</th>\n",
       "      <th>release_year</th>\n",
       "      <th>investment_return</th>\n",
       "    </tr>\n",
       "  </thead>\n",
       "  <tbody>\n",
       "    <tr>\n",
       "      <th>0</th>\n",
       "      <td>Avatar</td>\n",
       "      <td>425000000.0</td>\n",
       "      <td>760507625.0</td>\n",
       "      <td>2.776345e+09</td>\n",
       "      <td>2009.0</td>\n",
       "      <td>5.532577</td>\n",
       "    </tr>\n",
       "    <tr>\n",
       "      <th>1</th>\n",
       "      <td>Pirates of the Caribbean: On Stranger Tides</td>\n",
       "      <td>410600000.0</td>\n",
       "      <td>241063875.0</td>\n",
       "      <td>1.045664e+09</td>\n",
       "      <td>2011.0</td>\n",
       "      <td>1.546673</td>\n",
       "    </tr>\n",
       "  </tbody>\n",
       "</table>\n",
       "</div>"
      ],
      "text/plain": [
       "                                 primary_title  production_budget  \\\n",
       "0                                       Avatar        425000000.0   \n",
       "1  Pirates of the Caribbean: On Stranger Tides        410600000.0   \n",
       "\n",
       "   domestic_gross  worldwide_gross  release_year  investment_return  \n",
       "0     760507625.0     2.776345e+09        2009.0           5.532577  \n",
       "1     241063875.0     1.045664e+09        2011.0           1.546673  "
      ]
     },
     "execution_count": 539,
     "metadata": {},
     "output_type": "execute_result"
    }
   ],
   "source": [
    "movies_money.head(2)"
   ]
  },
  {
   "cell_type": "markdown",
   "metadata": {},
   "source": [
    "# Creating the new table moviesfullinfo"
   ]
  },
  {
   "cell_type": "markdown",
   "metadata": {},
   "source": [
    "The idea here is to join two tables to make one with ratings and money to make mostly a correlation between these 2 metrics"
   ]
  },
  {
   "cell_type": "code",
   "execution_count": 564,
   "metadata": {},
   "outputs": [
    {
     "ename": "SyntaxError",
     "evalue": "unexpected EOF while parsing (<ipython-input-564-9f779011a821>, line 11)",
     "output_type": "error",
     "traceback": [
      "\u001b[1;36m  File \u001b[1;32m\"<ipython-input-564-9f779011a821>\"\u001b[1;36m, line \u001b[1;32m11\u001b[0m\n\u001b[1;33m    #moviesfullinfo = moviesfullinfo[moviesfullinfo['worldwide_gross'] >= 1]\u001b[0m\n\u001b[1;37m                                                                            ^\u001b[0m\n\u001b[1;31mSyntaxError\u001b[0m\u001b[1;31m:\u001b[0m unexpected EOF while parsing\n"
     ]
    }
   ],
   "source": [
    "# Dropping Tconst, since this one is supposed to be the final table to use for graphs\n",
    "# Dropping nan's values\n",
    "# Creating a filter to only movies that had a budget over a million dollars\n",
    "\n",
    "#new_df = pd.merge(A_df, B_df,  how='left', left_on=['A_c1','c2'], right_on = ['B_c1','c2'])\n",
    "\n",
    "moviesfullinfo = movies_money.join(titlegenrerating.set_index('primary_title'), on='primary_title'\n",
    "moviesfullinfo.drop(['tconst'], axis=1, inplace=True)\n",
    "moviesfullinfo = moviesfullinfo.dropna()\n",
    "moviesfullinfo = moviesfullinfo[moviesfullinfo['production_budget'] >= 1000000]\n",
    "moviesfullinfo = moviesfullinfo[moviesfullinfo['worldwide_gross'] >= 1]"
   ]
  },
  {
   "cell_type": "code",
   "execution_count": 541,
   "metadata": {
    "scrolled": true
   },
   "outputs": [
    {
     "data": {
      "text/html": [
       "<div>\n",
       "<style scoped>\n",
       "    .dataframe tbody tr th:only-of-type {\n",
       "        vertical-align: middle;\n",
       "    }\n",
       "\n",
       "    .dataframe tbody tr th {\n",
       "        vertical-align: top;\n",
       "    }\n",
       "\n",
       "    .dataframe thead th {\n",
       "        text-align: right;\n",
       "    }\n",
       "</style>\n",
       "<table border=\"1\" class=\"dataframe\">\n",
       "  <thead>\n",
       "    <tr style=\"text-align: right;\">\n",
       "      <th></th>\n",
       "      <th>primary_title</th>\n",
       "      <th>production_budget</th>\n",
       "      <th>domestic_gross</th>\n",
       "      <th>worldwide_gross</th>\n",
       "      <th>release_year</th>\n",
       "      <th>investment_return</th>\n",
       "      <th>averagerating</th>\n",
       "      <th>numvotes</th>\n",
       "      <th>start_year</th>\n",
       "      <th>genres</th>\n",
       "    </tr>\n",
       "  </thead>\n",
       "  <tbody>\n",
       "    <tr>\n",
       "      <th>0</th>\n",
       "      <td>Avatar</td>\n",
       "      <td>425000000.0</td>\n",
       "      <td>760507625.0</td>\n",
       "      <td>2.776345e+09</td>\n",
       "      <td>2009.0</td>\n",
       "      <td>5.532577</td>\n",
       "      <td>6.1</td>\n",
       "      <td>43.0</td>\n",
       "      <td>2011.0</td>\n",
       "      <td>Horror</td>\n",
       "    </tr>\n",
       "    <tr>\n",
       "      <th>1</th>\n",
       "      <td>Pirates of the Caribbean: On Stranger Tides</td>\n",
       "      <td>410600000.0</td>\n",
       "      <td>241063875.0</td>\n",
       "      <td>1.045664e+09</td>\n",
       "      <td>2011.0</td>\n",
       "      <td>1.546673</td>\n",
       "      <td>6.6</td>\n",
       "      <td>447624.0</td>\n",
       "      <td>2011.0</td>\n",
       "      <td>Action,Adventure,Fantasy</td>\n",
       "    </tr>\n",
       "    <tr>\n",
       "      <th>2</th>\n",
       "      <td>Dark Phoenix</td>\n",
       "      <td>350000000.0</td>\n",
       "      <td>42762350.0</td>\n",
       "      <td>1.497624e+08</td>\n",
       "      <td>2019.0</td>\n",
       "      <td>-0.572108</td>\n",
       "      <td>6.0</td>\n",
       "      <td>24451.0</td>\n",
       "      <td>2019.0</td>\n",
       "      <td>Action,Adventure,Sci-Fi</td>\n",
       "    </tr>\n",
       "  </tbody>\n",
       "</table>\n",
       "</div>"
      ],
      "text/plain": [
       "                                 primary_title  production_budget  \\\n",
       "0                                       Avatar        425000000.0   \n",
       "1  Pirates of the Caribbean: On Stranger Tides        410600000.0   \n",
       "2                                 Dark Phoenix        350000000.0   \n",
       "\n",
       "   domestic_gross  worldwide_gross  release_year  investment_return  \\\n",
       "0     760507625.0     2.776345e+09        2009.0           5.532577   \n",
       "1     241063875.0     1.045664e+09        2011.0           1.546673   \n",
       "2      42762350.0     1.497624e+08        2019.0          -0.572108   \n",
       "\n",
       "   averagerating  numvotes  start_year                    genres  \n",
       "0            6.1      43.0      2011.0                    Horror  \n",
       "1            6.6  447624.0      2011.0  Action,Adventure,Fantasy  \n",
       "2            6.0   24451.0      2019.0   Action,Adventure,Sci-Fi  "
      ]
     },
     "execution_count": 541,
     "metadata": {},
     "output_type": "execute_result"
    }
   ],
   "source": [
    "#2410 rows\n",
    "moviesfullinfo.head(3)"
   ]
  },
  {
   "cell_type": "code",
   "execution_count": 552,
   "metadata": {},
   "outputs": [],
   "source": [
    "titlegenrerating.rename(columns={\"start_year\": \"release_year\"}, inplace=True)"
   ]
  },
  {
   "cell_type": "code",
   "execution_count": 554,
   "metadata": {},
   "outputs": [
    {
     "data": {
      "text/html": [
       "<div>\n",
       "<style scoped>\n",
       "    .dataframe tbody tr th:only-of-type {\n",
       "        vertical-align: middle;\n",
       "    }\n",
       "\n",
       "    .dataframe tbody tr th {\n",
       "        vertical-align: top;\n",
       "    }\n",
       "\n",
       "    .dataframe thead th {\n",
       "        text-align: right;\n",
       "    }\n",
       "</style>\n",
       "<table border=\"1\" class=\"dataframe\">\n",
       "  <thead>\n",
       "    <tr style=\"text-align: right;\">\n",
       "      <th></th>\n",
       "      <th>primary_title</th>\n",
       "      <th>production_budget</th>\n",
       "      <th>domestic_gross</th>\n",
       "      <th>worldwide_gross</th>\n",
       "      <th>release_year</th>\n",
       "    </tr>\n",
       "  </thead>\n",
       "  <tbody>\n",
       "    <tr>\n",
       "      <th>0</th>\n",
       "      <td>Avatar</td>\n",
       "      <td>425000000.0</td>\n",
       "      <td>760507625.0</td>\n",
       "      <td>2.776345e+09</td>\n",
       "      <td>2009.0</td>\n",
       "    </tr>\n",
       "    <tr>\n",
       "      <th>1</th>\n",
       "      <td>Pirates of the Caribbean: On Stranger Tides</td>\n",
       "      <td>410600000.0</td>\n",
       "      <td>241063875.0</td>\n",
       "      <td>1.045664e+09</td>\n",
       "      <td>2011.0</td>\n",
       "    </tr>\n",
       "    <tr>\n",
       "      <th>2</th>\n",
       "      <td>Dark Phoenix</td>\n",
       "      <td>350000000.0</td>\n",
       "      <td>42762350.0</td>\n",
       "      <td>1.497624e+08</td>\n",
       "      <td>2019.0</td>\n",
       "    </tr>\n",
       "    <tr>\n",
       "      <th>3</th>\n",
       "      <td>Avengers: Age of Ultron</td>\n",
       "      <td>330600000.0</td>\n",
       "      <td>459005868.0</td>\n",
       "      <td>1.403014e+09</td>\n",
       "      <td>2015.0</td>\n",
       "    </tr>\n",
       "    <tr>\n",
       "      <th>4</th>\n",
       "      <td>Star Wars Ep. VIII: The Last Jedi</td>\n",
       "      <td>317000000.0</td>\n",
       "      <td>620181382.0</td>\n",
       "      <td>1.316722e+09</td>\n",
       "      <td>2017.0</td>\n",
       "    </tr>\n",
       "    <tr>\n",
       "      <th>...</th>\n",
       "      <td>...</td>\n",
       "      <td>...</td>\n",
       "      <td>...</td>\n",
       "      <td>...</td>\n",
       "      <td>...</td>\n",
       "    </tr>\n",
       "    <tr>\n",
       "      <th>5761</th>\n",
       "      <td>Stories of Our Lives</td>\n",
       "      <td>15000.0</td>\n",
       "      <td>0.0</td>\n",
       "      <td>0.000000e+00</td>\n",
       "      <td>2014.0</td>\n",
       "    </tr>\n",
       "    <tr>\n",
       "      <th>5771</th>\n",
       "      <td>Family Motocross</td>\n",
       "      <td>10000.0</td>\n",
       "      <td>0.0</td>\n",
       "      <td>0.000000e+00</td>\n",
       "      <td>2015.0</td>\n",
       "    </tr>\n",
       "    <tr>\n",
       "      <th>5772</th>\n",
       "      <td>Newlyweds</td>\n",
       "      <td>9000.0</td>\n",
       "      <td>4584.0</td>\n",
       "      <td>4.584000e+03</td>\n",
       "      <td>2012.0</td>\n",
       "    </tr>\n",
       "    <tr>\n",
       "      <th>5777</th>\n",
       "      <td>Red 11</td>\n",
       "      <td>7000.0</td>\n",
       "      <td>0.0</td>\n",
       "      <td>0.000000e+00</td>\n",
       "      <td>2018.0</td>\n",
       "    </tr>\n",
       "    <tr>\n",
       "      <th>5780</th>\n",
       "      <td>A Plague So Pleasant</td>\n",
       "      <td>1400.0</td>\n",
       "      <td>0.0</td>\n",
       "      <td>0.000000e+00</td>\n",
       "      <td>2015.0</td>\n",
       "    </tr>\n",
       "  </tbody>\n",
       "</table>\n",
       "<p>2430 rows × 5 columns</p>\n",
       "</div>"
      ],
      "text/plain": [
       "                                    primary_title  production_budget  \\\n",
       "0                                          Avatar        425000000.0   \n",
       "1     Pirates of the Caribbean: On Stranger Tides        410600000.0   \n",
       "2                                    Dark Phoenix        350000000.0   \n",
       "3                         Avengers: Age of Ultron        330600000.0   \n",
       "4               Star Wars Ep. VIII: The Last Jedi        317000000.0   \n",
       "...                                           ...                ...   \n",
       "5761                         Stories of Our Lives            15000.0   \n",
       "5771                             Family Motocross            10000.0   \n",
       "5772                                    Newlyweds             9000.0   \n",
       "5777                                       Red 11             7000.0   \n",
       "5780                         A Plague So Pleasant             1400.0   \n",
       "\n",
       "      domestic_gross  worldwide_gross  release_year  \n",
       "0        760507625.0     2.776345e+09        2009.0  \n",
       "1        241063875.0     1.045664e+09        2011.0  \n",
       "2         42762350.0     1.497624e+08        2019.0  \n",
       "3        459005868.0     1.403014e+09        2015.0  \n",
       "4        620181382.0     1.316722e+09        2017.0  \n",
       "...              ...              ...           ...  \n",
       "5761             0.0     0.000000e+00        2014.0  \n",
       "5771             0.0     0.000000e+00        2015.0  \n",
       "5772          4584.0     4.584000e+03        2012.0  \n",
       "5777             0.0     0.000000e+00        2018.0  \n",
       "5780             0.0     0.000000e+00        2015.0  \n",
       "\n",
       "[2430 rows x 5 columns]"
      ]
     },
     "execution_count": 554,
     "metadata": {},
     "output_type": "execute_result"
    }
   ],
   "source": [
    "movies_money"
   ]
  },
  {
   "cell_type": "markdown",
   "metadata": {},
   "source": [
    "# Creating the new table movieswoutratings"
   ]
  },
  {
   "cell_type": "markdown",
   "metadata": {},
   "source": [
    "Here the goal was to make a table to make a correlation between Genre, Production, Worldwide Gross, Domestic Gross and ROI's"
   ]
  },
  {
   "cell_type": "code",
   "execution_count": 542,
   "metadata": {},
   "outputs": [],
   "source": [
    "# Using method str.replace to remove ',' and '$' from the data columns \n",
    "# Using astype to change the values in those columns from String to Float because to Int gives an error\n",
    "\n",
    "movieswoutratings = moviesfullinfo\n",
    "movieswoutratings = movieswoutratings.dropna()\n",
    "\n",
    "movieswoutratings = movieswoutratings[movieswoutratings['production_budget'] >= 1000000]\n",
    "\n",
    "movieswoutratings = movieswoutratings[movieswoutratings['production_budget'] >= 1000000]\n",
    "movieswoutratings = movieswoutratings[movieswoutratings['worldwide_gross'] >= 1]"
   ]
  },
  {
   "cell_type": "code",
   "execution_count": 543,
   "metadata": {
    "scrolled": true
   },
   "outputs": [
    {
     "data": {
      "text/html": [
       "<div>\n",
       "<style scoped>\n",
       "    .dataframe tbody tr th:only-of-type {\n",
       "        vertical-align: middle;\n",
       "    }\n",
       "\n",
       "    .dataframe tbody tr th {\n",
       "        vertical-align: top;\n",
       "    }\n",
       "\n",
       "    .dataframe thead th {\n",
       "        text-align: right;\n",
       "    }\n",
       "</style>\n",
       "<table border=\"1\" class=\"dataframe\">\n",
       "  <thead>\n",
       "    <tr style=\"text-align: right;\">\n",
       "      <th></th>\n",
       "      <th>primary_title</th>\n",
       "      <th>production_budget</th>\n",
       "      <th>domestic_gross</th>\n",
       "      <th>worldwide_gross</th>\n",
       "      <th>release_year</th>\n",
       "      <th>investment_return</th>\n",
       "      <th>averagerating</th>\n",
       "      <th>numvotes</th>\n",
       "      <th>start_year</th>\n",
       "      <th>genres</th>\n",
       "    </tr>\n",
       "  </thead>\n",
       "  <tbody>\n",
       "    <tr>\n",
       "      <th>0</th>\n",
       "      <td>Avatar</td>\n",
       "      <td>425000000.0</td>\n",
       "      <td>760507625.0</td>\n",
       "      <td>2.776345e+09</td>\n",
       "      <td>2009.0</td>\n",
       "      <td>5.532577</td>\n",
       "      <td>6.1</td>\n",
       "      <td>43.0</td>\n",
       "      <td>2011.0</td>\n",
       "      <td>Horror</td>\n",
       "    </tr>\n",
       "    <tr>\n",
       "      <th>1</th>\n",
       "      <td>Pirates of the Caribbean: On Stranger Tides</td>\n",
       "      <td>410600000.0</td>\n",
       "      <td>241063875.0</td>\n",
       "      <td>1.045664e+09</td>\n",
       "      <td>2011.0</td>\n",
       "      <td>1.546673</td>\n",
       "      <td>6.6</td>\n",
       "      <td>447624.0</td>\n",
       "      <td>2011.0</td>\n",
       "      <td>Action,Adventure,Fantasy</td>\n",
       "    </tr>\n",
       "    <tr>\n",
       "      <th>2</th>\n",
       "      <td>Dark Phoenix</td>\n",
       "      <td>350000000.0</td>\n",
       "      <td>42762350.0</td>\n",
       "      <td>1.497624e+08</td>\n",
       "      <td>2019.0</td>\n",
       "      <td>-0.572108</td>\n",
       "      <td>6.0</td>\n",
       "      <td>24451.0</td>\n",
       "      <td>2019.0</td>\n",
       "      <td>Action,Adventure,Sci-Fi</td>\n",
       "    </tr>\n",
       "    <tr>\n",
       "      <th>3</th>\n",
       "      <td>Avengers: Age of Ultron</td>\n",
       "      <td>330600000.0</td>\n",
       "      <td>459005868.0</td>\n",
       "      <td>1.403014e+09</td>\n",
       "      <td>2015.0</td>\n",
       "      <td>3.243841</td>\n",
       "      <td>7.3</td>\n",
       "      <td>665594.0</td>\n",
       "      <td>2015.0</td>\n",
       "      <td>Action,Adventure,Sci-Fi</td>\n",
       "    </tr>\n",
       "    <tr>\n",
       "      <th>6</th>\n",
       "      <td>Avengers: Infinity War</td>\n",
       "      <td>300000000.0</td>\n",
       "      <td>678815482.0</td>\n",
       "      <td>2.048134e+09</td>\n",
       "      <td>2018.0</td>\n",
       "      <td>5.827114</td>\n",
       "      <td>8.5</td>\n",
       "      <td>670926.0</td>\n",
       "      <td>2018.0</td>\n",
       "      <td>Action,Adventure,Sci-Fi</td>\n",
       "    </tr>\n",
       "  </tbody>\n",
       "</table>\n",
       "</div>"
      ],
      "text/plain": [
       "                                 primary_title  production_budget  \\\n",
       "0                                       Avatar        425000000.0   \n",
       "1  Pirates of the Caribbean: On Stranger Tides        410600000.0   \n",
       "2                                 Dark Phoenix        350000000.0   \n",
       "3                      Avengers: Age of Ultron        330600000.0   \n",
       "6                       Avengers: Infinity War        300000000.0   \n",
       "\n",
       "   domestic_gross  worldwide_gross  release_year  investment_return  \\\n",
       "0     760507625.0     2.776345e+09        2009.0           5.532577   \n",
       "1     241063875.0     1.045664e+09        2011.0           1.546673   \n",
       "2      42762350.0     1.497624e+08        2019.0          -0.572108   \n",
       "3     459005868.0     1.403014e+09        2015.0           3.243841   \n",
       "6     678815482.0     2.048134e+09        2018.0           5.827114   \n",
       "\n",
       "   averagerating  numvotes  start_year                    genres  \n",
       "0            6.1      43.0      2011.0                    Horror  \n",
       "1            6.6  447624.0      2011.0  Action,Adventure,Fantasy  \n",
       "2            6.0   24451.0      2019.0   Action,Adventure,Sci-Fi  \n",
       "3            7.3  665594.0      2015.0   Action,Adventure,Sci-Fi  \n",
       "6            8.5  670926.0      2018.0   Action,Adventure,Sci-Fi  "
      ]
     },
     "execution_count": 543,
     "metadata": {},
     "output_type": "execute_result"
    }
   ],
   "source": [
    "#3392 rows\n",
    "movieswoutratings.head()"
   ]
  },
  {
   "cell_type": "markdown",
   "metadata": {},
   "source": [
    "# Making tables for each genre"
   ]
  },
  {
   "cell_type": "markdown",
   "metadata": {},
   "source": [
    ">Made a list with all the genres in it!"
   ]
  },
  {
   "cell_type": "code",
   "execution_count": 544,
   "metadata": {},
   "outputs": [],
   "source": [
    "listatest = []\n",
    "generos = \"Action, Adventure, Animation, Biography, Crime, Documentary, Drama, Family, Fantasy, History, Horror, Music, Musical, Mystery, Romance, Sci-fi, Sport, Thriller, War, Western\"\n",
    "listatest.append(generos.split(\", \"))\n",
    "listatest = listatest[0]"
   ]
  },
  {
   "cell_type": "code",
   "execution_count": 545,
   "metadata": {},
   "outputs": [
    {
     "data": {
      "text/plain": [
       "'Sci-fi'"
      ]
     },
     "execution_count": 545,
     "metadata": {},
     "output_type": "execute_result"
    }
   ],
   "source": [
    "listatest[15]"
   ]
  },
  {
   "cell_type": "markdown",
   "metadata": {},
   "source": [
    " >Created a table for each genre, so it's easier to see and manipulate"
   ]
  },
  {
   "cell_type": "code",
   "execution_count": 546,
   "metadata": {},
   "outputs": [],
   "source": [
    "def get_df_genre(genre):\n",
    "    '''\n",
    "    This function gets a dataset based on the Genre, with the average rating attached to it\n",
    "    '''\n",
    "    return titlegenrerating[titlegenrerating['genres'].str.contains(genre.title().strip())]"
   ]
  },
  {
   "cell_type": "code",
   "execution_count": 547,
   "metadata": {},
   "outputs": [],
   "source": [
    "genre_rating_df = []\n",
    "for genre in listatest:\n",
    "    genre_rating_df.append(get_df_genre(genre))\n",
    "    "
   ]
  },
  {
   "cell_type": "code",
   "execution_count": 406,
   "metadata": {},
   "outputs": [
    {
     "data": {
      "text/html": [
       "<div>\n",
       "<style scoped>\n",
       "    .dataframe tbody tr th:only-of-type {\n",
       "        vertical-align: middle;\n",
       "    }\n",
       "\n",
       "    .dataframe tbody tr th {\n",
       "        vertical-align: top;\n",
       "    }\n",
       "\n",
       "    .dataframe thead th {\n",
       "        text-align: right;\n",
       "    }\n",
       "</style>\n",
       "<table border=\"1\" class=\"dataframe\">\n",
       "  <thead>\n",
       "    <tr style=\"text-align: right;\">\n",
       "      <th></th>\n",
       "      <th>tconst</th>\n",
       "      <th>averagerating</th>\n",
       "      <th>numvotes</th>\n",
       "      <th>primary_title</th>\n",
       "      <th>start_year</th>\n",
       "      <th>genres</th>\n",
       "    </tr>\n",
       "  </thead>\n",
       "  <tbody>\n",
       "    <tr>\n",
       "      <th>857</th>\n",
       "      <td>tt1578709</td>\n",
       "      <td>4.3</td>\n",
       "      <td>323</td>\n",
       "      <td>Snowblind</td>\n",
       "      <td>2010.0</td>\n",
       "      <td>Western</td>\n",
       "    </tr>\n",
       "    <tr>\n",
       "      <th>1207</th>\n",
       "      <td>tt1364277</td>\n",
       "      <td>8.2</td>\n",
       "      <td>6</td>\n",
       "      <td>The Platinum Peacemaker</td>\n",
       "      <td>2010.0</td>\n",
       "      <td>Comedy,Western</td>\n",
       "    </tr>\n",
       "    <tr>\n",
       "      <th>1270</th>\n",
       "      <td>tt1548021</td>\n",
       "      <td>6.8</td>\n",
       "      <td>17</td>\n",
       "      <td>Swine</td>\n",
       "      <td>2012.0</td>\n",
       "      <td>Action,Sci-Fi,Western</td>\n",
       "    </tr>\n",
       "    <tr>\n",
       "      <th>1450</th>\n",
       "      <td>tt1773677</td>\n",
       "      <td>4.0</td>\n",
       "      <td>16</td>\n",
       "      <td>Sheriff of Contention</td>\n",
       "      <td>2010.0</td>\n",
       "      <td>Western</td>\n",
       "    </tr>\n",
       "    <tr>\n",
       "      <th>2296</th>\n",
       "      <td>tt1977953</td>\n",
       "      <td>6.2</td>\n",
       "      <td>266</td>\n",
       "      <td>The Man Who Shook the Hand of Vicente Fernandez</td>\n",
       "      <td>2012.0</td>\n",
       "      <td>Comedy,Drama,Western</td>\n",
       "    </tr>\n",
       "    <tr>\n",
       "      <th>...</th>\n",
       "      <td>...</td>\n",
       "      <td>...</td>\n",
       "      <td>...</td>\n",
       "      <td>...</td>\n",
       "      <td>...</td>\n",
       "      <td>...</td>\n",
       "    </tr>\n",
       "    <tr>\n",
       "      <th>72617</th>\n",
       "      <td>tt1929278</td>\n",
       "      <td>5.7</td>\n",
       "      <td>125</td>\n",
       "      <td>Welcome to Shamatown</td>\n",
       "      <td>2010.0</td>\n",
       "      <td>Adventure,Comedy,Western</td>\n",
       "    </tr>\n",
       "    <tr>\n",
       "      <th>72679</th>\n",
       "      <td>tt2049382</td>\n",
       "      <td>7.8</td>\n",
       "      <td>5</td>\n",
       "      <td>A Fistful of Diamonds</td>\n",
       "      <td>2011.0</td>\n",
       "      <td>Action,Adventure,Western</td>\n",
       "    </tr>\n",
       "    <tr>\n",
       "      <th>72776</th>\n",
       "      <td>tt2150534</td>\n",
       "      <td>4.7</td>\n",
       "      <td>40</td>\n",
       "      <td>Trash and Progress</td>\n",
       "      <td>2012.0</td>\n",
       "      <td>Drama,Sci-Fi,Western</td>\n",
       "    </tr>\n",
       "    <tr>\n",
       "      <th>73486</th>\n",
       "      <td>tt3715392</td>\n",
       "      <td>6.9</td>\n",
       "      <td>21</td>\n",
       "      <td>Ditches</td>\n",
       "      <td>2015.0</td>\n",
       "      <td>Crime,Thriller,Western</td>\n",
       "    </tr>\n",
       "    <tr>\n",
       "      <th>73692</th>\n",
       "      <td>tt7941194</td>\n",
       "      <td>8.8</td>\n",
       "      <td>16</td>\n",
       "      <td>Bill Tilghman and the Outlaws</td>\n",
       "      <td>2019.0</td>\n",
       "      <td>Western</td>\n",
       "    </tr>\n",
       "  </tbody>\n",
       "</table>\n",
       "<p>280 rows × 6 columns</p>\n",
       "</div>"
      ],
      "text/plain": [
       "          tconst  averagerating  numvotes  \\\n",
       "857    tt1578709            4.3       323   \n",
       "1207   tt1364277            8.2         6   \n",
       "1270   tt1548021            6.8        17   \n",
       "1450   tt1773677            4.0        16   \n",
       "2296   tt1977953            6.2       266   \n",
       "...          ...            ...       ...   \n",
       "72617  tt1929278            5.7       125   \n",
       "72679  tt2049382            7.8         5   \n",
       "72776  tt2150534            4.7        40   \n",
       "73486  tt3715392            6.9        21   \n",
       "73692  tt7941194            8.8        16   \n",
       "\n",
       "                                         primary_title  start_year  \\\n",
       "857                                          Snowblind      2010.0   \n",
       "1207                           The Platinum Peacemaker      2010.0   \n",
       "1270                                             Swine      2012.0   \n",
       "1450                             Sheriff of Contention      2010.0   \n",
       "2296   The Man Who Shook the Hand of Vicente Fernandez      2012.0   \n",
       "...                                                ...         ...   \n",
       "72617                             Welcome to Shamatown      2010.0   \n",
       "72679                            A Fistful of Diamonds      2011.0   \n",
       "72776                               Trash and Progress      2012.0   \n",
       "73486                                          Ditches      2015.0   \n",
       "73692                    Bill Tilghman and the Outlaws      2019.0   \n",
       "\n",
       "                         genres  \n",
       "857                     Western  \n",
       "1207             Comedy,Western  \n",
       "1270      Action,Sci-Fi,Western  \n",
       "1450                    Western  \n",
       "2296       Comedy,Drama,Western  \n",
       "...                         ...  \n",
       "72617  Adventure,Comedy,Western  \n",
       "72679  Action,Adventure,Western  \n",
       "72776      Drama,Sci-Fi,Western  \n",
       "73486    Crime,Thriller,Western  \n",
       "73692                   Western  \n",
       "\n",
       "[280 rows x 6 columns]"
      ]
     },
     "execution_count": 406,
     "metadata": {},
     "output_type": "execute_result"
    }
   ],
   "source": [
    "genre_rating_df[-1].head(1)"
   ]
  },
  {
   "cell_type": "markdown",
   "metadata": {},
   "source": [
    ">And here we create for each genre with important info attached, but for that we had to lose some rows."
   ]
  },
  {
   "cell_type": "code",
   "execution_count": 257,
   "metadata": {},
   "outputs": [],
   "source": [
    "def get_df_genre(genre):\n",
    "    '''\n",
    "    This function gets a dataset based on the Genre, with information\n",
    "    like production buddget and worldwide gross attached to it.\n",
    "    '''\n",
    "    return moviesfullinfo[moviesfullinfo['genres'].str.contains(genre.title().strip())]"
   ]
  },
  {
   "cell_type": "code",
   "execution_count": 258,
   "metadata": {},
   "outputs": [],
   "source": [
    "all_genre_df = []\n",
    "for genre in listatest:\n",
    "    all_genre_df.append(get_df_genre(genre))\n",
    "    "
   ]
  },
  {
   "cell_type": "code",
   "execution_count": 375,
   "metadata": {
    "scrolled": true
   },
   "outputs": [
    {
     "data": {
      "text/html": [
       "<div>\n",
       "<style scoped>\n",
       "    .dataframe tbody tr th:only-of-type {\n",
       "        vertical-align: middle;\n",
       "    }\n",
       "\n",
       "    .dataframe tbody tr th {\n",
       "        vertical-align: top;\n",
       "    }\n",
       "\n",
       "    .dataframe thead th {\n",
       "        text-align: right;\n",
       "    }\n",
       "</style>\n",
       "<table border=\"1\" class=\"dataframe\">\n",
       "  <thead>\n",
       "    <tr style=\"text-align: right;\">\n",
       "      <th></th>\n",
       "      <th>primary_title</th>\n",
       "      <th>production_budget</th>\n",
       "      <th>domestic_gross</th>\n",
       "      <th>worldwide_gross</th>\n",
       "      <th>investment_return</th>\n",
       "      <th>averagerating</th>\n",
       "      <th>numvotes</th>\n",
       "      <th>start_year</th>\n",
       "      <th>genres</th>\n",
       "    </tr>\n",
       "  </thead>\n",
       "  <tbody>\n",
       "    <tr>\n",
       "      <th>12</th>\n",
       "      <td>The Lone Ranger</td>\n",
       "      <td>275000000.0</td>\n",
       "      <td>89302115.0</td>\n",
       "      <td>260002115.0</td>\n",
       "      <td>-0.054538</td>\n",
       "      <td>6.4</td>\n",
       "      <td>208827.0</td>\n",
       "      <td>2013.0</td>\n",
       "      <td>Action,Adventure,Western</td>\n",
       "    </tr>\n",
       "    <tr>\n",
       "      <th>368</th>\n",
       "      <td>Django Unchained</td>\n",
       "      <td>100000000.0</td>\n",
       "      <td>162805434.0</td>\n",
       "      <td>449948323.0</td>\n",
       "      <td>3.499483</td>\n",
       "      <td>8.4</td>\n",
       "      <td>1211405.0</td>\n",
       "      <td>2012.0</td>\n",
       "      <td>Drama,Western</td>\n",
       "    </tr>\n",
       "  </tbody>\n",
       "</table>\n",
       "</div>"
      ],
      "text/plain": [
       "        primary_title  production_budget  domestic_gross  worldwide_gross  \\\n",
       "12    The Lone Ranger        275000000.0      89302115.0      260002115.0   \n",
       "368  Django Unchained        100000000.0     162805434.0      449948323.0   \n",
       "\n",
       "     investment_return  averagerating   numvotes  start_year  \\\n",
       "12           -0.054538            6.4   208827.0      2013.0   \n",
       "368           3.499483            8.4  1211405.0      2012.0   \n",
       "\n",
       "                       genres  \n",
       "12   Action,Adventure,Western  \n",
       "368             Drama,Western  "
      ]
     },
     "execution_count": 375,
     "metadata": {},
     "output_type": "execute_result"
    }
   ],
   "source": [
    "all_genre_df[-1].head(2)"
   ]
  },
  {
   "cell_type": "markdown",
   "metadata": {},
   "source": [
    ">And now we want the average rating based on the genre! Is there one that is more likely to be acclaimed by critics?"
   ]
  },
  {
   "cell_type": "markdown",
   "metadata": {},
   "source": [
    "**Getting the average RATING per Genre**"
   ]
  },
  {
   "cell_type": "code",
   "execution_count": 381,
   "metadata": {},
   "outputs": [],
   "source": [
    "def avg_rating_genre(dataframe):\n",
    "    '''\n",
    "    This function gets the avarage(mean) rating based on the Genre\n",
    "    '''\n",
    "    return(dataframe['averagerating'].mean())\n"
   ]
  },
  {
   "cell_type": "code",
   "execution_count": 423,
   "metadata": {
    "scrolled": false
   },
   "outputs": [],
   "source": [
    "avg_rating_per_genre = []\n",
    "for rating in genre_rating_df:\n",
    "    avg_rating_per_genre.append(avg_rating_genre(rating))"
   ]
  },
  {
   "cell_type": "code",
   "execution_count": 433,
   "metadata": {
    "scrolled": false
   },
   "outputs": [
    {
     "data": {
      "text/plain": [
       "6.1962012051349085"
      ]
     },
     "execution_count": 433,
     "metadata": {},
     "output_type": "execute_result"
    }
   ],
   "source": [
    "avg_rating_per_genre[1]\n"
   ]
  },
  {
   "cell_type": "markdown",
   "metadata": {},
   "source": [
    "**Getting the average RETURN ON INVESTMENT per Genre**"
   ]
  },
  {
   "cell_type": "code",
   "execution_count": 264,
   "metadata": {},
   "outputs": [],
   "source": [
    "def avg_roi_genre(dataframe):\n",
    "    '''\n",
    "    This function gets the ROI based on the Genre\n",
    "    '''\n",
    "    worldgross = sum(dataframe['worldwide_gross'])\n",
    "    prodbudget = sum(dataframe['production_budget'])\n",
    "    print(prodbudget)\n",
    "    return (worldgross/prodbudget-1)*100\n"
   ]
  },
  {
   "cell_type": "code",
   "execution_count": 272,
   "metadata": {
    "scrolled": true
   },
   "outputs": [],
   "source": [
    "avg_roi_per_genre = []\n",
    "for genre_df in all_genre_df:\n",
    "    avg_roi_per_genre.append(avg_roi_genre(genre_df))"
   ]
  },
  {
   "cell_type": "code",
   "execution_count": 390,
   "metadata": {},
   "outputs": [
    {
     "data": {
      "text/plain": [
       "230.17935080599776"
      ]
     },
     "execution_count": 390,
     "metadata": {},
     "output_type": "execute_result"
    }
   ],
   "source": [
    "avg_roi_per_genre[1]"
   ]
  },
  {
   "cell_type": "markdown",
   "metadata": {},
   "source": [
    "# Visualization\n",
    "## Rating per genre\n",
    "- How likely is to have a better rating with the critics if your movie is a certain genre?\n",
    "    - Is there a best combination of Genre and Investment to get the best rating?\n"
   ]
  },
  {
   "cell_type": "markdown",
   "metadata": {},
   "source": [
    "> **To answer that we use \"genre_rating_df\" table that we prepared for this topic!**"
   ]
  },
  {
   "cell_type": "code",
   "execution_count": 448,
   "metadata": {},
   "outputs": [],
   "source": [
    "df1 = pd.DataFrame({\"Avg. Rating\":avg_rating_per_genre, \"Genres\":listatest})"
   ]
  },
  {
   "cell_type": "code",
   "execution_count": 475,
   "metadata": {
    "scrolled": false
   },
   "outputs": [
    {
     "data": {
      "image/png": "[encoded data removed]",
      "text/plain": [
       "<Figure size 576x576 with 1 Axes>"
      ]
     },
     "metadata": {},
     "output_type": "display_data"
    }
   ],
   "source": [
    "plt.figure(figsize=(8,8))\n",
    "sns.barplot(x=\"Avg. Rating\", y = \"Genres\", data=df1, errcolor='.95', order=df1.sort_values(\"Avg. Rating\").Genres)\n",
    "plt.xlabel(\"Avg. Rating\", size=15)\n",
    "plt.ylabel(\"Genres\", size=15)\n",
    "plt.title(\"Avg. Rating per Genre\", size=18)\n",
    "plt.tight_layout()\n",
    "plt.savefig(\"barplot_Seaborn_Python.png\", dpi=100)\n"
   ]
  },
  {
   "cell_type": "markdown",
   "metadata": {},
   "source": [
    "**Is there a best combination of Genre and Investment to get the best rating?**"
   ]
  },
  {
   "cell_type": "markdown",
   "metadata": {},
   "source": [
    "To answer that we are going to take the top 5 of Avg. Rating and pay attention to it's ROI on each genre!"
   ]
  },
  {
   "cell_type": "markdown",
   "metadata": {},
   "source": [
    "> But for that we are going to divide the dataframe in 2, otherwise would be bad to visualize!"
   ]
  },
  {
   "cell_type": "code",
   "execution_count": null,
   "metadata": {},
   "outputs": [],
   "source": []
  },
  {
   "cell_type": "markdown",
   "metadata": {},
   "source": [
    "## Money per genre\n",
    "- What is the best genre solely focused on how much money you can make?\n",
    "- What genre is the \"safest choice\"? Less likely to lose money?\n",
    "- What genre takes the least money to produce? And the most?\n"
   ]
  },
  {
   "cell_type": "markdown",
   "metadata": {},
   "source": [
    "### - What is the best genre solely focused on how much money you can make?"
   ]
  },
  {
   "cell_type": "code",
   "execution_count": 347,
   "metadata": {},
   "outputs": [],
   "source": [
    "df = pd.DataFrame({\"ROI\":avg_roi_per_genre, \"Genres\":listatest})"
   ]
  },
  {
   "cell_type": "code",
   "execution_count": 476,
   "metadata": {
    "scrolled": false
   },
   "outputs": [
    {
     "data": {
      "image/png": "[encoded data removed]",
      "text/plain": [
       "<Figure size 864x576 with 1 Axes>"
      ]
     },
     "metadata": {},
     "output_type": "display_data"
    }
   ],
   "source": [
    "plt.figure(figsize=(12,8))\n",
    "sns.barplot(x=\"ROI\", y = \"Genres\", data=df, order=df.sort_values('ROI').Genres)\n",
    "plt.xlabel(\"Avg. ROI\", size=15)\n",
    "plt.ylabel(\"Genres\", size=15)\n",
    "plt.title(\"Avg. ROI per Genre\", size=18)\n",
    "plt.tight_layout()\n",
    "plt.savefig(\"barplot_Seaborn_Python.png\", dpi=100)"
   ]
  },
  {
   "cell_type": "markdown",
   "metadata": {},
   "source": [
    "The answer? Animation followed by Horror"
   ]
  },
  {
   "cell_type": "markdown",
   "metadata": {},
   "source": [
    "### - What genre is the safest choice?"
   ]
  },
  {
   "cell_type": "markdown",
   "metadata": {},
   "source": [
    "So we are going to create a new column that gives you a percentage of how likely you are to make or to lose money using the number of positive ROI's and the number of negative ROI's."
   ]
  },
  {
   "cell_type": "code",
   "execution_count": null,
   "metadata": {},
   "outputs": [],
   "source": []
  },
  {
   "cell_type": "markdown",
   "metadata": {},
   "source": [
    "### - What genre takes the least and the most money to produce?\n"
   ]
  },
  {
   "cell_type": "markdown",
   "metadata": {},
   "source": [
    "The idea is: If a big company, consolidated in the market already is starting to make movies, it might want to chose your strategy solely in the production costs. Because they might see it as a \"Trial\" or as a \"Test\" or it could go all-in knowing they have huge chances of making a good set of choices based on our team data together with the company name."
   ]
  },
  {
   "cell_type": "code",
   "execution_count": null,
   "metadata": {},
   "outputs": [],
   "source": []
  },
  {
   "cell_type": "code",
   "execution_count": null,
   "metadata": {},
   "outputs": [],
   "source": []
  },
  {
   "cell_type": "markdown",
   "metadata": {},
   "source": [
    "## Minutes per genre\n",
    "- Are there genres that tend to last longer?\n",
    "- Lasting longer gives the movies more chance to profit more? How about ratings?"
   ]
  },
  {
   "cell_type": "code",
   "execution_count": null,
   "metadata": {},
   "outputs": [],
   "source": []
  },
  {
   "cell_type": "markdown",
   "metadata": {},
   "source": [
    "### - Are there genres that tend to last longer?"
   ]
  },
  {
   "cell_type": "code",
   "execution_count": null,
   "metadata": {},
   "outputs": [],
   "source": []
  },
  {
   "cell_type": "markdown",
   "metadata": {},
   "source": [
    "### - Lasting longer gives the movies more chance to profit more? How about ratings?"
   ]
  },
  {
   "cell_type": "code",
   "execution_count": null,
   "metadata": {},
   "outputs": [],
   "source": []
  },
  {
   "cell_type": "code",
   "execution_count": null,
   "metadata": {},
   "outputs": [],
   "source": []
  },
  {
   "cell_type": "code",
   "execution_count": null,
   "metadata": {},
   "outputs": [],
   "source": []
  },
  {
   "cell_type": "code",
   "execution_count": null,
   "metadata": {},
   "outputs": [],
   "source": []
  },
  {
   "cell_type": "code",
   "execution_count": null,
   "metadata": {},
   "outputs": [],
   "source": []
  },
  {
   "cell_type": "code",
   "execution_count": null,
   "metadata": {},
   "outputs": [],
   "source": []
  },
  {
   "cell_type": "code",
   "execution_count": null,
   "metadata": {},
   "outputs": [],
   "source": []
  },
  {
   "cell_type": "code",
   "execution_count": null,
   "metadata": {},
   "outputs": [],
   "source": [
    "# sns.set_theme(style=\"ticks\")\n",
    "\n",
    "# # Initialize the figure with a logarithmic x axis\n",
    "# f, ax = plt.subplots(figsize=(7, 10))\n",
    "# ax.set_xscale(\"log\")\n",
    "\n",
    "# # Load the example planets dataset\n",
    "# genre = sns.load_dataset(\"planets\")\n",
    "\n",
    "# # Plot the orbital period with horizontal boxes\n",
    "# sns.boxplot(data=crime,\n",
    "#             whis=[0, 100], width=.6)\n",
    "\n",
    "# # Add in points to show each observation\n",
    "# sns.stripplot(data=western,\n",
    "#               size=4, color=\".3\", linewidth=0)\n",
    "\n",
    "# # Tweak the visual presentation\n",
    "# ax.xaxis.grid(True)\n",
    "# ax.set(ylabel=\"\")\n",
    "# sns.despine(trim=True, left=True)"
   ]
  },
  {
   "cell_type": "code",
   "execution_count": null,
   "metadata": {},
   "outputs": [],
   "source": [
    "# action = moviesfullinfo[moviesfullinfo['genres'].str.contains(\"Action\")]\n",
    "# adventure = moviesfullinfo[moviesfullinfo['genres'].str.contains(\"Adventure\")]\n",
    "# animation = moviesfullinfo[moviesfullinfo['genres'].str.contains(\"Animation\")]\n",
    "# biography = moviesfullinfo[moviesfullinfo['genres'].str.contains(\"Biography\")]\n",
    "# crime = moviesfullinfo[moviesfullinfo['genres'].str.contains(\"Crime\")]\n",
    "# documentary = moviesfullinfo[moviesfullinfo['genres'].str.contains(\"Documentary\")]\n",
    "# drama = moviesfullinfo[moviesfullinfo['genres'].str.contains(\"Drama\")]\n",
    "# family = moviesfullinfo[moviesfullinfo['genres'].str.contains(\"Family\")]\n",
    "# fantasy = moviesfullinfo[moviesfullinfo['genres'].str.contains(\"Fantasy\")]\n",
    "# history = moviesfullinfo[moviesfullinfo['genres'].str.contains(\"History\")]\n",
    "# horror = moviesfullinfo[moviesfullinfo['genres'].str.contains(\"Horror\")]\n",
    "# music = moviesfullinfo[moviesfullinfo['genres'].str.contains(\"Music\")]\n",
    "# musical = moviesfullinfo[moviesfullinfo['genres'].str.contains(\"Musical\")]\n",
    "# mystery = moviesfullinfo[moviesfullinfo['genres'].str.contains(\"Mystery\")]\n",
    "# romance = moviesfullinfo[moviesfullinfo['genres'].str.contains(\"Romance\")]\n",
    "# scifi = moviesfullinfo[moviesfullinfo['genres'].str.contains(\"Sci-Fi\")]\n",
    "# sport = moviesfullinfo[moviesfullinfo['genres'].str.contains(\"Sport\")]\n",
    "# thriller = moviesfullinfo[moviesfullinfo['genres'].str.contains(\"Thriller\")]\n",
    "# war = moviesfullinfo[moviesfullinfo['genres'].str.contains(\"War\")]\n",
    "# western = moviesfullinfo[moviesfullinfo['genres'].str.contains(\"Western\")]\n"
   ]
  },
  {
   "cell_type": "markdown",
   "metadata": {},
   "source": [
    "```python\n",
    "\n",
    "\n",
    "intakes['event_num'] = intakes.sort_values(['intake_date']).groupby(['animal_id']).rank()\n",
    "outcomes['event_num'] = outcomes.sort_values(['outcome_date']).groupby(['animal_id']).rank()\n",
    "```"
   ]
  },
  {
   "cell_type": "markdown",
   "metadata": {},
   "source": [
    "bus unde\n",
    "data analysis\n",
    "conclussion\n",
    "data under\n",
    "data prep\n",
    "modeli\n",
    "evaluation\n",
    "deploy"
   ]
  },
  {
   "cell_type": "markdown",
   "metadata": {},
   "source": [
    "2009 from 2019, treat 2020 as a special year"
   ]
  },
  {
   "cell_type": "code",
   "execution_count": null,
   "metadata": {},
   "outputs": [],
   "source": []
  }
 ],
 "metadata": {
  "kernelspec": {
   "display_name": "Python 3",
   "language": "python",
   "name": "python3"
  },
  "language_info": {
   "codemirror_mode": {
    "name": "ipython",
    "version": 3
   },
   "file_extension": ".py",
   "mimetype": "text/x-python",
   "name": "python",
   "nbconvert_exporter": "python",
   "pygments_lexer": "ipython3",
   "version": "3.8.5"
  }
 },
 "nbformat": 4,
 "nbformat_minor": 4
}
