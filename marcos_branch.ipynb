{
 "cells": [
  {
   "cell_type": "code",
   "execution_count": 1,
   "metadata": {},
   "outputs": [],
   "source": [
    "import pandas as pd\n",
    "import matplotlib.pyplot as plt\n",
    "import seaborn as sns\n",
    "import numpy as np\n",
    "%matplotlib inline"
   ]
  },
  {
   "cell_type": "code",
   "execution_count": 23,
   "metadata": {},
   "outputs": [],
   "source": [
    "movies_gross = pd.read_csv(\"zippedData/bom.movie_gross.csv\")\n",
    "basics_names = pd.read_csv(\"zippedData/name.basics.csv\")\n",
    "akas = pd.read_csv(\"zippedData/title.akas.csv\")\n",
    "basics_titles = pd.read_csv(\"zippedData/title.basics.csv\")\n",
    "crew = pd.read_csv(\"zippedData/title.crew.csv\")\n",
    "principals = pd.read_csv(\"zippedData/title.principals.csv\")\n",
    "ratings = pd.read_csv(\"zippedData/title.ratings.csv\")\n",
    "movies = pd.read_csv(\"zippedData/tmdb.movies.csv\")\n",
    "movie_budgets = pd.read_csv(\"zippedData/tn.movie_budgets.csv\")"
   ]
  }
 ],
 "metadata": {
  "kernelspec": {
   "display_name": "Python 3",
   "language": "python",
   "name": "python3"
  },
  "language_info": {
   "codemirror_mode": {
    "name": "ipython",
    "version": 3
   },
   "file_extension": ".py",
   "mimetype": "text/x-python",
   "name": "python",
   "nbconvert_exporter": "python",
   "pygments_lexer": "ipython3",
   "version": "3.8.5"
  }
 },
 "nbformat": 4,
 "nbformat_minor": 4
}
