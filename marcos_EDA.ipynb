{
 "cells": [
  {
   "cell_type": "markdown",
   "metadata": {},
   "source": [
    "# **What genres do the best in theatres?**\n",
    "- Motivation:\n",
    "    - Creating movies in popular genres will attract more initial viewers. It’s what the people are interested in watching.\n"
   ]
  },
  {
   "cell_type": "markdown",
   "metadata": {},
   "source": [
    "**Smaller questions:**\n",
    "- Which Ratings corrolate to those movies that generate the most money?\n",
    "- Which genre is the least lucrative? And the most?\n",
    "    - Which movie had the best investment return ratio? And which Genres normally do well?\n",
    "    - Which movies generated the most money in their country of origin?"
   ]
  },
  {
   "cell_type": "markdown",
   "metadata": {},
   "source": [
    "bus unde\n",
    "data analysis\n",
    "conclussion\n",
    "data under\n",
    "data prep\n",
    "modeli\n",
    "evaluation\n",
    "deploy"
   ]
  },
  {
   "cell_type": "code",
   "execution_count": 4,
   "metadata": {},
   "outputs": [],
   "source": [
    "import pandas as pd\n",
    "import matplotlib.pyplot as plt\n",
    "import seaborn as sns\n",
    "import numpy as np\n",
    "%matplotlib inline"
   ]
  },
  {
   "cell_type": "markdown",
   "metadata": {},
   "source": [
    "Assign all the CSV files to something and add comments to it"
   ]
  },
  {
   "cell_type": "code",
   "execution_count": 5,
   "metadata": {},
   "outputs": [],
   "source": [
    "#Titles, Studio, Domestic Gross, Foreign Gross and Year\n",
    "#3387 rows\n",
    "movies_gross = pd.read_csv(\"zippedData/bom.movie_gross.csv\")\n",
    "\n",
    "#Nconst, Primary Name, Primary Profession, Known for titles(title_id)\n",
    "#606648 rows\n",
    "basics_names = pd.read_csv(\"zippedData/name.basics.csv\")\n",
    "\n",
    "#Title ID's, Ordering, Title, Region, Language, Types, Attributes, Original Title\n",
    "#331703 rows\n",
    "akas = pd.read_csv(\"zippedData/title.akas.csv\")\n",
    "\n",
    "#Tconst, Primary Title, Original Title, Start Year, Runtime Minutes, Genres\n",
    "#146144 rows\n",
    "basics_titles = pd.read_csv(\"zippedData/title.basics.csv\")\n",
    "\n",
    "#Tconst, Directors, Writers\n",
    "#146144 rows\n",
    "crew = pd.read_csv(\"zippedData/title.crew.csv\")\n",
    "\n",
    "#Tconst, Ordering, Nconst, Category, Job, Characters\n",
    "#1028186 rows\n",
    "principals = pd.read_csv(\"zippedData/title.principals.csv\")\n",
    "\n",
    "#Tconst, Average Rating, Number of Votes\n",
    "#73856 rows\n",
    "ratings = pd.read_csv(\"zippedData/title.ratings.csv\")\n",
    "\n",
    "#Genre Id, Id, Original Language, Original Language, Original Title, Popularity, Release Date, Title, Vote Average, Vote count \n",
    "#26517 rows\n",
    "movies = pd.read_csv(\"zippedData/tmdb.movies.csv\")\n",
    "\n",
    "#Id, Release Date, Movie Name, Production Budget, Domestic Gross, Worldwide Gross\n",
    "#5782 rows\n",
    "movies_budgets = pd.read_csv(\"zippedData/tn.movie_budgets.csv\")\n",
    "\n",
    "# tconst = Movie\n",
    "# nconst = Person"
   ]
  },
  {
   "cell_type": "markdown",
   "metadata": {},
   "source": [
    "Assign all the TSV files to something and add comments to it"
   ]
  },
  {
   "cell_type": "code",
   "execution_count": 6,
   "metadata": {},
   "outputs": [],
   "source": [
    "#Id, Synopsis, Rating, Genre, Director, Writer, Theater Date, Dvd Date, Currency, Box Office, Runtime, Studio\n",
    "#1560 rows \n",
    "movie_info = pd.read_csv(\"zippedData/rt.movie_info.tsv\", sep='\\t')\n",
    "\n",
    "#Id, Reviews, Rating, Fresh, Critic, Top Critic, Publisher, Date\n",
    "#54432 rows\n",
    "reviews = pd.read_csv(\"zippedData/rt.reviews.tsv\", sep='\\t', encoding = 'unicode_escape')\n"
   ]
  },
  {
   "cell_type": "markdown",
   "metadata": {},
   "source": [
    "2009 from 2019, treat 2020 as a special year\n"
   ]
  },
  {
   "cell_type": "markdown",
   "metadata": {},
   "source": [
    "# Working with the basics_titles dataframe"
   ]
  },
  {
   "cell_type": "markdown",
   "metadata": {},
   "source": [
    "Creating a table that contains Titles, Genres, Start Year and Tconst (cleaning some columns)"
   ]
  },
  {
   "cell_type": "code",
   "execution_count": 7,
   "metadata": {},
   "outputs": [],
   "source": [
    "# Cleaning basics_titles to only those released after 2008\n",
    "# Cleaning again to only those released before 2020\n",
    "# Cleaning NAN values\n",
    "# Using split to create a new column with separeted Genres\n",
    "# Droping the unused Genres columns\n",
    "\n",
    "a = basics_titles[basics_titles['start_year'] > 2008]\n",
    "b = a[a['start_year'] <= 2019]\n",
    "title_genre = b.drop(['original_title', 'runtime_minutes'], axis=1)\n",
    "title_genre.dropna(inplace=True)"
   ]
  },
  {
   "cell_type": "code",
   "execution_count": 8,
   "metadata": {
    "scrolled": false
   },
   "outputs": [
    {
     "data": {
      "text/html": [
       "<div>\n",
       "<style scoped>\n",
       "    .dataframe tbody tr th:only-of-type {\n",
       "        vertical-align: middle;\n",
       "    }\n",
       "\n",
       "    .dataframe tbody tr th {\n",
       "        vertical-align: top;\n",
       "    }\n",
       "\n",
       "    .dataframe thead th {\n",
       "        text-align: right;\n",
       "    }\n",
       "</style>\n",
       "<table border=\"1\" class=\"dataframe\">\n",
       "  <thead>\n",
       "    <tr style=\"text-align: right;\">\n",
       "      <th></th>\n",
       "      <th>tconst</th>\n",
       "      <th>primary_title</th>\n",
       "      <th>start_year</th>\n",
       "      <th>genres</th>\n",
       "    </tr>\n",
       "  </thead>\n",
       "  <tbody>\n",
       "    <tr>\n",
       "      <th>0</th>\n",
       "      <td>tt0063540</td>\n",
       "      <td>Sunghursh</td>\n",
       "      <td>2013</td>\n",
       "      <td>Action,Crime,Drama</td>\n",
       "    </tr>\n",
       "    <tr>\n",
       "      <th>1</th>\n",
       "      <td>tt0066787</td>\n",
       "      <td>One Day Before the Rainy Season</td>\n",
       "      <td>2019</td>\n",
       "      <td>Biography,Drama</td>\n",
       "    </tr>\n",
       "    <tr>\n",
       "      <th>2</th>\n",
       "      <td>tt0069049</td>\n",
       "      <td>The Other Side of the Wind</td>\n",
       "      <td>2018</td>\n",
       "      <td>Drama</td>\n",
       "    </tr>\n",
       "    <tr>\n",
       "      <th>3</th>\n",
       "      <td>tt0069204</td>\n",
       "      <td>Sabse Bada Sukh</td>\n",
       "      <td>2018</td>\n",
       "      <td>Comedy,Drama</td>\n",
       "    </tr>\n",
       "    <tr>\n",
       "      <th>4</th>\n",
       "      <td>tt0100275</td>\n",
       "      <td>The Wandering Soap Opera</td>\n",
       "      <td>2017</td>\n",
       "      <td>Comedy,Drama,Fantasy</td>\n",
       "    </tr>\n",
       "  </tbody>\n",
       "</table>\n",
       "</div>"
      ],
      "text/plain": [
       "      tconst                    primary_title  start_year  \\\n",
       "0  tt0063540                        Sunghursh        2013   \n",
       "1  tt0066787  One Day Before the Rainy Season        2019   \n",
       "2  tt0069049       The Other Side of the Wind        2018   \n",
       "3  tt0069204                  Sabse Bada Sukh        2018   \n",
       "4  tt0100275         The Wandering Soap Opera        2017   \n",
       "\n",
       "                 genres  \n",
       "0    Action,Crime,Drama  \n",
       "1       Biography,Drama  \n",
       "2                 Drama  \n",
       "3          Comedy,Drama  \n",
       "4  Comedy,Drama,Fantasy  "
      ]
     },
     "execution_count": 8,
     "metadata": {},
     "output_type": "execute_result"
    }
   ],
   "source": [
    "#title_genre.sort_values(['start_year'], ascending=False)\n",
    "title_genre.head()"
   ]
  },
  {
   "cell_type": "markdown",
   "metadata": {},
   "source": [
    "Creating a new table with the rating, tconst, primary_title and genre"
   ]
  },
  {
   "cell_type": "code",
   "execution_count": 9,
   "metadata": {
    "scrolled": true
   },
   "outputs": [],
   "source": [
    "# Joining tables to create a new one with more info\n",
    "# Dropping NAN values\n",
    "titlegenrerating = ratings.join(title_genre.set_index('tconst'), on='tconst')\n",
    "titlegenrerating.dropna(inplace=True)"
   ]
  },
  {
   "cell_type": "code",
   "execution_count": 10,
   "metadata": {},
   "outputs": [
    {
     "data": {
      "text/html": [
       "<div>\n",
       "<style scoped>\n",
       "    .dataframe tbody tr th:only-of-type {\n",
       "        vertical-align: middle;\n",
       "    }\n",
       "\n",
       "    .dataframe tbody tr th {\n",
       "        vertical-align: top;\n",
       "    }\n",
       "\n",
       "    .dataframe thead th {\n",
       "        text-align: right;\n",
       "    }\n",
       "</style>\n",
       "<table border=\"1\" class=\"dataframe\">\n",
       "  <thead>\n",
       "    <tr style=\"text-align: right;\">\n",
       "      <th></th>\n",
       "      <th>tconst</th>\n",
       "      <th>averagerating</th>\n",
       "      <th>numvotes</th>\n",
       "      <th>primary_title</th>\n",
       "      <th>start_year</th>\n",
       "      <th>genres</th>\n",
       "    </tr>\n",
       "  </thead>\n",
       "  <tbody>\n",
       "    <tr>\n",
       "      <th>0</th>\n",
       "      <td>tt10356526</td>\n",
       "      <td>8.3</td>\n",
       "      <td>31</td>\n",
       "      <td>Laiye Je Yaarian</td>\n",
       "      <td>2019.0</td>\n",
       "      <td>Romance</td>\n",
       "    </tr>\n",
       "    <tr>\n",
       "      <th>1</th>\n",
       "      <td>tt10384606</td>\n",
       "      <td>8.9</td>\n",
       "      <td>559</td>\n",
       "      <td>Borderless</td>\n",
       "      <td>2019.0</td>\n",
       "      <td>Documentary</td>\n",
       "    </tr>\n",
       "  </tbody>\n",
       "</table>\n",
       "</div>"
      ],
      "text/plain": [
       "       tconst  averagerating  numvotes     primary_title  start_year  \\\n",
       "0  tt10356526            8.3        31  Laiye Je Yaarian      2019.0   \n",
       "1  tt10384606            8.9       559        Borderless      2019.0   \n",
       "\n",
       "        genres  \n",
       "0      Romance  \n",
       "1  Documentary  "
      ]
     },
     "execution_count": 10,
     "metadata": {},
     "output_type": "execute_result"
    }
   ],
   "source": [
    "titlegenrerating.head(2)"
   ]
  },
  {
   "cell_type": "markdown",
   "metadata": {},
   "source": [
    "# Working with the movies_budgets dataframe"
   ]
  },
  {
   "cell_type": "markdown",
   "metadata": {},
   "source": [
    "The goal here is to create a table with Movies Name, Budget, Domestic Gross and Worldwide Gross(Cleaning the column ID)"
   ]
  },
  {
   "cell_type": "code",
   "execution_count": 11,
   "metadata": {},
   "outputs": [],
   "source": [
    "# Cleaning NAN values\n",
    "# Renaming Column to match the other table, to make left-join possible\n",
    "\n",
    "movies_money = movies_budgets.drop(['id', 'release_date'], axis=1)\n",
    "movies_money.dropna(inplace=True)\n",
    "movies_money.rename(columns={\"movie\": \"primary_title\"}, inplace=True)"
   ]
  },
  {
   "cell_type": "code",
   "execution_count": 12,
   "metadata": {
    "scrolled": false
   },
   "outputs": [
    {
     "data": {
      "text/html": [
       "<div>\n",
       "<style scoped>\n",
       "    .dataframe tbody tr th:only-of-type {\n",
       "        vertical-align: middle;\n",
       "    }\n",
       "\n",
       "    .dataframe tbody tr th {\n",
       "        vertical-align: top;\n",
       "    }\n",
       "\n",
       "    .dataframe thead th {\n",
       "        text-align: right;\n",
       "    }\n",
       "</style>\n",
       "<table border=\"1\" class=\"dataframe\">\n",
       "  <thead>\n",
       "    <tr style=\"text-align: right;\">\n",
       "      <th></th>\n",
       "      <th>primary_title</th>\n",
       "      <th>production_budget</th>\n",
       "      <th>domestic_gross</th>\n",
       "      <th>worldwide_gross</th>\n",
       "    </tr>\n",
       "  </thead>\n",
       "  <tbody>\n",
       "    <tr>\n",
       "      <th>0</th>\n",
       "      <td>Avatar</td>\n",
       "      <td>$425,000,000</td>\n",
       "      <td>$760,507,625</td>\n",
       "      <td>$2,776,345,279</td>\n",
       "    </tr>\n",
       "    <tr>\n",
       "      <th>1</th>\n",
       "      <td>Pirates of the Caribbean: On Stranger Tides</td>\n",
       "      <td>$410,600,000</td>\n",
       "      <td>$241,063,875</td>\n",
       "      <td>$1,045,663,875</td>\n",
       "    </tr>\n",
       "  </tbody>\n",
       "</table>\n",
       "</div>"
      ],
      "text/plain": [
       "                                 primary_title production_budget  \\\n",
       "0                                       Avatar      $425,000,000   \n",
       "1  Pirates of the Caribbean: On Stranger Tides      $410,600,000   \n",
       "\n",
       "  domestic_gross worldwide_gross  \n",
       "0   $760,507,625  $2,776,345,279  \n",
       "1   $241,063,875  $1,045,663,875  "
      ]
     },
     "execution_count": 12,
     "metadata": {},
     "output_type": "execute_result"
    }
   ],
   "source": [
    "#5782 rows\n",
    "movies_money.head(2)"
   ]
  },
  {
   "cell_type": "code",
   "execution_count": 13,
   "metadata": {},
   "outputs": [],
   "source": [
    "# Using method str.replace to remove ',' and '$' from the data columns \n",
    "# Using astype to change the values in those columns from String to Float because to Int gives an error\n",
    "\n",
    "movies_money['worldwide_gross'] = movies_money['worldwide_gross'].str.replace(',', '')\n",
    "movies_money['worldwide_gross'] = movies_money['worldwide_gross'].str.replace('$', '')\n",
    "movies_money['worldwide_gross'] = movies_money['worldwide_gross'].astype(float)\n",
    "\n",
    "movies_money['production_budget'] = movies_money['production_budget'].str.replace(',', '')\n",
    "movies_money['production_budget'] = movies_money['production_budget'].str.replace('$', '')\n",
    "movies_money['production_budget'] = movies_money['production_budget'].astype(float)\n",
    "\n",
    "movies_money['domestic_gross'] = movies_money['domestic_gross'].str.replace(',', '')\n",
    "movies_money['domestic_gross'] = movies_money['domestic_gross'].str.replace('$', '')\n",
    "movies_money['domestic_gross'] = movies_money['domestic_gross'].astype(float)\n"
   ]
  },
  {
   "cell_type": "code",
   "execution_count": 14,
   "metadata": {},
   "outputs": [],
   "source": [
    "# Creating a new column to give the investment return (How many dollars you get per dollar invested)\n",
    "# Checking for duplicated entries on the data based on the primary title column q\n",
    "# Dropping all the duplicates, not keeping any so it doesn't conflict with the other table and we get false information\n",
    "# Checking one last time to see if we still have duplicates\n",
    "\n",
    "movies_money['investment_return'] = movies_money['worldwide_gross']/movies_money['production_budget']\n",
    "movies_money['investment_return'] = movies_money['investment_return'] - 1\n",
    "\n",
    "duplicates_money = movies_money[movies_money.duplicated(subset=['primary_title'],keep=False)].sort_values(['primary_title'])\n",
    "duplicates_money.head(6)\n",
    "\n",
    "movies_money.drop_duplicates(subset='primary_title', keep=False, inplace=True)\n"
   ]
  },
  {
   "cell_type": "code",
   "execution_count": 15,
   "metadata": {
    "scrolled": true
   },
   "outputs": [
    {
     "data": {
      "text/html": [
       "<div>\n",
       "<style scoped>\n",
       "    .dataframe tbody tr th:only-of-type {\n",
       "        vertical-align: middle;\n",
       "    }\n",
       "\n",
       "    .dataframe tbody tr th {\n",
       "        vertical-align: top;\n",
       "    }\n",
       "\n",
       "    .dataframe thead th {\n",
       "        text-align: right;\n",
       "    }\n",
       "</style>\n",
       "<table border=\"1\" class=\"dataframe\">\n",
       "  <thead>\n",
       "    <tr style=\"text-align: right;\">\n",
       "      <th></th>\n",
       "      <th>primary_title</th>\n",
       "      <th>production_budget</th>\n",
       "      <th>domestic_gross</th>\n",
       "      <th>worldwide_gross</th>\n",
       "      <th>investment_return</th>\n",
       "    </tr>\n",
       "  </thead>\n",
       "  <tbody>\n",
       "    <tr>\n",
       "      <th>0</th>\n",
       "      <td>Avatar</td>\n",
       "      <td>425000000.0</td>\n",
       "      <td>760507625.0</td>\n",
       "      <td>2.776345e+09</td>\n",
       "      <td>5.532577</td>\n",
       "    </tr>\n",
       "    <tr>\n",
       "      <th>1</th>\n",
       "      <td>Pirates of the Caribbean: On Stranger Tides</td>\n",
       "      <td>410600000.0</td>\n",
       "      <td>241063875.0</td>\n",
       "      <td>1.045664e+09</td>\n",
       "      <td>1.546673</td>\n",
       "    </tr>\n",
       "  </tbody>\n",
       "</table>\n",
       "</div>"
      ],
      "text/plain": [
       "                                 primary_title  production_budget  \\\n",
       "0                                       Avatar        425000000.0   \n",
       "1  Pirates of the Caribbean: On Stranger Tides        410600000.0   \n",
       "\n",
       "   domestic_gross  worldwide_gross  investment_return  \n",
       "0     760507625.0     2.776345e+09           5.532577  \n",
       "1     241063875.0     1.045664e+09           1.546673  "
      ]
     },
     "execution_count": 15,
     "metadata": {},
     "output_type": "execute_result"
    }
   ],
   "source": [
    "movies_money.head(2)"
   ]
  },
  {
   "cell_type": "markdown",
   "metadata": {},
   "source": [
    "# Creating the new table moviesfullinfo"
   ]
  },
  {
   "cell_type": "markdown",
   "metadata": {},
   "source": [
    "The idea here is to join two tables to make one with ratings and money to make mostly a correlation between these 2 metrics"
   ]
  },
  {
   "cell_type": "code",
   "execution_count": 16,
   "metadata": {},
   "outputs": [],
   "source": [
    "# Dropping Tconst, since this one is supposed to be the final table to use for graphs\n",
    "# Dropping nan's values\n",
    "# Creating a filter to only movies that had a budget over a million dollars\n",
    "\n",
    "#new_df = pd.merge(A_df, B_df,  how='left', left_on=['A_c1','c2'], right_on = ['B_c1','c2'])\n",
    "\n",
    "moviesfullinfo = movies_money.join(titlegenrerating.set_index('primary_title'), on='primary_title')\n",
    "moviesfullinfo.drop(['tconst'], axis=1, inplace=True)\n",
    "moviesfullinfo = moviesfullinfo.dropna()\n",
    "moviesfullinfo = moviesfullinfo[moviesfullinfo['production_budget'] >= 1000000]\n",
    "moviesfullinfo = moviesfullinfo[moviesfullinfo['worldwide_gross'] >= 1]"
   ]
  },
  {
   "cell_type": "code",
   "execution_count": 17,
   "metadata": {
    "scrolled": false
   },
   "outputs": [
    {
     "data": {
      "text/html": [
       "<div>\n",
       "<style scoped>\n",
       "    .dataframe tbody tr th:only-of-type {\n",
       "        vertical-align: middle;\n",
       "    }\n",
       "\n",
       "    .dataframe tbody tr th {\n",
       "        vertical-align: top;\n",
       "    }\n",
       "\n",
       "    .dataframe thead th {\n",
       "        text-align: right;\n",
       "    }\n",
       "</style>\n",
       "<table border=\"1\" class=\"dataframe\">\n",
       "  <thead>\n",
       "    <tr style=\"text-align: right;\">\n",
       "      <th></th>\n",
       "      <th>primary_title</th>\n",
       "      <th>production_budget</th>\n",
       "      <th>domestic_gross</th>\n",
       "      <th>worldwide_gross</th>\n",
       "      <th>investment_return</th>\n",
       "      <th>averagerating</th>\n",
       "      <th>numvotes</th>\n",
       "      <th>start_year</th>\n",
       "      <th>genres</th>\n",
       "    </tr>\n",
       "  </thead>\n",
       "  <tbody>\n",
       "    <tr>\n",
       "      <th>0</th>\n",
       "      <td>Avatar</td>\n",
       "      <td>425000000.0</td>\n",
       "      <td>760507625.0</td>\n",
       "      <td>2.776345e+09</td>\n",
       "      <td>5.532577</td>\n",
       "      <td>6.1</td>\n",
       "      <td>43.0</td>\n",
       "      <td>2011.0</td>\n",
       "      <td>Horror</td>\n",
       "    </tr>\n",
       "    <tr>\n",
       "      <th>1</th>\n",
       "      <td>Pirates of the Caribbean: On Stranger Tides</td>\n",
       "      <td>410600000.0</td>\n",
       "      <td>241063875.0</td>\n",
       "      <td>1.045664e+09</td>\n",
       "      <td>1.546673</td>\n",
       "      <td>6.6</td>\n",
       "      <td>447624.0</td>\n",
       "      <td>2011.0</td>\n",
       "      <td>Action,Adventure,Fantasy</td>\n",
       "    </tr>\n",
       "    <tr>\n",
       "      <th>2</th>\n",
       "      <td>Dark Phoenix</td>\n",
       "      <td>350000000.0</td>\n",
       "      <td>42762350.0</td>\n",
       "      <td>1.497624e+08</td>\n",
       "      <td>-0.572108</td>\n",
       "      <td>6.0</td>\n",
       "      <td>24451.0</td>\n",
       "      <td>2019.0</td>\n",
       "      <td>Action,Adventure,Sci-Fi</td>\n",
       "    </tr>\n",
       "  </tbody>\n",
       "</table>\n",
       "</div>"
      ],
      "text/plain": [
       "                                 primary_title  production_budget  \\\n",
       "0                                       Avatar        425000000.0   \n",
       "1  Pirates of the Caribbean: On Stranger Tides        410600000.0   \n",
       "2                                 Dark Phoenix        350000000.0   \n",
       "\n",
       "   domestic_gross  worldwide_gross  investment_return  averagerating  \\\n",
       "0     760507625.0     2.776345e+09           5.532577            6.1   \n",
       "1     241063875.0     1.045664e+09           1.546673            6.6   \n",
       "2      42762350.0     1.497624e+08          -0.572108            6.0   \n",
       "\n",
       "   numvotes  start_year                    genres  \n",
       "0      43.0      2011.0                    Horror  \n",
       "1  447624.0      2011.0  Action,Adventure,Fantasy  \n",
       "2   24451.0      2019.0   Action,Adventure,Sci-Fi  "
      ]
     },
     "execution_count": 17,
     "metadata": {},
     "output_type": "execute_result"
    }
   ],
   "source": [
    "#2410 rows\n",
    "moviesfullinfo.head(3)"
   ]
  },
  {
   "cell_type": "markdown",
   "metadata": {},
   "source": [
    "# Creating the new table movieswoutratings"
   ]
  },
  {
   "cell_type": "markdown",
   "metadata": {},
   "source": [
    "Here the goal was to make a table to make a correlation between Genre, Production, Worldwide Gross, Domestic Gross and ROI's"
   ]
  },
  {
   "cell_type": "code",
   "execution_count": 18,
   "metadata": {},
   "outputs": [],
   "source": [
    "# Using method str.replace to remove ',' and '$' from the data columns \n",
    "# Using astype to change the values in those columns from String to Float because to Int gives an error\n",
    "\n",
    "movieswoutratings = moviesfullinfo\n",
    "movieswoutratings = movieswoutratings.dropna()\n",
    "\n",
    "movieswoutratings = movieswoutratings[movieswoutratings['production_budget'] >= 1000000]\n",
    "\n",
    "movieswoutratings = movieswoutratings[movieswoutratings['production_budget'] >= 1000000]\n",
    "movieswoutratings = movieswoutratings[movieswoutratings['worldwide_gross'] >= 1]"
   ]
  },
  {
   "cell_type": "code",
   "execution_count": 19,
   "metadata": {
    "scrolled": true
   },
   "outputs": [
    {
     "data": {
      "text/html": [
       "<div>\n",
       "<style scoped>\n",
       "    .dataframe tbody tr th:only-of-type {\n",
       "        vertical-align: middle;\n",
       "    }\n",
       "\n",
       "    .dataframe tbody tr th {\n",
       "        vertical-align: top;\n",
       "    }\n",
       "\n",
       "    .dataframe thead th {\n",
       "        text-align: right;\n",
       "    }\n",
       "</style>\n",
       "<table border=\"1\" class=\"dataframe\">\n",
       "  <thead>\n",
       "    <tr style=\"text-align: right;\">\n",
       "      <th></th>\n",
       "      <th>primary_title</th>\n",
       "      <th>production_budget</th>\n",
       "      <th>domestic_gross</th>\n",
       "      <th>worldwide_gross</th>\n",
       "      <th>investment_return</th>\n",
       "      <th>averagerating</th>\n",
       "      <th>numvotes</th>\n",
       "      <th>start_year</th>\n",
       "      <th>genres</th>\n",
       "    </tr>\n",
       "  </thead>\n",
       "  <tbody>\n",
       "    <tr>\n",
       "      <th>0</th>\n",
       "      <td>Avatar</td>\n",
       "      <td>425000000.0</td>\n",
       "      <td>760507625.0</td>\n",
       "      <td>2.776345e+09</td>\n",
       "      <td>5.532577</td>\n",
       "      <td>6.1</td>\n",
       "      <td>43.0</td>\n",
       "      <td>2011.0</td>\n",
       "      <td>Horror</td>\n",
       "    </tr>\n",
       "    <tr>\n",
       "      <th>1</th>\n",
       "      <td>Pirates of the Caribbean: On Stranger Tides</td>\n",
       "      <td>410600000.0</td>\n",
       "      <td>241063875.0</td>\n",
       "      <td>1.045664e+09</td>\n",
       "      <td>1.546673</td>\n",
       "      <td>6.6</td>\n",
       "      <td>447624.0</td>\n",
       "      <td>2011.0</td>\n",
       "      <td>Action,Adventure,Fantasy</td>\n",
       "    </tr>\n",
       "    <tr>\n",
       "      <th>2</th>\n",
       "      <td>Dark Phoenix</td>\n",
       "      <td>350000000.0</td>\n",
       "      <td>42762350.0</td>\n",
       "      <td>1.497624e+08</td>\n",
       "      <td>-0.572108</td>\n",
       "      <td>6.0</td>\n",
       "      <td>24451.0</td>\n",
       "      <td>2019.0</td>\n",
       "      <td>Action,Adventure,Sci-Fi</td>\n",
       "    </tr>\n",
       "    <tr>\n",
       "      <th>3</th>\n",
       "      <td>Avengers: Age of Ultron</td>\n",
       "      <td>330600000.0</td>\n",
       "      <td>459005868.0</td>\n",
       "      <td>1.403014e+09</td>\n",
       "      <td>3.243841</td>\n",
       "      <td>7.3</td>\n",
       "      <td>665594.0</td>\n",
       "      <td>2015.0</td>\n",
       "      <td>Action,Adventure,Sci-Fi</td>\n",
       "    </tr>\n",
       "    <tr>\n",
       "      <th>6</th>\n",
       "      <td>Avengers: Infinity War</td>\n",
       "      <td>300000000.0</td>\n",
       "      <td>678815482.0</td>\n",
       "      <td>2.048134e+09</td>\n",
       "      <td>5.827114</td>\n",
       "      <td>8.5</td>\n",
       "      <td>670926.0</td>\n",
       "      <td>2018.0</td>\n",
       "      <td>Action,Adventure,Sci-Fi</td>\n",
       "    </tr>\n",
       "  </tbody>\n",
       "</table>\n",
       "</div>"
      ],
      "text/plain": [
       "                                 primary_title  production_budget  \\\n",
       "0                                       Avatar        425000000.0   \n",
       "1  Pirates of the Caribbean: On Stranger Tides        410600000.0   \n",
       "2                                 Dark Phoenix        350000000.0   \n",
       "3                      Avengers: Age of Ultron        330600000.0   \n",
       "6                       Avengers: Infinity War        300000000.0   \n",
       "\n",
       "   domestic_gross  worldwide_gross  investment_return  averagerating  \\\n",
       "0     760507625.0     2.776345e+09           5.532577            6.1   \n",
       "1     241063875.0     1.045664e+09           1.546673            6.6   \n",
       "2      42762350.0     1.497624e+08          -0.572108            6.0   \n",
       "3     459005868.0     1.403014e+09           3.243841            7.3   \n",
       "6     678815482.0     2.048134e+09           5.827114            8.5   \n",
       "\n",
       "   numvotes  start_year                    genres  \n",
       "0      43.0      2011.0                    Horror  \n",
       "1  447624.0      2011.0  Action,Adventure,Fantasy  \n",
       "2   24451.0      2019.0   Action,Adventure,Sci-Fi  \n",
       "3  665594.0      2015.0   Action,Adventure,Sci-Fi  \n",
       "6  670926.0      2018.0   Action,Adventure,Sci-Fi  "
      ]
     },
     "execution_count": 19,
     "metadata": {},
     "output_type": "execute_result"
    }
   ],
   "source": [
    "#3392 rows\n",
    "movieswoutratings.head()"
   ]
  },
  {
   "cell_type": "markdown",
   "metadata": {},
   "source": [
    "# Making tables for each genre"
   ]
  },
  {
   "cell_type": "markdown",
   "metadata": {},
   "source": [
    "Created a table for each genre, so it's easier to see and manipulate"
   ]
  },
  {
   "cell_type": "code",
   "execution_count": 255,
   "metadata": {},
   "outputs": [],
   "source": [
    "listatest = []\n",
    "generos = \"action, adventure, animation, biography, crime, documentary, drama, family, fantasy, history, horror, music, musical, mystery, romance, sci-fi, sport, thriller, war, western\"\n",
    "listatest.append(generos.split(\",\"))\n",
    "listatest = listatest[0]"
   ]
  },
  {
   "cell_type": "code",
   "execution_count": 256,
   "metadata": {},
   "outputs": [
    {
     "data": {
      "text/plain": [
       "' sci-fi'"
      ]
     },
     "execution_count": 256,
     "metadata": {},
     "output_type": "execute_result"
    }
   ],
   "source": [
    "listatest[15]"
   ]
  },
  {
   "cell_type": "code",
   "execution_count": 257,
   "metadata": {},
   "outputs": [],
   "source": [
    "def get_df_genre(genre):\n",
    "    '''\n",
    "    This function gets a dataset based on the Genre\n",
    "    '''\n",
    "    return moviesfullinfo[moviesfullinfo['genres'].str.contains(genre.title().strip())]"
   ]
  },
  {
   "cell_type": "code",
   "execution_count": 258,
   "metadata": {},
   "outputs": [],
   "source": [
    "all_genre_df = []\n",
    "for genre in listatest:\n",
    "    all_genre_df.append(get_df_genre(genre))\n",
    "    "
   ]
  },
  {
   "cell_type": "code",
   "execution_count": 260,
   "metadata": {
    "scrolled": false
   },
   "outputs": [
    {
     "data": {
      "text/html": [
       "<div>\n",
       "<style scoped>\n",
       "    .dataframe tbody tr th:only-of-type {\n",
       "        vertical-align: middle;\n",
       "    }\n",
       "\n",
       "    .dataframe tbody tr th {\n",
       "        vertical-align: top;\n",
       "    }\n",
       "\n",
       "    .dataframe thead th {\n",
       "        text-align: right;\n",
       "    }\n",
       "</style>\n",
       "<table border=\"1\" class=\"dataframe\">\n",
       "  <thead>\n",
       "    <tr style=\"text-align: right;\">\n",
       "      <th></th>\n",
       "      <th>primary_title</th>\n",
       "      <th>production_budget</th>\n",
       "      <th>domestic_gross</th>\n",
       "      <th>worldwide_gross</th>\n",
       "      <th>investment_return</th>\n",
       "      <th>averagerating</th>\n",
       "      <th>numvotes</th>\n",
       "      <th>start_year</th>\n",
       "      <th>genres</th>\n",
       "    </tr>\n",
       "  </thead>\n",
       "  <tbody>\n",
       "    <tr>\n",
       "      <th>2</th>\n",
       "      <td>Dark Phoenix</td>\n",
       "      <td>350000000.0</td>\n",
       "      <td>42762350.0</td>\n",
       "      <td>1.497624e+08</td>\n",
       "      <td>-0.572108</td>\n",
       "      <td>6.0</td>\n",
       "      <td>24451.0</td>\n",
       "      <td>2019.0</td>\n",
       "      <td>Action,Adventure,Sci-Fi</td>\n",
       "    </tr>\n",
       "    <tr>\n",
       "      <th>3</th>\n",
       "      <td>Avengers: Age of Ultron</td>\n",
       "      <td>330600000.0</td>\n",
       "      <td>459005868.0</td>\n",
       "      <td>1.403014e+09</td>\n",
       "      <td>3.243841</td>\n",
       "      <td>7.3</td>\n",
       "      <td>665594.0</td>\n",
       "      <td>2015.0</td>\n",
       "      <td>Action,Adventure,Sci-Fi</td>\n",
       "    </tr>\n",
       "    <tr>\n",
       "      <th>6</th>\n",
       "      <td>Avengers: Infinity War</td>\n",
       "      <td>300000000.0</td>\n",
       "      <td>678815482.0</td>\n",
       "      <td>2.048134e+09</td>\n",
       "      <td>5.827114</td>\n",
       "      <td>8.5</td>\n",
       "      <td>670926.0</td>\n",
       "      <td>2018.0</td>\n",
       "      <td>Action,Adventure,Sci-Fi</td>\n",
       "    </tr>\n",
       "    <tr>\n",
       "      <th>13</th>\n",
       "      <td>John Carter</td>\n",
       "      <td>275000000.0</td>\n",
       "      <td>73058679.0</td>\n",
       "      <td>2.827781e+08</td>\n",
       "      <td>0.028284</td>\n",
       "      <td>6.6</td>\n",
       "      <td>241792.0</td>\n",
       "      <td>2012.0</td>\n",
       "      <td>Action,Adventure,Sci-Fi</td>\n",
       "    </tr>\n",
       "    <tr>\n",
       "      <th>16</th>\n",
       "      <td>Captain America: Civil War</td>\n",
       "      <td>250000000.0</td>\n",
       "      <td>408084349.0</td>\n",
       "      <td>1.140069e+09</td>\n",
       "      <td>3.560278</td>\n",
       "      <td>7.8</td>\n",
       "      <td>583507.0</td>\n",
       "      <td>2016.0</td>\n",
       "      <td>Action,Adventure,Sci-Fi</td>\n",
       "    </tr>\n",
       "  </tbody>\n",
       "</table>\n",
       "</div>"
      ],
      "text/plain": [
       "                 primary_title  production_budget  domestic_gross  \\\n",
       "2                 Dark Phoenix        350000000.0      42762350.0   \n",
       "3      Avengers: Age of Ultron        330600000.0     459005868.0   \n",
       "6       Avengers: Infinity War        300000000.0     678815482.0   \n",
       "13                 John Carter        275000000.0      73058679.0   \n",
       "16  Captain America: Civil War        250000000.0     408084349.0   \n",
       "\n",
       "    worldwide_gross  investment_return  averagerating  numvotes  start_year  \\\n",
       "2      1.497624e+08          -0.572108            6.0   24451.0      2019.0   \n",
       "3      1.403014e+09           3.243841            7.3  665594.0      2015.0   \n",
       "6      2.048134e+09           5.827114            8.5  670926.0      2018.0   \n",
       "13     2.827781e+08           0.028284            6.6  241792.0      2012.0   \n",
       "16     1.140069e+09           3.560278            7.8  583507.0      2016.0   \n",
       "\n",
       "                     genres  \n",
       "2   Action,Adventure,Sci-Fi  \n",
       "3   Action,Adventure,Sci-Fi  \n",
       "6   Action,Adventure,Sci-Fi  \n",
       "13  Action,Adventure,Sci-Fi  \n",
       "16  Action,Adventure,Sci-Fi  "
      ]
     },
     "execution_count": 260,
     "metadata": {},
     "output_type": "execute_result"
    }
   ],
   "source": [
    "all_genre_df[15].head()"
   ]
  },
  {
   "cell_type": "code",
   "execution_count": 261,
   "metadata": {},
   "outputs": [],
   "source": [
    "def avg_rating_genre(dataframe):\n",
    "    '''\n",
    "    This function gets the avarage(mean) rating based on the Genre\n",
    "    '''\n",
    "    return(dataframe['averagerating'].mean())\n"
   ]
  },
  {
   "cell_type": "code",
   "execution_count": 262,
   "metadata": {
    "scrolled": false
   },
   "outputs": [],
   "source": [
    "avg_rating_per_genre1 = []\n",
    "for rating in all_genre_df:\n",
    "    avg_rating_per_genre1.append(avg_rating_genre(rating))"
   ]
  },
  {
   "cell_type": "code",
   "execution_count": 263,
   "metadata": {},
   "outputs": [
    {
     "data": {
      "text/plain": [
       "[6.258284600389862,\n",
       " 6.487146529562983,\n",
       " 6.556410256410256,\n",
       " 6.998265895953759,\n",
       " 6.370805369127515,\n",
       " 7.112142857142863,\n",
       " 6.503302286198149,\n",
       " 6.130088495575223,\n",
       " 6.064925373134325,\n",
       " 6.783333333333336,\n",
       " 5.589999999999997,\n",
       " 6.423287671232873,\n",
       " 6.306666666666668,\n",
       " 6.112426035502957,\n",
       " 6.242962962962962,\n",
       " 6.351874999999999,\n",
       " 6.549999999999998,\n",
       " 6.021818181818183,\n",
       " 6.528571428571428,\n",
       " 6.7153846153846155]"
      ]
     },
     "execution_count": 263,
     "metadata": {},
     "output_type": "execute_result"
    }
   ],
   "source": [
    "avg_rating_per_genre1"
   ]
  },
  {
   "cell_type": "code",
   "execution_count": 264,
   "metadata": {},
   "outputs": [],
   "source": [
    "def avg_roi_genre(dataframe):\n",
    "    '''\n",
    "    This function gets the ROI based on the Genre\n",
    "    '''\n",
    "    worldgross = sum(dataframe['worldwide_gross'])\n",
    "    prodbudget = sum(dataframe['production_budget'])\n",
    "    print(prodbudget)\n",
    "    return (worldgross/prodbudget-1)*100\n"
   ]
  },
  {
   "cell_type": "code",
   "execution_count": 265,
   "metadata": {
    "scrolled": true
   },
   "outputs": [
    {
     "name": "stdout",
     "output_type": "stream",
     "text": [
      "36530200000.0\n",
      "37419383106.0\n",
      "10732500000.0\n",
      "4717000479.0\n",
      "9230207373.0\n",
      "4138343106.0\n",
      "30528537142.0\n",
      "6430700000.0\n",
      "9999500000.0\n",
      "2198400000.0\n",
      "5772267373.0\n",
      "1454450000.0\n",
      "473200000.0\n",
      "4256855023.0\n",
      "5670990000.0\n",
      "13167157373.0\n",
      "1304400000.0\n",
      "12389042673.0\n",
      "849500000.0\n",
      "665800000.0\n"
     ]
    }
   ],
   "source": [
    "avg_roi_per_genre = []\n",
    "for genre_df in all_genre_df:\n",
    "    avg_roi_per_genre.append(avg_roi_genre(genre_df))"
   ]
  },
  {
   "cell_type": "code",
   "execution_count": 173,
   "metadata": {
    "scrolled": true
   },
   "outputs": [
    {
     "name": "stdout",
     "output_type": "stream",
     "text": [
      "159.6447131563673\n"
     ]
    }
   ],
   "source": [
    "avg_roi_genre(documentary)"
   ]
  },
  {
   "cell_type": "code",
   "execution_count": 172,
   "metadata": {},
   "outputs": [
    {
     "data": {
      "text/plain": [
       "\"['action', ' adventure', ' animation', ' biography', ' crime', ' documentary', ' drama', ' family', ' fantasy', ' history', ' horror', ' music', ' musical', ' mystery', ' romance', ' scifi', ' sport', ' thriller', ' war', ' western']\""
      ]
     },
     "execution_count": 172,
     "metadata": {},
     "output_type": "execute_result"
    }
   ],
   "source": [
    "str(listatest)"
   ]
  },
  {
   "cell_type": "code",
   "execution_count": 76,
   "metadata": {},
   "outputs": [
    {
     "data": {
      "text/plain": [
       "'action'"
      ]
     },
     "execution_count": 76,
     "metadata": {},
     "output_type": "execute_result"
    }
   ],
   "source": [
    "avg_roi_per_genre = [198.8863695408183, 230.17935080599776, 269.3128482366643, 187.1707223966979, 150.52689770158648, 159.6447131563673 ]\n",
    "\n",
    "    \n",
    "    "
   ]
  },
  {
   "cell_type": "code",
   "execution_count": null,
   "metadata": {},
   "outputs": [],
   "source": [
    "action = moviesfullinfo[moviesfullinfo['genres'].str.contains(\"Action\")]\n",
    "adventure = moviesfullinfo[moviesfullinfo['genres'].str.contains(\"Adventure\")]\n",
    "animation = moviesfullinfo[moviesfullinfo['genres'].str.contains(\"Animation\")]\n",
    "biography = moviesfullinfo[moviesfullinfo['genres'].str.contains(\"Biography\")]\n",
    "crime = moviesfullinfo[moviesfullinfo['genres'].str.contains(\"Crime\")]\n",
    "documentary = moviesfullinfo[moviesfullinfo['genres'].str.contains(\"Documentary\")]\n",
    "drama = moviesfullinfo[moviesfullinfo['genres'].str.contains(\"Drama\")]\n",
    "family = moviesfullinfo[moviesfullinfo['genres'].str.contains(\"Family\")]\n",
    "fantasy = moviesfullinfo[moviesfullinfo['genres'].str.contains(\"Fantasy\")]\n",
    "history = moviesfullinfo[moviesfullinfo['genres'].str.contains(\"History\")]\n",
    "horror = moviesfullinfo[moviesfullinfo['genres'].str.contains(\"Horror\")]\n",
    "music = moviesfullinfo[moviesfullinfo['genres'].str.contains(\"Music\")]\n",
    "musical = moviesfullinfo[moviesfullinfo['genres'].str.contains(\"Musical\")]\n",
    "mystery = moviesfullinfo[moviesfullinfo['genres'].str.contains(\"Mystery\")]\n",
    "romance = moviesfullinfo[moviesfullinfo['genres'].str.contains(\"Romance\")]\n",
    "scifi = moviesfullinfo[moviesfullinfo['genres'].str.contains(\"Sci-Fi\")]\n",
    "sport = moviesfullinfo[moviesfullinfo['genres'].str.contains(\"Sport\")]\n",
    "thriller = moviesfullinfo[moviesfullinfo['genres'].str.contains(\"Thriller\")]\n",
    "war = moviesfullinfo[moviesfullinfo['genres'].str.contains(\"War\")]\n",
    "western = moviesfullinfo[moviesfullinfo['genres'].str.contains(\"Western\")]\n"
   ]
  },
  {
   "cell_type": "markdown",
   "metadata": {},
   "source": [
    "# To Do List TODAY"
   ]
  },
  {
   "cell_type": "markdown",
   "metadata": {},
   "source": [
    "Try to go with scatter plot with legends OR Bar Chart with ROI's?"
   ]
  },
  {
   "cell_type": "markdown",
   "metadata": {},
   "source": [
    "Make that table with the years only, so we have determine the period 2009 - 2019"
   ]
  },
  {
   "cell_type": "markdown",
   "metadata": {},
   "source": [
    "Join tables by both const and year"
   ]
  },
  {
   "cell_type": "markdown",
   "metadata": {},
   "source": [
    "# Visualization\n",
    "### Rating per genre\n",
    "- How likely is to have a better rating with the critics if your movie is a certain genre?\n",
    "    - Is there a best combination of Genre and Investment to get the best rating?\n"
   ]
  },
  {
   "cell_type": "markdown",
   "metadata": {},
   "source": [
    "> To answer that we use \"moviesfullinfo\" table that we prepared for this topic!"
   ]
  },
  {
   "cell_type": "code",
   "execution_count": 1,
   "metadata": {},
   "outputs": [],
   "source": [
    "# Tirar o avarage rating per genre\n",
    "# Plotar grafico\n",
    "\n",
    "# Fazer uma correlacao entre investimento e rating (x Money / 1 whole point?)\n",
    "# Is there a \"floor\", that after you break it,\n",
    "# you can presume that you get at least a 6?"
   ]
  },
  {
   "cell_type": "code",
   "execution_count": null,
   "metadata": {},
   "outputs": [],
   "source": [
    "sns.set_theme(style=\"ticks\")\n",
    "\n",
    "# Initialize the figure with a logarithmic x axis\n",
    "f, ax = plt.subplots(figsize=(7, 10))\n",
    "ax.set_xscale(\"log\")\n",
    "\n",
    "# Load the example planets dataset\n",
    "genre = sns.load_dataset(\"planets\")\n",
    "\n",
    "# Plot the orbital period with horizontal boxes\n",
    "sns.boxplot(x=\"distance\", y=\"method\", data=planets,\n",
    "            whis=[0, 100], width=.6, palette=\"vlag\")\n",
    "\n",
    "# Add in points to show each observation\n",
    "sns.stripplot(x=\"Avg. Rating per Genre\", y=\"Genre\", data=planets,\n",
    "              size=4, color=\".3\", linewidth=0)\n",
    "\n",
    "# Tweak the visual presentation\n",
    "ax.xaxis.grid(True)\n",
    "ax.set(ylabel=\"\")\n",
    "sns.despine(trim=True, left=True)"
   ]
  },
  {
   "cell_type": "markdown",
   "metadata": {},
   "source": [
    "### Money per genre\n",
    "- What is the best genre solely focused on how much money you can make?\n",
    "- What genre is the \"safest choice\"? Less likely to lose money?\n",
    "- What genre takes the least money to produce? And the most?\n"
   ]
  },
  {
   "cell_type": "markdown",
   "metadata": {},
   "source": [
    "```python\n",
    "\n",
    "\n",
    "intakes['event_num'] = intakes.sort_values(['intake_date']).groupby(['animal_id']).rank()\n",
    "outcomes['event_num'] = outcomes.sort_values(['outcome_date']).groupby(['animal_id']).rank()\n",
    "```"
   ]
  },
  {
   "cell_type": "markdown",
   "metadata": {},
   "source": [
    "### Minutes per genre\n",
    "- Are there genres that tend to last longer?\n",
    "- Lasting longer gives the movies more chance to profit more? How about ratings?"
   ]
  },
  {
   "cell_type": "code",
   "execution_count": null,
   "metadata": {},
   "outputs": [],
   "source": []
  }
 ],
 "metadata": {
  "kernelspec": {
   "display_name": "Python 3",
   "language": "python",
   "name": "python3"
  },
  "language_info": {
   "codemirror_mode": {
    "name": "ipython",
    "version": 3
   },
   "file_extension": ".py",
   "mimetype": "text/x-python",
   "name": "python",
   "nbconvert_exporter": "python",
   "pygments_lexer": "ipython3",
   "version": "3.8.5"
  }
 },
 "nbformat": 4,
 "nbformat_minor": 4
}
